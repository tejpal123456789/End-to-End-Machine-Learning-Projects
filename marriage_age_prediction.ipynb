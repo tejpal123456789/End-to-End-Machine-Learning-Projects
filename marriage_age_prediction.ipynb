{
  "nbformat": 4,
  "nbformat_minor": 0,
  "metadata": {
    "colab": {
      "name": "marriage_age_prediction.ipynb",
      "provenance": [],
      "collapsed_sections": [],
      "mount_file_id": "16faPBz1XQY--C5qWdnh2Bck4LLbB5zW3",
      "authorship_tag": "ABX9TyOWnSFuDHEPodz6XcJmwpqn",
      "include_colab_link": true
    },
    "kernelspec": {
      "display_name": "Python 3",
      "name": "python3"
    }
  },
  "cells": [
    {
      "cell_type": "markdown",
      "metadata": {
        "id": "view-in-github",
        "colab_type": "text"
      },
      "source": [
        "<a href=\"https://colab.research.google.com/github/tejpal123456789/End-to-End-Machine-Learning-Projects/blob/main/marriage_age_prediction.ipynb\" target=\"_parent\"><img src=\"https://colab.research.google.com/assets/colab-badge.svg\" alt=\"Open In Colab\"/></a>"
      ]
    },
    {
      "cell_type": "code",
      "metadata": {
        "colab": {
          "base_uri": "https://localhost:8080/",
          "height": 202
        },
        "id": "Obr43lKYS1dP",
        "outputId": "2cc4f1e7-9feb-4339-d592-d2f91a974e4e"
      },
      "source": [
        "import pandas as pd\r\n",
        "import numpy as np\r\n",
        "import seaborn as sns\r\n",
        "from matplotlib import pyplot as sns\r\n",
        "\r\n",
        "dataset=pd.read_csv('/content/drive/MyDrive/End to end machine learning Projects/Marriage Age Prediction/age_of_marriage_data.csv')\r\n",
        "dataset.head()"
      ],
      "execution_count": null,
      "outputs": [
        {
          "output_type": "execute_result",
          "data": {
            "text/html": [
              "<div>\n",
              "<style scoped>\n",
              "    .dataframe tbody tr th:only-of-type {\n",
              "        vertical-align: middle;\n",
              "    }\n",
              "\n",
              "    .dataframe tbody tr th {\n",
              "        vertical-align: top;\n",
              "    }\n",
              "\n",
              "    .dataframe thead th {\n",
              "        text-align: right;\n",
              "    }\n",
              "</style>\n",
              "<table border=\"1\" class=\"dataframe\">\n",
              "  <thead>\n",
              "    <tr style=\"text-align: right;\">\n",
              "      <th></th>\n",
              "      <th>id</th>\n",
              "      <th>gender</th>\n",
              "      <th>height</th>\n",
              "      <th>religion</th>\n",
              "      <th>caste</th>\n",
              "      <th>mother_tongue</th>\n",
              "      <th>profession</th>\n",
              "      <th>location</th>\n",
              "      <th>country</th>\n",
              "      <th>age_of_marriage</th>\n",
              "    </tr>\n",
              "  </thead>\n",
              "  <tbody>\n",
              "    <tr>\n",
              "      <th>0</th>\n",
              "      <td>1</td>\n",
              "      <td>female</td>\n",
              "      <td>5'4\"</td>\n",
              "      <td>NaN</td>\n",
              "      <td>others</td>\n",
              "      <td>Telugu</td>\n",
              "      <td>NaN</td>\n",
              "      <td>London</td>\n",
              "      <td>United Kingdom</td>\n",
              "      <td>21.0</td>\n",
              "    </tr>\n",
              "    <tr>\n",
              "      <th>1</th>\n",
              "      <td>2</td>\n",
              "      <td>male</td>\n",
              "      <td>5'7\"</td>\n",
              "      <td>Jain</td>\n",
              "      <td>Shwetamber</td>\n",
              "      <td>Gujarati</td>\n",
              "      <td>Doctor / Healthcare Professional</td>\n",
              "      <td>Fairfax- VA</td>\n",
              "      <td>USA</td>\n",
              "      <td>32.0</td>\n",
              "    </tr>\n",
              "    <tr>\n",
              "      <th>2</th>\n",
              "      <td>3</td>\n",
              "      <td>male</td>\n",
              "      <td>5'7\"</td>\n",
              "      <td>Hindu</td>\n",
              "      <td>Brahmin</td>\n",
              "      <td>Hindi</td>\n",
              "      <td>Entrepreneurs / Business</td>\n",
              "      <td>Begusarai</td>\n",
              "      <td>India</td>\n",
              "      <td>32.0</td>\n",
              "    </tr>\n",
              "    <tr>\n",
              "      <th>3</th>\n",
              "      <td>4</td>\n",
              "      <td>female</td>\n",
              "      <td>5'0\"</td>\n",
              "      <td>Hindu</td>\n",
              "      <td>Thakur</td>\n",
              "      <td>Hindi</td>\n",
              "      <td>Architect</td>\n",
              "      <td>Mumbai</td>\n",
              "      <td>India</td>\n",
              "      <td>30.0</td>\n",
              "    </tr>\n",
              "    <tr>\n",
              "      <th>4</th>\n",
              "      <td>5</td>\n",
              "      <td>male</td>\n",
              "      <td>5'5\"</td>\n",
              "      <td>Christian</td>\n",
              "      <td>Born Again</td>\n",
              "      <td>Malayalam</td>\n",
              "      <td>Sales Professional / Marketing</td>\n",
              "      <td>Sulthan Bathery</td>\n",
              "      <td>India</td>\n",
              "      <td>30.0</td>\n",
              "    </tr>\n",
              "  </tbody>\n",
              "</table>\n",
              "</div>"
            ],
            "text/plain": [
              "   id  gender height  ...         location          country age_of_marriage\n",
              "0   1  female   5'4\"  ...           London   United Kingdom            21.0\n",
              "1   2    male   5'7\"  ...      Fairfax- VA              USA            32.0\n",
              "2   3    male   5'7\"  ...        Begusarai            India            32.0\n",
              "3   4  female   5'0\"  ...           Mumbai            India            30.0\n",
              "4   5    male   5'5\"  ...  Sulthan Bathery            India            30.0\n",
              "\n",
              "[5 rows x 10 columns]"
            ]
          },
          "metadata": {
            "tags": []
          },
          "execution_count": 2
        }
      ]
    },
    {
      "cell_type": "markdown",
      "metadata": {
        "id": "WcOlYShcTquX"
      },
      "source": [
        "Data Preprocessing"
      ]
    },
    {
      "cell_type": "code",
      "metadata": {
        "colab": {
          "base_uri": "https://localhost:8080/",
          "height": 202
        },
        "id": "g_fL4_ncTssI",
        "outputId": "1857d651-52e6-4c68-8c9b-82c1c4d429f1"
      },
      "source": [
        "data=dataset.drop(['id'],axis=1)\r\n",
        "data.head()"
      ],
      "execution_count": null,
      "outputs": [
        {
          "output_type": "execute_result",
          "data": {
            "text/html": [
              "<div>\n",
              "<style scoped>\n",
              "    .dataframe tbody tr th:only-of-type {\n",
              "        vertical-align: middle;\n",
              "    }\n",
              "\n",
              "    .dataframe tbody tr th {\n",
              "        vertical-align: top;\n",
              "    }\n",
              "\n",
              "    .dataframe thead th {\n",
              "        text-align: right;\n",
              "    }\n",
              "</style>\n",
              "<table border=\"1\" class=\"dataframe\">\n",
              "  <thead>\n",
              "    <tr style=\"text-align: right;\">\n",
              "      <th></th>\n",
              "      <th>gender</th>\n",
              "      <th>height</th>\n",
              "      <th>religion</th>\n",
              "      <th>caste</th>\n",
              "      <th>mother_tongue</th>\n",
              "      <th>profession</th>\n",
              "      <th>location</th>\n",
              "      <th>country</th>\n",
              "      <th>age_of_marriage</th>\n",
              "    </tr>\n",
              "  </thead>\n",
              "  <tbody>\n",
              "    <tr>\n",
              "      <th>0</th>\n",
              "      <td>female</td>\n",
              "      <td>5'4\"</td>\n",
              "      <td>NaN</td>\n",
              "      <td>others</td>\n",
              "      <td>Telugu</td>\n",
              "      <td>NaN</td>\n",
              "      <td>London</td>\n",
              "      <td>United Kingdom</td>\n",
              "      <td>21.0</td>\n",
              "    </tr>\n",
              "    <tr>\n",
              "      <th>1</th>\n",
              "      <td>male</td>\n",
              "      <td>5'7\"</td>\n",
              "      <td>Jain</td>\n",
              "      <td>Shwetamber</td>\n",
              "      <td>Gujarati</td>\n",
              "      <td>Doctor / Healthcare Professional</td>\n",
              "      <td>Fairfax- VA</td>\n",
              "      <td>USA</td>\n",
              "      <td>32.0</td>\n",
              "    </tr>\n",
              "    <tr>\n",
              "      <th>2</th>\n",
              "      <td>male</td>\n",
              "      <td>5'7\"</td>\n",
              "      <td>Hindu</td>\n",
              "      <td>Brahmin</td>\n",
              "      <td>Hindi</td>\n",
              "      <td>Entrepreneurs / Business</td>\n",
              "      <td>Begusarai</td>\n",
              "      <td>India</td>\n",
              "      <td>32.0</td>\n",
              "    </tr>\n",
              "    <tr>\n",
              "      <th>3</th>\n",
              "      <td>female</td>\n",
              "      <td>5'0\"</td>\n",
              "      <td>Hindu</td>\n",
              "      <td>Thakur</td>\n",
              "      <td>Hindi</td>\n",
              "      <td>Architect</td>\n",
              "      <td>Mumbai</td>\n",
              "      <td>India</td>\n",
              "      <td>30.0</td>\n",
              "    </tr>\n",
              "    <tr>\n",
              "      <th>4</th>\n",
              "      <td>male</td>\n",
              "      <td>5'5\"</td>\n",
              "      <td>Christian</td>\n",
              "      <td>Born Again</td>\n",
              "      <td>Malayalam</td>\n",
              "      <td>Sales Professional / Marketing</td>\n",
              "      <td>Sulthan Bathery</td>\n",
              "      <td>India</td>\n",
              "      <td>30.0</td>\n",
              "    </tr>\n",
              "  </tbody>\n",
              "</table>\n",
              "</div>"
            ],
            "text/plain": [
              "   gender height   religion  ...         location          country age_of_marriage\n",
              "0  female   5'4\"        NaN  ...           London   United Kingdom            21.0\n",
              "1    male   5'7\"       Jain  ...      Fairfax- VA              USA            32.0\n",
              "2    male   5'7\"      Hindu  ...        Begusarai            India            32.0\n",
              "3  female   5'0\"      Hindu  ...           Mumbai            India            30.0\n",
              "4    male   5'5\"  Christian  ...  Sulthan Bathery            India            30.0\n",
              "\n",
              "[5 rows x 9 columns]"
            ]
          },
          "metadata": {
            "tags": []
          },
          "execution_count": 3
        }
      ]
    },
    {
      "cell_type": "markdown",
      "metadata": {
        "id": "1ISXF7zeUK2B"
      },
      "source": [
        "Handling Missing values"
      ]
    },
    {
      "cell_type": "code",
      "metadata": {
        "colab": {
          "base_uri": "https://localhost:8080/"
        },
        "id": "qsAwxu0hUMxZ",
        "outputId": "09cd645e-dbcb-4ce7-ea9c-61301439142a"
      },
      "source": [
        "data.shape"
      ],
      "execution_count": null,
      "outputs": [
        {
          "output_type": "execute_result",
          "data": {
            "text/plain": [
              "(2567, 9)"
            ]
          },
          "metadata": {
            "tags": []
          },
          "execution_count": 4
        }
      ]
    },
    {
      "cell_type": "code",
      "metadata": {
        "colab": {
          "base_uri": "https://localhost:8080/"
        },
        "id": "npdJNFtIUT9i",
        "outputId": "49b110a5-b01b-46f1-ddc5-d832345abb49"
      },
      "source": [
        "data.isnull().sum()"
      ],
      "execution_count": null,
      "outputs": [
        {
          "output_type": "execute_result",
          "data": {
            "text/plain": [
              "gender              29\n",
              "height             118\n",
              "religion           635\n",
              "caste              142\n",
              "mother_tongue      164\n",
              "profession         330\n",
              "location           155\n",
              "country             16\n",
              "age_of_marriage     19\n",
              "dtype: int64"
            ]
          },
          "metadata": {
            "tags": []
          },
          "execution_count": 5
        }
      ]
    },
    {
      "cell_type": "code",
      "metadata": {
        "colab": {
          "base_uri": "https://localhost:8080/"
        },
        "id": "R891DpAXUcog",
        "outputId": "97837c17-cc82-49b3-f5ed-519961c4fc5e"
      },
      "source": [
        "data.value_counts()"
      ],
      "execution_count": null,
      "outputs": [
        {
          "output_type": "execute_result",
          "data": {
            "text/plain": [
              "gender  height  religion   caste            mother_tongue  profession                                 location               country  age_of_marriage\n",
              "female  5'4\"    Hindu       Lingayath       Kannada        Software Professional                      Bengaluru / Bangalore   India   31.0               2\n",
              "        5'3\"    Hindu       Balija          Telugu         Managers and Senior Executives             Bengaluru / Bangalore   India   26.0               2\n",
              "male    5'11\"   Sikh        Kshatriya       Punjabi        Not Specified                              Punjab                  India   30.0               2\n",
              "female  5'5\"    Hindu       Sindhi-Sakkhar  Sindhi         Accounting Professional (Others)           Mumbai                  India   28.0               2\n",
              "male    6'4\"    Hindu       Saini           Hindi          Managers and Senior Executives             Delhi                   India   29.0               1\n",
              "                                                                                                                                                        ..\n",
              "        5'5\"    Hindu       Agarwal         Punjabi        Entrepreneurs / Business                   Sangrur                 India   30.0               1\n",
              "                                                           Lawyer                                     Bathinda                India   32.0               1\n",
              "                                                           Mariner                                    Patiala                 India   30.0               1\n",
              "                            Agri            Marathi        Accounting Professional (Others)           Raigad                  India   29.0               1\n",
              "female  4'10\"   Christian   Born Again      Konkani        Customer Support / BPO / KPO Professional  Panaji                  India   31.0               1\n",
              "Length: 1928, dtype: int64"
            ]
          },
          "metadata": {
            "tags": []
          },
          "execution_count": 6
        }
      ]
    },
    {
      "cell_type": "markdown",
      "metadata": {
        "id": "ciBr_WK3efhY"
      },
      "source": [
        "Handleing missing values"
      ]
    },
    {
      "cell_type": "code",
      "metadata": {
        "colab": {
          "base_uri": "https://localhost:8080/"
        },
        "id": "V6jLB8TpeiZV",
        "outputId": "d7bf6876-a4a4-4886-b23a-613c05a3e6a5"
      },
      "source": [
        "# categorical one\r\n",
        "\r\n",
        "data.info()"
      ],
      "execution_count": null,
      "outputs": [
        {
          "output_type": "stream",
          "text": [
            "<class 'pandas.core.frame.DataFrame'>\n",
            "RangeIndex: 2567 entries, 0 to 2566\n",
            "Data columns (total 9 columns):\n",
            " #   Column           Non-Null Count  Dtype  \n",
            "---  ------           --------------  -----  \n",
            " 0   gender           2538 non-null   object \n",
            " 1   height           2449 non-null   object \n",
            " 2   religion         1932 non-null   object \n",
            " 3   caste            2425 non-null   object \n",
            " 4   mother_tongue    2403 non-null   object \n",
            " 5   profession       2237 non-null   object \n",
            " 6   location         2412 non-null   object \n",
            " 7   country          2551 non-null   object \n",
            " 8   age_of_marriage  2548 non-null   float64\n",
            "dtypes: float64(1), object(8)\n",
            "memory usage: 180.6+ KB\n"
          ],
          "name": "stdout"
        }
      ]
    },
    {
      "cell_type": "code",
      "metadata": {
        "colab": {
          "base_uri": "https://localhost:8080/",
          "height": 311
        },
        "id": "K_RMFIsAeqoS",
        "outputId": "a6d9da8a-f429-4dc4-ea49-3f5475db10ba"
      },
      "source": [
        "data['gender'].value_counts().plot.bar()"
      ],
      "execution_count": null,
      "outputs": [
        {
          "output_type": "execute_result",
          "data": {
            "text/plain": [
              "<matplotlib.axes._subplots.AxesSubplot at 0x7faf06da8550>"
            ]
          },
          "metadata": {
            "tags": []
          },
          "execution_count": 8
        },
        {
          "output_type": "display_data",
          "data": {
            "image/png": "[encoded data removed]",
            "text/plain": [
              "<Figure size 432x288 with 1 Axes>"
            ]
          },
          "metadata": {
            "tags": [],
            "needs_background": "light"
          }
        }
      ]
    },
    {
      "cell_type": "markdown",
      "metadata": {
        "id": "U9CKCm2C5fqL"
      },
      "source": [
        "This is the one method to fill missing values"
      ]
    },
    {
      "cell_type": "code",
      "metadata": {
        "id": "nuY2JBqShEqD"
      },
      "source": [
        "\r\n",
        "def impute_nan_mode(df,variable):\r\n",
        "    mode=df[variable].mode()[0]\r\n",
        "    df[variable].fillna(mode,inplace=True)\r\n",
        "\r\n",
        "#impute_nan_value(data,'gender')\r\n",
        "#data.head()    "
      ],
      "execution_count": null,
      "outputs": []
    },
    {
      "cell_type": "code",
      "metadata": {
        "colab": {
          "base_uri": "https://localhost:8080/"
        },
        "id": "9rzIZ1Z8iGRR",
        "outputId": "e1486e9f-4c78-4a72-ba79-94dc42a0ce4b"
      },
      "source": [
        "data.isnull().sum()"
      ],
      "execution_count": null,
      "outputs": [
        {
          "output_type": "execute_result",
          "data": {
            "text/plain": [
              "gender              29\n",
              "height             118\n",
              "religion           635\n",
              "caste              142\n",
              "mother_tongue      164\n",
              "profession         330\n",
              "location           155\n",
              "country             16\n",
              "age_of_marriage     19\n",
              "dtype: int64"
            ]
          },
          "metadata": {
            "tags": []
          },
          "execution_count": 10
        }
      ]
    },
    {
      "cell_type": "markdown",
      "metadata": {
        "id": "Av8JGMvb5msk"
      },
      "source": [
        "Now we fill the missing values with the random values of the column"
      ]
    },
    {
      "cell_type": "code",
      "metadata": {
        "id": "QL7TiZoWiJkS"
      },
      "source": [
        ""
      ],
      "execution_count": null,
      "outputs": []
    },
    {
      "cell_type": "code",
      "metadata": {
        "colab": {
          "base_uri": "https://localhost:8080/"
        },
        "id": "_Sy8pMbi51pv",
        "outputId": "03ef4391-4e28-49ca-e4d7-d14712c7e127"
      },
      "source": [
        "data.isnull().sum()"
      ],
      "execution_count": null,
      "outputs": [
        {
          "output_type": "execute_result",
          "data": {
            "text/plain": [
              "gender              29\n",
              "height             118\n",
              "religion           635\n",
              "caste              142\n",
              "mother_tongue      164\n",
              "profession         330\n",
              "location           155\n",
              "country             16\n",
              "age_of_marriage     19\n",
              "dtype: int64"
            ]
          },
          "metadata": {
            "tags": []
          },
          "execution_count": 11
        }
      ]
    },
    {
      "cell_type": "code",
      "metadata": {
        "colab": {
          "base_uri": "https://localhost:8080/",
          "height": 355
        },
        "id": "_vqnEqGB55Rg",
        "outputId": "19d196bf-d8ee-4537-c5b4-9496c5c079fc"
      },
      "source": [
        "import seaborn as sns\r\n",
        "sns.countplot(data['gender'])"
      ],
      "execution_count": null,
      "outputs": [
        {
          "output_type": "stream",
          "text": [
            "/usr/local/lib/python3.6/dist-packages/seaborn/_decorators.py:43: FutureWarning: Pass the following variable as a keyword arg: x. From version 0.12, the only valid positional argument will be `data`, and passing other arguments without an explicit keyword will result in an error or misinterpretation.\n",
            "  FutureWarning\n"
          ],
          "name": "stderr"
        },
        {
          "output_type": "execute_result",
          "data": {
            "text/plain": [
              "<matplotlib.axes._subplots.AxesSubplot at 0x7faf06cfbbe0>"
            ]
          },
          "metadata": {
            "tags": []
          },
          "execution_count": 12
        },
        {
          "output_type": "display_data",
          "data": {
            "image/png": "[encoded data removed]",
            "text/plain": [
              "<Figure size 432x288 with 1 Axes>"
            ]
          },
          "metadata": {
            "tags": [],
            "needs_background": "light"
          }
        }
      ]
    },
    {
      "cell_type": "code",
      "metadata": {
        "colab": {
          "base_uri": "https://localhost:8080/",
          "height": 202
        },
        "id": "5XXwHjYM6KPz",
        "outputId": "4155d2be-6ce1-488d-d6dc-82a98670c39e"
      },
      "source": [
        "data.head()"
      ],
      "execution_count": null,
      "outputs": [
        {
          "output_type": "execute_result",
          "data": {
            "text/html": [
              "<div>\n",
              "<style scoped>\n",
              "    .dataframe tbody tr th:only-of-type {\n",
              "        vertical-align: middle;\n",
              "    }\n",
              "\n",
              "    .dataframe tbody tr th {\n",
              "        vertical-align: top;\n",
              "    }\n",
              "\n",
              "    .dataframe thead th {\n",
              "        text-align: right;\n",
              "    }\n",
              "</style>\n",
              "<table border=\"1\" class=\"dataframe\">\n",
              "  <thead>\n",
              "    <tr style=\"text-align: right;\">\n",
              "      <th></th>\n",
              "      <th>gender</th>\n",
              "      <th>height</th>\n",
              "      <th>religion</th>\n",
              "      <th>caste</th>\n",
              "      <th>mother_tongue</th>\n",
              "      <th>profession</th>\n",
              "      <th>location</th>\n",
              "      <th>country</th>\n",
              "      <th>age_of_marriage</th>\n",
              "    </tr>\n",
              "  </thead>\n",
              "  <tbody>\n",
              "    <tr>\n",
              "      <th>0</th>\n",
              "      <td>female</td>\n",
              "      <td>5'4\"</td>\n",
              "      <td>NaN</td>\n",
              "      <td>others</td>\n",
              "      <td>Telugu</td>\n",
              "      <td>NaN</td>\n",
              "      <td>London</td>\n",
              "      <td>United Kingdom</td>\n",
              "      <td>21.0</td>\n",
              "    </tr>\n",
              "    <tr>\n",
              "      <th>1</th>\n",
              "      <td>male</td>\n",
              "      <td>5'7\"</td>\n",
              "      <td>Jain</td>\n",
              "      <td>Shwetamber</td>\n",
              "      <td>Gujarati</td>\n",
              "      <td>Doctor / Healthcare Professional</td>\n",
              "      <td>Fairfax- VA</td>\n",
              "      <td>USA</td>\n",
              "      <td>32.0</td>\n",
              "    </tr>\n",
              "    <tr>\n",
              "      <th>2</th>\n",
              "      <td>male</td>\n",
              "      <td>5'7\"</td>\n",
              "      <td>Hindu</td>\n",
              "      <td>Brahmin</td>\n",
              "      <td>Hindi</td>\n",
              "      <td>Entrepreneurs / Business</td>\n",
              "      <td>Begusarai</td>\n",
              "      <td>India</td>\n",
              "      <td>32.0</td>\n",
              "    </tr>\n",
              "    <tr>\n",
              "      <th>3</th>\n",
              "      <td>female</td>\n",
              "      <td>5'0\"</td>\n",
              "      <td>Hindu</td>\n",
              "      <td>Thakur</td>\n",
              "      <td>Hindi</td>\n",
              "      <td>Architect</td>\n",
              "      <td>Mumbai</td>\n",
              "      <td>India</td>\n",
              "      <td>30.0</td>\n",
              "    </tr>\n",
              "    <tr>\n",
              "      <th>4</th>\n",
              "      <td>male</td>\n",
              "      <td>5'5\"</td>\n",
              "      <td>Christian</td>\n",
              "      <td>Born Again</td>\n",
              "      <td>Malayalam</td>\n",
              "      <td>Sales Professional / Marketing</td>\n",
              "      <td>Sulthan Bathery</td>\n",
              "      <td>India</td>\n",
              "      <td>30.0</td>\n",
              "    </tr>\n",
              "  </tbody>\n",
              "</table>\n",
              "</div>"
            ],
            "text/plain": [
              "   gender height   religion  ...         location          country age_of_marriage\n",
              "0  female   5'4\"        NaN  ...           London   United Kingdom            21.0\n",
              "1    male   5'7\"       Jain  ...      Fairfax- VA              USA            32.0\n",
              "2    male   5'7\"      Hindu  ...        Begusarai            India            32.0\n",
              "3  female   5'0\"      Hindu  ...           Mumbai            India            30.0\n",
              "4    male   5'5\"  Christian  ...  Sulthan Bathery            India            30.0\n",
              "\n",
              "[5 rows x 9 columns]"
            ]
          },
          "metadata": {
            "tags": []
          },
          "execution_count": 13
        }
      ]
    },
    {
      "cell_type": "markdown",
      "metadata": {
        "id": "Q49nq5CG6OX8"
      },
      "source": [
        "Now deal with Height"
      ]
    },
    {
      "cell_type": "code",
      "metadata": {
        "colab": {
          "base_uri": "https://localhost:8080/",
          "height": 35
        },
        "id": "jDQtMQnG6Sly",
        "outputId": "1cfac359-3a08-4150-c806-98f0a5580f9f"
      },
      "source": [
        "data['height'].mode()[0]"
      ],
      "execution_count": null,
      "outputs": [
        {
          "output_type": "execute_result",
          "data": {
            "application/vnd.google.colaboratory.intrinsic+json": {
              "type": "string"
            },
            "text/plain": [
              "'5\\'3\"'"
            ]
          },
          "metadata": {
            "tags": []
          },
          "execution_count": 14
        }
      ]
    },
    {
      "cell_type": "code",
      "metadata": {
        "colab": {
          "base_uri": "https://localhost:8080/",
          "height": 254
        },
        "id": "b8k76bfG6rX6",
        "outputId": "7bc6dd13-b49a-4db1-ac13-a9e531f6aae6"
      },
      "source": [
        "#def impute_random(df,variable):\r\n",
        "    \r\n",
        " #data[variable].fillna(lambda x: random.choice(data[data[variable] != np.nan][variable]), inplace =True)\r\n",
        " #return data\r\n",
        "#impute_random(data,'height') \r\n",
        "#data.isnull().sum()\r\n",
        "def impute_nan(df,variable):\r\n",
        "    \r\n",
        "    df[variable+\"_random\"]=df[variable]\r\n",
        "    ##It will have the random sample to fill the na\r\n",
        "    random_sample=df[variable].dropna().sample(df[variable].isnull().sum(),random_state=0)\r\n",
        "    ##pandas need to have same index in order to merge the dataset\r\n",
        "    random_sample.index=df[df[variable].isnull()].index\r\n",
        "    df.loc[df[variable].isnull(),variable+'_random']=random_sample\r\n",
        "impute_nan(data,'height')    \r\n",
        "data.isnull().sum()\r\n",
        "data.head()\r\n",
        "impute_nan(data,'gender')\r\n",
        "data.head()"
      ],
      "execution_count": null,
      "outputs": [
        {
          "output_type": "execute_result",
          "data": {
            "text/html": [
              "<div>\n",
              "<style scoped>\n",
              "    .dataframe tbody tr th:only-of-type {\n",
              "        vertical-align: middle;\n",
              "    }\n",
              "\n",
              "    .dataframe tbody tr th {\n",
              "        vertical-align: top;\n",
              "    }\n",
              "\n",
              "    .dataframe thead th {\n",
              "        text-align: right;\n",
              "    }\n",
              "</style>\n",
              "<table border=\"1\" class=\"dataframe\">\n",
              "  <thead>\n",
              "    <tr style=\"text-align: right;\">\n",
              "      <th></th>\n",
              "      <th>gender</th>\n",
              "      <th>height</th>\n",
              "      <th>religion</th>\n",
              "      <th>caste</th>\n",
              "      <th>mother_tongue</th>\n",
              "      <th>profession</th>\n",
              "      <th>location</th>\n",
              "      <th>country</th>\n",
              "      <th>age_of_marriage</th>\n",
              "      <th>height_random</th>\n",
              "      <th>gender_random</th>\n",
              "    </tr>\n",
              "  </thead>\n",
              "  <tbody>\n",
              "    <tr>\n",
              "      <th>0</th>\n",
              "      <td>female</td>\n",
              "      <td>5'4\"</td>\n",
              "      <td>NaN</td>\n",
              "      <td>others</td>\n",
              "      <td>Telugu</td>\n",
              "      <td>NaN</td>\n",
              "      <td>London</td>\n",
              "      <td>United Kingdom</td>\n",
              "      <td>21.0</td>\n",
              "      <td>5'4\"</td>\n",
              "      <td>female</td>\n",
              "    </tr>\n",
              "    <tr>\n",
              "      <th>1</th>\n",
              "      <td>male</td>\n",
              "      <td>5'7\"</td>\n",
              "      <td>Jain</td>\n",
              "      <td>Shwetamber</td>\n",
              "      <td>Gujarati</td>\n",
              "      <td>Doctor / Healthcare Professional</td>\n",
              "      <td>Fairfax- VA</td>\n",
              "      <td>USA</td>\n",
              "      <td>32.0</td>\n",
              "      <td>5'7\"</td>\n",
              "      <td>male</td>\n",
              "    </tr>\n",
              "    <tr>\n",
              "      <th>2</th>\n",
              "      <td>male</td>\n",
              "      <td>5'7\"</td>\n",
              "      <td>Hindu</td>\n",
              "      <td>Brahmin</td>\n",
              "      <td>Hindi</td>\n",
              "      <td>Entrepreneurs / Business</td>\n",
              "      <td>Begusarai</td>\n",
              "      <td>India</td>\n",
              "      <td>32.0</td>\n",
              "      <td>5'7\"</td>\n",
              "      <td>male</td>\n",
              "    </tr>\n",
              "    <tr>\n",
              "      <th>3</th>\n",
              "      <td>female</td>\n",
              "      <td>5'0\"</td>\n",
              "      <td>Hindu</td>\n",
              "      <td>Thakur</td>\n",
              "      <td>Hindi</td>\n",
              "      <td>Architect</td>\n",
              "      <td>Mumbai</td>\n",
              "      <td>India</td>\n",
              "      <td>30.0</td>\n",
              "      <td>5'0\"</td>\n",
              "      <td>female</td>\n",
              "    </tr>\n",
              "    <tr>\n",
              "      <th>4</th>\n",
              "      <td>male</td>\n",
              "      <td>5'5\"</td>\n",
              "      <td>Christian</td>\n",
              "      <td>Born Again</td>\n",
              "      <td>Malayalam</td>\n",
              "      <td>Sales Professional / Marketing</td>\n",
              "      <td>Sulthan Bathery</td>\n",
              "      <td>India</td>\n",
              "      <td>30.0</td>\n",
              "      <td>5'5\"</td>\n",
              "      <td>male</td>\n",
              "    </tr>\n",
              "  </tbody>\n",
              "</table>\n",
              "</div>"
            ],
            "text/plain": [
              "   gender height   religion  ... age_of_marriage height_random gender_random\n",
              "0  female   5'4\"        NaN  ...            21.0          5'4\"        female\n",
              "1    male   5'7\"       Jain  ...            32.0          5'7\"          male\n",
              "2    male   5'7\"      Hindu  ...            32.0          5'7\"          male\n",
              "3  female   5'0\"      Hindu  ...            30.0          5'0\"        female\n",
              "4    male   5'5\"  Christian  ...            30.0          5'5\"          male\n",
              "\n",
              "[5 rows x 11 columns]"
            ]
          },
          "metadata": {
            "tags": []
          },
          "execution_count": 15
        }
      ]
    },
    {
      "cell_type": "code",
      "metadata": {
        "colab": {
          "base_uri": "https://localhost:8080/",
          "height": 355
        },
        "id": "8scE5qmL_o0M",
        "outputId": "8fc264c7-0a92-4e04-be4c-de49fd987009"
      },
      "source": [
        "data['height_random'].isnull().sum()\r\n",
        "import seaborn as sns\r\n",
        "sns.countplot(data['gender'])"
      ],
      "execution_count": null,
      "outputs": [
        {
          "output_type": "stream",
          "text": [
            "/usr/local/lib/python3.6/dist-packages/seaborn/_decorators.py:43: FutureWarning: Pass the following variable as a keyword arg: x. From version 0.12, the only valid positional argument will be `data`, and passing other arguments without an explicit keyword will result in an error or misinterpretation.\n",
            "  FutureWarning\n"
          ],
          "name": "stderr"
        },
        {
          "output_type": "execute_result",
          "data": {
            "text/plain": [
              "<matplotlib.axes._subplots.AxesSubplot at 0x7faf157a22e8>"
            ]
          },
          "metadata": {
            "tags": []
          },
          "execution_count": 16
        },
        {
          "output_type": "display_data",
          "data": {
            "image/png": "[encoded data removed]",
            "text/plain": [
              "<Figure size 432x288 with 1 Axes>"
            ]
          },
          "metadata": {
            "tags": [],
            "needs_background": "light"
          }
        }
      ]
    },
    {
      "cell_type": "code",
      "metadata": {
        "colab": {
          "base_uri": "https://localhost:8080/",
          "height": 343
        },
        "id": "53D1pDyS7Ic8",
        "outputId": "15bd24aa-789a-459e-e29c-41fb49893b52"
      },
      "source": [
        "data['height_in_inches']=data['height_random'].str.split(\"'\").str[0]\r\n",
        "print(data['height_in_inches'].isnull().sum())\r\n",
        "x=data['height_random'].str.split(\"'\").str[1]\r\n",
        "data['height_in_cms']=x.str.split('\"').str[0]\r\n",
        "data.head()"
      ],
      "execution_count": null,
      "outputs": [
        {
          "output_type": "stream",
          "text": [
            "0\n"
          ],
          "name": "stdout"
        },
        {
          "output_type": "execute_result",
          "data": {
            "text/html": [
              "<div>\n",
              "<style scoped>\n",
              "    .dataframe tbody tr th:only-of-type {\n",
              "        vertical-align: middle;\n",
              "    }\n",
              "\n",
              "    .dataframe tbody tr th {\n",
              "        vertical-align: top;\n",
              "    }\n",
              "\n",
              "    .dataframe thead th {\n",
              "        text-align: right;\n",
              "    }\n",
              "</style>\n",
              "<table border=\"1\" class=\"dataframe\">\n",
              "  <thead>\n",
              "    <tr style=\"text-align: right;\">\n",
              "      <th></th>\n",
              "      <th>gender</th>\n",
              "      <th>height</th>\n",
              "      <th>religion</th>\n",
              "      <th>caste</th>\n",
              "      <th>mother_tongue</th>\n",
              "      <th>profession</th>\n",
              "      <th>location</th>\n",
              "      <th>country</th>\n",
              "      <th>age_of_marriage</th>\n",
              "      <th>height_random</th>\n",
              "      <th>gender_random</th>\n",
              "      <th>height_in_inches</th>\n",
              "      <th>height_in_cms</th>\n",
              "    </tr>\n",
              "  </thead>\n",
              "  <tbody>\n",
              "    <tr>\n",
              "      <th>0</th>\n",
              "      <td>female</td>\n",
              "      <td>5'4\"</td>\n",
              "      <td>NaN</td>\n",
              "      <td>others</td>\n",
              "      <td>Telugu</td>\n",
              "      <td>NaN</td>\n",
              "      <td>London</td>\n",
              "      <td>United Kingdom</td>\n",
              "      <td>21.0</td>\n",
              "      <td>5'4\"</td>\n",
              "      <td>female</td>\n",
              "      <td>5</td>\n",
              "      <td>4</td>\n",
              "    </tr>\n",
              "    <tr>\n",
              "      <th>1</th>\n",
              "      <td>male</td>\n",
              "      <td>5'7\"</td>\n",
              "      <td>Jain</td>\n",
              "      <td>Shwetamber</td>\n",
              "      <td>Gujarati</td>\n",
              "      <td>Doctor / Healthcare Professional</td>\n",
              "      <td>Fairfax- VA</td>\n",
              "      <td>USA</td>\n",
              "      <td>32.0</td>\n",
              "      <td>5'7\"</td>\n",
              "      <td>male</td>\n",
              "      <td>5</td>\n",
              "      <td>7</td>\n",
              "    </tr>\n",
              "    <tr>\n",
              "      <th>2</th>\n",
              "      <td>male</td>\n",
              "      <td>5'7\"</td>\n",
              "      <td>Hindu</td>\n",
              "      <td>Brahmin</td>\n",
              "      <td>Hindi</td>\n",
              "      <td>Entrepreneurs / Business</td>\n",
              "      <td>Begusarai</td>\n",
              "      <td>India</td>\n",
              "      <td>32.0</td>\n",
              "      <td>5'7\"</td>\n",
              "      <td>male</td>\n",
              "      <td>5</td>\n",
              "      <td>7</td>\n",
              "    </tr>\n",
              "    <tr>\n",
              "      <th>3</th>\n",
              "      <td>female</td>\n",
              "      <td>5'0\"</td>\n",
              "      <td>Hindu</td>\n",
              "      <td>Thakur</td>\n",
              "      <td>Hindi</td>\n",
              "      <td>Architect</td>\n",
              "      <td>Mumbai</td>\n",
              "      <td>India</td>\n",
              "      <td>30.0</td>\n",
              "      <td>5'0\"</td>\n",
              "      <td>female</td>\n",
              "      <td>5</td>\n",
              "      <td>0</td>\n",
              "    </tr>\n",
              "    <tr>\n",
              "      <th>4</th>\n",
              "      <td>male</td>\n",
              "      <td>5'5\"</td>\n",
              "      <td>Christian</td>\n",
              "      <td>Born Again</td>\n",
              "      <td>Malayalam</td>\n",
              "      <td>Sales Professional / Marketing</td>\n",
              "      <td>Sulthan Bathery</td>\n",
              "      <td>India</td>\n",
              "      <td>30.0</td>\n",
              "      <td>5'5\"</td>\n",
              "      <td>male</td>\n",
              "      <td>5</td>\n",
              "      <td>5</td>\n",
              "    </tr>\n",
              "  </tbody>\n",
              "</table>\n",
              "</div>"
            ],
            "text/plain": [
              "   gender height   religion  ... gender_random height_in_inches height_in_cms\n",
              "0  female   5'4\"        NaN  ...        female                5             4\n",
              "1    male   5'7\"       Jain  ...          male                5             7\n",
              "2    male   5'7\"      Hindu  ...          male                5             7\n",
              "3  female   5'0\"      Hindu  ...        female                5             0\n",
              "4    male   5'5\"  Christian  ...          male                5             5\n",
              "\n",
              "[5 rows x 13 columns]"
            ]
          },
          "metadata": {
            "tags": []
          },
          "execution_count": 17
        }
      ]
    },
    {
      "cell_type": "code",
      "metadata": {
        "colab": {
          "base_uri": "https://localhost:8080/"
        },
        "id": "6Gp0Z5Ta9lxW",
        "outputId": "9a159f24-41b7-4cdf-8529-4d4014b9dedc"
      },
      "source": [
        "data.isnull().sum()"
      ],
      "execution_count": null,
      "outputs": [
        {
          "output_type": "execute_result",
          "data": {
            "text/plain": [
              "gender               29\n",
              "height              118\n",
              "religion            635\n",
              "caste               142\n",
              "mother_tongue       164\n",
              "profession          330\n",
              "location            155\n",
              "country              16\n",
              "age_of_marriage      19\n",
              "height_random         0\n",
              "gender_random         0\n",
              "height_in_inches      0\n",
              "height_in_cms         0\n",
              "dtype: int64"
            ]
          },
          "metadata": {
            "tags": []
          },
          "execution_count": 18
        }
      ]
    },
    {
      "cell_type": "code",
      "metadata": {
        "colab": {
          "base_uri": "https://localhost:8080/",
          "height": 326
        },
        "id": "qI8CgdieC5co",
        "outputId": "3288f40a-18e1-400c-d1e4-19ffc4bef785"
      },
      "source": [
        "data['height_in_inches']=data['height_in_inches'].astype(int)\r\n",
        "data['height_in_cms']=data['height_in_cms'].astype(int)\r\n",
        "\r\n",
        "\r\n",
        "data['total_height_in_cms']=(data['height_in_inches'])*30.24+data['height_in_cms']\r\n",
        "data.head()"
      ],
      "execution_count": null,
      "outputs": [
        {
          "output_type": "execute_result",
          "data": {
            "text/html": [
              "<div>\n",
              "<style scoped>\n",
              "    .dataframe tbody tr th:only-of-type {\n",
              "        vertical-align: middle;\n",
              "    }\n",
              "\n",
              "    .dataframe tbody tr th {\n",
              "        vertical-align: top;\n",
              "    }\n",
              "\n",
              "    .dataframe thead th {\n",
              "        text-align: right;\n",
              "    }\n",
              "</style>\n",
              "<table border=\"1\" class=\"dataframe\">\n",
              "  <thead>\n",
              "    <tr style=\"text-align: right;\">\n",
              "      <th></th>\n",
              "      <th>gender</th>\n",
              "      <th>height</th>\n",
              "      <th>religion</th>\n",
              "      <th>caste</th>\n",
              "      <th>mother_tongue</th>\n",
              "      <th>profession</th>\n",
              "      <th>location</th>\n",
              "      <th>country</th>\n",
              "      <th>age_of_marriage</th>\n",
              "      <th>height_random</th>\n",
              "      <th>gender_random</th>\n",
              "      <th>height_in_inches</th>\n",
              "      <th>height_in_cms</th>\n",
              "      <th>total_height_in_cms</th>\n",
              "    </tr>\n",
              "  </thead>\n",
              "  <tbody>\n",
              "    <tr>\n",
              "      <th>0</th>\n",
              "      <td>female</td>\n",
              "      <td>5'4\"</td>\n",
              "      <td>NaN</td>\n",
              "      <td>others</td>\n",
              "      <td>Telugu</td>\n",
              "      <td>NaN</td>\n",
              "      <td>London</td>\n",
              "      <td>United Kingdom</td>\n",
              "      <td>21.0</td>\n",
              "      <td>5'4\"</td>\n",
              "      <td>female</td>\n",
              "      <td>5</td>\n",
              "      <td>4</td>\n",
              "      <td>155.2</td>\n",
              "    </tr>\n",
              "    <tr>\n",
              "      <th>1</th>\n",
              "      <td>male</td>\n",
              "      <td>5'7\"</td>\n",
              "      <td>Jain</td>\n",
              "      <td>Shwetamber</td>\n",
              "      <td>Gujarati</td>\n",
              "      <td>Doctor / Healthcare Professional</td>\n",
              "      <td>Fairfax- VA</td>\n",
              "      <td>USA</td>\n",
              "      <td>32.0</td>\n",
              "      <td>5'7\"</td>\n",
              "      <td>male</td>\n",
              "      <td>5</td>\n",
              "      <td>7</td>\n",
              "      <td>158.2</td>\n",
              "    </tr>\n",
              "    <tr>\n",
              "      <th>2</th>\n",
              "      <td>male</td>\n",
              "      <td>5'7\"</td>\n",
              "      <td>Hindu</td>\n",
              "      <td>Brahmin</td>\n",
              "      <td>Hindi</td>\n",
              "      <td>Entrepreneurs / Business</td>\n",
              "      <td>Begusarai</td>\n",
              "      <td>India</td>\n",
              "      <td>32.0</td>\n",
              "      <td>5'7\"</td>\n",
              "      <td>male</td>\n",
              "      <td>5</td>\n",
              "      <td>7</td>\n",
              "      <td>158.2</td>\n",
              "    </tr>\n",
              "    <tr>\n",
              "      <th>3</th>\n",
              "      <td>female</td>\n",
              "      <td>5'0\"</td>\n",
              "      <td>Hindu</td>\n",
              "      <td>Thakur</td>\n",
              "      <td>Hindi</td>\n",
              "      <td>Architect</td>\n",
              "      <td>Mumbai</td>\n",
              "      <td>India</td>\n",
              "      <td>30.0</td>\n",
              "      <td>5'0\"</td>\n",
              "      <td>female</td>\n",
              "      <td>5</td>\n",
              "      <td>0</td>\n",
              "      <td>151.2</td>\n",
              "    </tr>\n",
              "    <tr>\n",
              "      <th>4</th>\n",
              "      <td>male</td>\n",
              "      <td>5'5\"</td>\n",
              "      <td>Christian</td>\n",
              "      <td>Born Again</td>\n",
              "      <td>Malayalam</td>\n",
              "      <td>Sales Professional / Marketing</td>\n",
              "      <td>Sulthan Bathery</td>\n",
              "      <td>India</td>\n",
              "      <td>30.0</td>\n",
              "      <td>5'5\"</td>\n",
              "      <td>male</td>\n",
              "      <td>5</td>\n",
              "      <td>5</td>\n",
              "      <td>156.2</td>\n",
              "    </tr>\n",
              "  </tbody>\n",
              "</table>\n",
              "</div>"
            ],
            "text/plain": [
              "   gender height  ... height_in_cms total_height_in_cms\n",
              "0  female   5'4\"  ...             4               155.2\n",
              "1    male   5'7\"  ...             7               158.2\n",
              "2    male   5'7\"  ...             7               158.2\n",
              "3  female   5'0\"  ...             0               151.2\n",
              "4    male   5'5\"  ...             5               156.2\n",
              "\n",
              "[5 rows x 14 columns]"
            ]
          },
          "metadata": {
            "tags": []
          },
          "execution_count": 19
        }
      ]
    },
    {
      "cell_type": "code",
      "metadata": {
        "colab": {
          "base_uri": "https://localhost:8080/"
        },
        "id": "-N7KxS0mExW2",
        "outputId": "6e6d3f01-6930-403f-cc7e-8440550ee9b7"
      },
      "source": [
        "data.isnull().sum()"
      ],
      "execution_count": null,
      "outputs": [
        {
          "output_type": "execute_result",
          "data": {
            "text/plain": [
              "gender                  29\n",
              "height                 118\n",
              "religion               635\n",
              "caste                  142\n",
              "mother_tongue          164\n",
              "profession             330\n",
              "location               155\n",
              "country                 16\n",
              "age_of_marriage         19\n",
              "height_random            0\n",
              "gender_random            0\n",
              "height_in_inches         0\n",
              "height_in_cms            0\n",
              "total_height_in_cms      0\n",
              "dtype: int64"
            ]
          },
          "metadata": {
            "tags": []
          },
          "execution_count": 20
        }
      ]
    },
    {
      "cell_type": "code",
      "metadata": {
        "colab": {
          "base_uri": "https://localhost:8080/",
          "height": 254
        },
        "id": "MwNv89emEzxV",
        "outputId": "4905b75e-db5e-4bfb-8ddf-02652e1ce7d8"
      },
      "source": [
        "data2=data.drop(['height','height_random','height_in_inches','height_in_cms'],axis=1)\r\n",
        "data2.head()"
      ],
      "execution_count": null,
      "outputs": [
        {
          "output_type": "execute_result",
          "data": {
            "text/html": [
              "<div>\n",
              "<style scoped>\n",
              "    .dataframe tbody tr th:only-of-type {\n",
              "        vertical-align: middle;\n",
              "    }\n",
              "\n",
              "    .dataframe tbody tr th {\n",
              "        vertical-align: top;\n",
              "    }\n",
              "\n",
              "    .dataframe thead th {\n",
              "        text-align: right;\n",
              "    }\n",
              "</style>\n",
              "<table border=\"1\" class=\"dataframe\">\n",
              "  <thead>\n",
              "    <tr style=\"text-align: right;\">\n",
              "      <th></th>\n",
              "      <th>gender</th>\n",
              "      <th>religion</th>\n",
              "      <th>caste</th>\n",
              "      <th>mother_tongue</th>\n",
              "      <th>profession</th>\n",
              "      <th>location</th>\n",
              "      <th>country</th>\n",
              "      <th>age_of_marriage</th>\n",
              "      <th>gender_random</th>\n",
              "      <th>total_height_in_cms</th>\n",
              "    </tr>\n",
              "  </thead>\n",
              "  <tbody>\n",
              "    <tr>\n",
              "      <th>0</th>\n",
              "      <td>female</td>\n",
              "      <td>NaN</td>\n",
              "      <td>others</td>\n",
              "      <td>Telugu</td>\n",
              "      <td>NaN</td>\n",
              "      <td>London</td>\n",
              "      <td>United Kingdom</td>\n",
              "      <td>21.0</td>\n",
              "      <td>female</td>\n",
              "      <td>155.2</td>\n",
              "    </tr>\n",
              "    <tr>\n",
              "      <th>1</th>\n",
              "      <td>male</td>\n",
              "      <td>Jain</td>\n",
              "      <td>Shwetamber</td>\n",
              "      <td>Gujarati</td>\n",
              "      <td>Doctor / Healthcare Professional</td>\n",
              "      <td>Fairfax- VA</td>\n",
              "      <td>USA</td>\n",
              "      <td>32.0</td>\n",
              "      <td>male</td>\n",
              "      <td>158.2</td>\n",
              "    </tr>\n",
              "    <tr>\n",
              "      <th>2</th>\n",
              "      <td>male</td>\n",
              "      <td>Hindu</td>\n",
              "      <td>Brahmin</td>\n",
              "      <td>Hindi</td>\n",
              "      <td>Entrepreneurs / Business</td>\n",
              "      <td>Begusarai</td>\n",
              "      <td>India</td>\n",
              "      <td>32.0</td>\n",
              "      <td>male</td>\n",
              "      <td>158.2</td>\n",
              "    </tr>\n",
              "    <tr>\n",
              "      <th>3</th>\n",
              "      <td>female</td>\n",
              "      <td>Hindu</td>\n",
              "      <td>Thakur</td>\n",
              "      <td>Hindi</td>\n",
              "      <td>Architect</td>\n",
              "      <td>Mumbai</td>\n",
              "      <td>India</td>\n",
              "      <td>30.0</td>\n",
              "      <td>female</td>\n",
              "      <td>151.2</td>\n",
              "    </tr>\n",
              "    <tr>\n",
              "      <th>4</th>\n",
              "      <td>male</td>\n",
              "      <td>Christian</td>\n",
              "      <td>Born Again</td>\n",
              "      <td>Malayalam</td>\n",
              "      <td>Sales Professional / Marketing</td>\n",
              "      <td>Sulthan Bathery</td>\n",
              "      <td>India</td>\n",
              "      <td>30.0</td>\n",
              "      <td>male</td>\n",
              "      <td>156.2</td>\n",
              "    </tr>\n",
              "  </tbody>\n",
              "</table>\n",
              "</div>"
            ],
            "text/plain": [
              "   gender   religion  ... gender_random total_height_in_cms\n",
              "0  female        NaN  ...        female               155.2\n",
              "1    male       Jain  ...          male               158.2\n",
              "2    male      Hindu  ...          male               158.2\n",
              "3  female      Hindu  ...        female               151.2\n",
              "4    male  Christian  ...          male               156.2\n",
              "\n",
              "[5 rows x 10 columns]"
            ]
          },
          "metadata": {
            "tags": []
          },
          "execution_count": 21
        }
      ]
    },
    {
      "cell_type": "code",
      "metadata": {
        "colab": {
          "base_uri": "https://localhost:8080/"
        },
        "id": "OizKKJHJFFHm",
        "outputId": "11efd10f-1228-47c6-d5ff-19be0e8329fd"
      },
      "source": [
        "data2.isnull().sum()"
      ],
      "execution_count": null,
      "outputs": [
        {
          "output_type": "execute_result",
          "data": {
            "text/plain": [
              "gender                  29\n",
              "religion               635\n",
              "caste                  142\n",
              "mother_tongue          164\n",
              "profession             330\n",
              "location               155\n",
              "country                 16\n",
              "age_of_marriage         19\n",
              "gender_random            0\n",
              "total_height_in_cms      0\n",
              "dtype: int64"
            ]
          },
          "metadata": {
            "tags": []
          },
          "execution_count": 22
        }
      ]
    },
    {
      "cell_type": "markdown",
      "metadata": {
        "id": "8XDSIjY5FNZd"
      },
      "source": [
        "Dealing with caste"
      ]
    },
    {
      "cell_type": "code",
      "metadata": {
        "colab": {
          "base_uri": "https://localhost:8080/"
        },
        "id": "b9EhnYKdFPaO",
        "outputId": "e75783c7-2d5e-46a1-8503-c5302adad497"
      },
      "source": [
        "data2['caste'].isnull().sum()\r\n",
        "data2['caste'].value_counts()"
      ],
      "execution_count": null,
      "outputs": [
        {
          "output_type": "execute_result",
          "data": {
            "text/plain": [
              "others                   493\n",
              " Brahmin                 252\n",
              " Kshatriya                70\n",
              " Lingayath                65\n",
              " Agarwal                  53\n",
              " Shwetamber               46\n",
              " Patel                    42\n",
              " Arora                    41\n",
              " Baniya                   41\n",
              " Vaishnav                 41\n",
              " Bhandari                 41\n",
              " Gursikh                  40\n",
              " Valmiki                  40\n",
              " Kayastha                 40\n",
              " Ramdasia                 40\n",
              " Balija                   40\n",
              " Khatri                   40\n",
              " Thakur                   40\n",
              " Baishnab                 40\n",
              " Kaibarta                 40\n",
              " OBC - Barber/Naayee      40\n",
              " Sindhi-Sakkhar           40\n",
              " Rajput - Lodhi           40\n",
              " Ahom                     40\n",
              " Goud                     40\n",
              " Born Again               40\n",
              " Billava                  40\n",
              " Kalita                   40\n",
              " Saini                    40\n",
              " Bhatia                   40\n",
              " Marthoma                 40\n",
              " Memon                    40\n",
              " Arya Vysya               40\n",
              " Baidya                   40\n",
              " Sahu                     40\n",
              " Roman Catholic           40\n",
              " Panchal                  40\n",
              " Vanniyar                 40\n",
              " Scheduled Caste (SC)     40\n",
              " Baishya                  40\n",
              " Agri                     40\n",
              " Viswabrahmin             40\n",
              "Name: caste, dtype: int64"
            ]
          },
          "metadata": {
            "tags": []
          },
          "execution_count": 23
        }
      ]
    },
    {
      "cell_type": "code",
      "metadata": {
        "colab": {
          "base_uri": "https://localhost:8080/",
          "height": 351
        },
        "id": "rp2Tddb4FYiW",
        "outputId": "7615e624-a4d6-421c-e0ce-1b76cec57d65"
      },
      "source": [
        "import seaborn as sns\r\n",
        "sns.countplot(data2['caste'])"
      ],
      "execution_count": null,
      "outputs": [
        {
          "output_type": "stream",
          "text": [
            "/usr/local/lib/python3.6/dist-packages/seaborn/_decorators.py:43: FutureWarning: Pass the following variable as a keyword arg: x. From version 0.12, the only valid positional argument will be `data`, and passing other arguments without an explicit keyword will result in an error or misinterpretation.\n",
            "  FutureWarning\n"
          ],
          "name": "stderr"
        },
        {
          "output_type": "execute_result",
          "data": {
            "text/plain": [
              "<matplotlib.axes._subplots.AxesSubplot at 0x7faf067c1dd8>"
            ]
          },
          "metadata": {
            "tags": []
          },
          "execution_count": 24
        },
        {
          "output_type": "display_data",
          "data": {
            "image/png": "[encoded data removed]",
            "text/plain": [
              "<Figure size 432x288 with 1 Axes>"
            ]
          },
          "metadata": {
            "tags": [],
            "needs_background": "light"
          }
        }
      ]
    },
    {
      "cell_type": "code",
      "metadata": {
        "colab": {
          "base_uri": "https://localhost:8080/"
        },
        "id": "HcvdUCu8hhAz",
        "outputId": "ecf790ee-936e-40dc-9522-0e00be61538e"
      },
      "source": [
        "impute_nan(data2,'caste')\r\n",
        "data2.isnull().sum()"
      ],
      "execution_count": null,
      "outputs": [
        {
          "output_type": "execute_result",
          "data": {
            "text/plain": [
              "gender                  29\n",
              "religion               635\n",
              "caste                  142\n",
              "mother_tongue          164\n",
              "profession             330\n",
              "location               155\n",
              "country                 16\n",
              "age_of_marriage         19\n",
              "gender_random            0\n",
              "total_height_in_cms      0\n",
              "caste_random             0\n",
              "dtype: int64"
            ]
          },
          "metadata": {
            "tags": []
          },
          "execution_count": 25
        }
      ]
    },
    {
      "cell_type": "code",
      "metadata": {
        "colab": {
          "base_uri": "https://localhost:8080/",
          "height": 1000
        },
        "id": "bO7qWVOoicIz",
        "outputId": "e5a564e8-b898-4e31-98de-97de339503f1"
      },
      "source": [
        "data2['caste_random'].value_counts().plot.bar()\r\n",
        "data2.caste_random.value_counts()"
      ],
      "execution_count": null,
      "outputs": [
        {
          "output_type": "execute_result",
          "data": {
            "text/plain": [
              "others                   523\n",
              " Brahmin                 267\n",
              " Kshatriya                72\n",
              " Lingayath                67\n",
              " Agarwal                  58\n",
              " Shwetamber               48\n",
              " Baniya                   48\n",
              " Baishnab                 46\n",
              " Kaibarta                 45\n",
              " Thakur                   45\n",
              " Patel                    44\n",
              " Saini                    44\n",
              " OBC - Barber/Naayee      44\n",
              " Born Again               44\n",
              " Baidya                   44\n",
              " Viswabrahmin             43\n",
              " Vanniyar                 43\n",
              " Rajput - Lodhi           43\n",
              " Memon                    43\n",
              " Marthoma                 43\n",
              " Billava                  43\n",
              " Khatri                   43\n",
              " Bhandari                 42\n",
              " Valmiki                  42\n",
              " Ramdasia                 42\n",
              " Agri                     42\n",
              " Scheduled Caste (SC)     42\n",
              " Goud                     42\n",
              " Roman Catholic           42\n",
              " Arora                    42\n",
              " Gursikh                  41\n",
              " Sahu                     41\n",
              " Kalita                   41\n",
              " Sindhi-Sakkhar           41\n",
              " Bhatia                   41\n",
              " Arya Vysya               41\n",
              " Panchal                  41\n",
              " Balija                   41\n",
              " Baishya                  41\n",
              " Kayastha                 41\n",
              " Vaishnav                 41\n",
              " Ahom                     40\n",
              "Name: caste_random, dtype: int64"
            ]
          },
          "metadata": {
            "tags": []
          },
          "execution_count": 26
        },
        {
          "output_type": "display_data",
          "data": {
            "image/png": "[encoded data removed]",
            "text/plain": [
              "<Figure size 432x288 with 1 Axes>"
            ]
          },
          "metadata": {
            "tags": [],
            "needs_background": "light"
          }
        }
      ]
    },
    {
      "cell_type": "markdown",
      "metadata": {
        "id": "W1aAiu99iw2Y"
      },
      "source": [
        "Dealing with religion"
      ]
    },
    {
      "cell_type": "code",
      "metadata": {
        "colab": {
          "base_uri": "https://localhost:8080/",
          "height": 254
        },
        "id": "Um73bCs7iy55",
        "outputId": "f60dd835-eb22-4a74-f9f7-dafaa510d793"
      },
      "source": [
        "data3=data2.drop(['caste'],axis=1)\r\n",
        "data3.head()"
      ],
      "execution_count": null,
      "outputs": [
        {
          "output_type": "execute_result",
          "data": {
            "text/html": [
              "<div>\n",
              "<style scoped>\n",
              "    .dataframe tbody tr th:only-of-type {\n",
              "        vertical-align: middle;\n",
              "    }\n",
              "\n",
              "    .dataframe tbody tr th {\n",
              "        vertical-align: top;\n",
              "    }\n",
              "\n",
              "    .dataframe thead th {\n",
              "        text-align: right;\n",
              "    }\n",
              "</style>\n",
              "<table border=\"1\" class=\"dataframe\">\n",
              "  <thead>\n",
              "    <tr style=\"text-align: right;\">\n",
              "      <th></th>\n",
              "      <th>gender</th>\n",
              "      <th>religion</th>\n",
              "      <th>mother_tongue</th>\n",
              "      <th>profession</th>\n",
              "      <th>location</th>\n",
              "      <th>country</th>\n",
              "      <th>age_of_marriage</th>\n",
              "      <th>gender_random</th>\n",
              "      <th>total_height_in_cms</th>\n",
              "      <th>caste_random</th>\n",
              "    </tr>\n",
              "  </thead>\n",
              "  <tbody>\n",
              "    <tr>\n",
              "      <th>0</th>\n",
              "      <td>female</td>\n",
              "      <td>NaN</td>\n",
              "      <td>Telugu</td>\n",
              "      <td>NaN</td>\n",
              "      <td>London</td>\n",
              "      <td>United Kingdom</td>\n",
              "      <td>21.0</td>\n",
              "      <td>female</td>\n",
              "      <td>155.2</td>\n",
              "      <td>others</td>\n",
              "    </tr>\n",
              "    <tr>\n",
              "      <th>1</th>\n",
              "      <td>male</td>\n",
              "      <td>Jain</td>\n",
              "      <td>Gujarati</td>\n",
              "      <td>Doctor / Healthcare Professional</td>\n",
              "      <td>Fairfax- VA</td>\n",
              "      <td>USA</td>\n",
              "      <td>32.0</td>\n",
              "      <td>male</td>\n",
              "      <td>158.2</td>\n",
              "      <td>Shwetamber</td>\n",
              "    </tr>\n",
              "    <tr>\n",
              "      <th>2</th>\n",
              "      <td>male</td>\n",
              "      <td>Hindu</td>\n",
              "      <td>Hindi</td>\n",
              "      <td>Entrepreneurs / Business</td>\n",
              "      <td>Begusarai</td>\n",
              "      <td>India</td>\n",
              "      <td>32.0</td>\n",
              "      <td>male</td>\n",
              "      <td>158.2</td>\n",
              "      <td>Brahmin</td>\n",
              "    </tr>\n",
              "    <tr>\n",
              "      <th>3</th>\n",
              "      <td>female</td>\n",
              "      <td>Hindu</td>\n",
              "      <td>Hindi</td>\n",
              "      <td>Architect</td>\n",
              "      <td>Mumbai</td>\n",
              "      <td>India</td>\n",
              "      <td>30.0</td>\n",
              "      <td>female</td>\n",
              "      <td>151.2</td>\n",
              "      <td>Thakur</td>\n",
              "    </tr>\n",
              "    <tr>\n",
              "      <th>4</th>\n",
              "      <td>male</td>\n",
              "      <td>Christian</td>\n",
              "      <td>Malayalam</td>\n",
              "      <td>Sales Professional / Marketing</td>\n",
              "      <td>Sulthan Bathery</td>\n",
              "      <td>India</td>\n",
              "      <td>30.0</td>\n",
              "      <td>male</td>\n",
              "      <td>156.2</td>\n",
              "      <td>Born Again</td>\n",
              "    </tr>\n",
              "  </tbody>\n",
              "</table>\n",
              "</div>"
            ],
            "text/plain": [
              "   gender   religion  ... total_height_in_cms caste_random\n",
              "0  female        NaN  ...               155.2       others\n",
              "1    male       Jain  ...               158.2   Shwetamber\n",
              "2    male      Hindu  ...               158.2      Brahmin\n",
              "3  female      Hindu  ...               151.2       Thakur\n",
              "4    male  Christian  ...               156.2   Born Again\n",
              "\n",
              "[5 rows x 10 columns]"
            ]
          },
          "metadata": {
            "tags": []
          },
          "execution_count": 27
        }
      ]
    },
    {
      "cell_type": "code",
      "metadata": {
        "colab": {
          "base_uri": "https://localhost:8080/"
        },
        "id": "Hu3GYlfsi9BI",
        "outputId": "9bcec011-d3aa-4fb4-8f54-dc0f05728364"
      },
      "source": [
        "data3.religion.isnull().sum()"
      ],
      "execution_count": null,
      "outputs": [
        {
          "output_type": "execute_result",
          "data": {
            "text/plain": [
              "635"
            ]
          },
          "metadata": {
            "tags": []
          },
          "execution_count": 28
        }
      ]
    },
    {
      "cell_type": "code",
      "metadata": {
        "colab": {
          "base_uri": "https://localhost:8080/"
        },
        "id": "Lh73WFAUjBwC",
        "outputId": "1ea0fa9b-fef6-4f0a-e91c-0d90a25c2571"
      },
      "source": [
        "data3['religion'].value_counts()"
      ],
      "execution_count": null,
      "outputs": [
        {
          "output_type": "execute_result",
          "data": {
            "text/plain": [
              "Hindu        1576\n",
              "Sikh          150\n",
              "Christian     120\n",
              "Jain           46\n",
              "Muslim         40\n",
              "Name: religion, dtype: int64"
            ]
          },
          "metadata": {
            "tags": []
          },
          "execution_count": 29
        }
      ]
    },
    {
      "cell_type": "code",
      "metadata": {
        "colab": {
          "base_uri": "https://localhost:8080/"
        },
        "id": "DTqhGwKijQWl",
        "outputId": "20f8c160-5482-4205-e0f7-d74b19cab4c0"
      },
      "source": [
        "impute_nan(data3,'religion')\r\n",
        "data3.religion_random.value_counts()"
      ],
      "execution_count": null,
      "outputs": [
        {
          "output_type": "execute_result",
          "data": {
            "text/plain": [
              "Hindu        2100\n",
              "Sikh          195\n",
              "Christian     154\n",
              "Jain           61\n",
              "Muslim         57\n",
              "Name: religion_random, dtype: int64"
            ]
          },
          "metadata": {
            "tags": []
          },
          "execution_count": 30
        }
      ]
    },
    {
      "cell_type": "code",
      "metadata": {
        "colab": {
          "base_uri": "https://localhost:8080/",
          "height": 271
        },
        "id": "_8iXQ1ydjgqc",
        "outputId": "057e4d00-b3d4-49d2-e27e-2417de1de4a8"
      },
      "source": [
        "data4=data3.drop(['religion'],axis=1)\r\n",
        "data4.head()"
      ],
      "execution_count": null,
      "outputs": [
        {
          "output_type": "execute_result",
          "data": {
            "text/html": [
              "<div>\n",
              "<style scoped>\n",
              "    .dataframe tbody tr th:only-of-type {\n",
              "        vertical-align: middle;\n",
              "    }\n",
              "\n",
              "    .dataframe tbody tr th {\n",
              "        vertical-align: top;\n",
              "    }\n",
              "\n",
              "    .dataframe thead th {\n",
              "        text-align: right;\n",
              "    }\n",
              "</style>\n",
              "<table border=\"1\" class=\"dataframe\">\n",
              "  <thead>\n",
              "    <tr style=\"text-align: right;\">\n",
              "      <th></th>\n",
              "      <th>gender</th>\n",
              "      <th>mother_tongue</th>\n",
              "      <th>profession</th>\n",
              "      <th>location</th>\n",
              "      <th>country</th>\n",
              "      <th>age_of_marriage</th>\n",
              "      <th>gender_random</th>\n",
              "      <th>total_height_in_cms</th>\n",
              "      <th>caste_random</th>\n",
              "      <th>religion_random</th>\n",
              "    </tr>\n",
              "  </thead>\n",
              "  <tbody>\n",
              "    <tr>\n",
              "      <th>0</th>\n",
              "      <td>female</td>\n",
              "      <td>Telugu</td>\n",
              "      <td>NaN</td>\n",
              "      <td>London</td>\n",
              "      <td>United Kingdom</td>\n",
              "      <td>21.0</td>\n",
              "      <td>female</td>\n",
              "      <td>155.2</td>\n",
              "      <td>others</td>\n",
              "      <td>Hindu</td>\n",
              "    </tr>\n",
              "    <tr>\n",
              "      <th>1</th>\n",
              "      <td>male</td>\n",
              "      <td>Gujarati</td>\n",
              "      <td>Doctor / Healthcare Professional</td>\n",
              "      <td>Fairfax- VA</td>\n",
              "      <td>USA</td>\n",
              "      <td>32.0</td>\n",
              "      <td>male</td>\n",
              "      <td>158.2</td>\n",
              "      <td>Shwetamber</td>\n",
              "      <td>Jain</td>\n",
              "    </tr>\n",
              "    <tr>\n",
              "      <th>2</th>\n",
              "      <td>male</td>\n",
              "      <td>Hindi</td>\n",
              "      <td>Entrepreneurs / Business</td>\n",
              "      <td>Begusarai</td>\n",
              "      <td>India</td>\n",
              "      <td>32.0</td>\n",
              "      <td>male</td>\n",
              "      <td>158.2</td>\n",
              "      <td>Brahmin</td>\n",
              "      <td>Hindu</td>\n",
              "    </tr>\n",
              "    <tr>\n",
              "      <th>3</th>\n",
              "      <td>female</td>\n",
              "      <td>Hindi</td>\n",
              "      <td>Architect</td>\n",
              "      <td>Mumbai</td>\n",
              "      <td>India</td>\n",
              "      <td>30.0</td>\n",
              "      <td>female</td>\n",
              "      <td>151.2</td>\n",
              "      <td>Thakur</td>\n",
              "      <td>Hindu</td>\n",
              "    </tr>\n",
              "    <tr>\n",
              "      <th>4</th>\n",
              "      <td>male</td>\n",
              "      <td>Malayalam</td>\n",
              "      <td>Sales Professional / Marketing</td>\n",
              "      <td>Sulthan Bathery</td>\n",
              "      <td>India</td>\n",
              "      <td>30.0</td>\n",
              "      <td>male</td>\n",
              "      <td>156.2</td>\n",
              "      <td>Born Again</td>\n",
              "      <td>Christian</td>\n",
              "    </tr>\n",
              "  </tbody>\n",
              "</table>\n",
              "</div>"
            ],
            "text/plain": [
              "   gender mother_tongue  ... caste_random religion_random\n",
              "0  female        Telugu  ...       others           Hindu\n",
              "1    male      Gujarati  ...   Shwetamber            Jain\n",
              "2    male         Hindi  ...      Brahmin           Hindu\n",
              "3  female         Hindi  ...       Thakur           Hindu\n",
              "4    male     Malayalam  ...   Born Again       Christian\n",
              "\n",
              "[5 rows x 10 columns]"
            ]
          },
          "metadata": {
            "tags": []
          },
          "execution_count": 31
        }
      ]
    },
    {
      "cell_type": "markdown",
      "metadata": {
        "id": "Q5rkESGIjzG8"
      },
      "source": [
        "Dealing with mother tongue"
      ]
    },
    {
      "cell_type": "code",
      "metadata": {
        "colab": {
          "base_uri": "https://localhost:8080/"
        },
        "id": "F_7mgXzPj2gl",
        "outputId": "3fa15b4e-8104-47bc-9f11-6f04d26b4efe"
      },
      "source": [
        "for feature in ['mother_tongue','country']:\r\n",
        "    print(data4[feature].isnull().sum())\r\n",
        "    print(data4[feature].value_counts())"
      ],
      "execution_count": null,
      "outputs": [
        {
          "output_type": "stream",
          "text": [
            "164\n",
            "Hindi           508\n",
            "Telugu          283\n",
            "Bengali         249\n",
            "Punjabi         233\n",
            "Marathi         215\n",
            "Gujarati        184\n",
            "Kannada         157\n",
            "Tamil           111\n",
            "Assamese        107\n",
            "Malayalam        97\n",
            "Odia             64\n",
            "Sindhi           58\n",
            "Marwari          30\n",
            "Tulu             29\n",
            "English          24\n",
            "Konkani          22\n",
            "Urdu              7\n",
            "Chattisgarhi      5\n",
            "Haryanavi         4\n",
            "Kutchi            4\n",
            "Bhojpuri          4\n",
            "Other             2\n",
            "Manipuri          2\n",
            "Aka               1\n",
            "Kashmiri          1\n",
            "Nepali            1\n",
            "Rajasthani        1\n",
            "Name: mother_tongue, dtype: int64\n",
            "16\n",
            " India                   2246\n",
            " USA                      131\n",
            " Canada                    35\n",
            " United Arab Emirates      34\n",
            " United Kingdom            23\n",
            " Australia                 19\n",
            " Malaysia                  17\n",
            " Pakistan                   6\n",
            " New Zealand                6\n",
            " Kuwait                     5\n",
            " Bangladesh                 4\n",
            " Qatar                      3\n",
            " Singapore                  3\n",
            " Oman                       2\n",
            " Netherlands                2\n",
            " Germany                    2\n",
            " Bahrain                    1\n",
            " Ireland                    1\n",
            " Armenia                    1\n",
            " Italy                      1\n",
            " Japan                      1\n",
            " South Africa               1\n",
            " Nigeria                    1\n",
            " Norway                     1\n",
            " Denmark                    1\n",
            " Sweden                     1\n",
            " Myanmar                    1\n",
            " Hong Kong SAR              1\n",
            " Philippines                1\n",
            "Name: country, dtype: int64\n"
          ],
          "name": "stdout"
        }
      ]
    },
    {
      "cell_type": "code",
      "metadata": {
        "colab": {
          "base_uri": "https://localhost:8080/",
          "height": 306
        },
        "id": "607I0dPmkafO",
        "outputId": "d0ffec4a-3c4d-4821-dfd8-56363452e03d"
      },
      "source": [
        "impute_nan(data4,'mother_tongue')\r\n",
        "impute_nan_mode(data4,'country')\r\n",
        "data5=data4.drop(['mother_tongue'],axis=1)\r\n",
        "data5.head()"
      ],
      "execution_count": null,
      "outputs": [
        {
          "output_type": "execute_result",
          "data": {
            "text/html": [
              "<div>\n",
              "<style scoped>\n",
              "    .dataframe tbody tr th:only-of-type {\n",
              "        vertical-align: middle;\n",
              "    }\n",
              "\n",
              "    .dataframe tbody tr th {\n",
              "        vertical-align: top;\n",
              "    }\n",
              "\n",
              "    .dataframe thead th {\n",
              "        text-align: right;\n",
              "    }\n",
              "</style>\n",
              "<table border=\"1\" class=\"dataframe\">\n",
              "  <thead>\n",
              "    <tr style=\"text-align: right;\">\n",
              "      <th></th>\n",
              "      <th>gender</th>\n",
              "      <th>profession</th>\n",
              "      <th>location</th>\n",
              "      <th>country</th>\n",
              "      <th>age_of_marriage</th>\n",
              "      <th>gender_random</th>\n",
              "      <th>total_height_in_cms</th>\n",
              "      <th>caste_random</th>\n",
              "      <th>religion_random</th>\n",
              "      <th>mother_tongue_random</th>\n",
              "    </tr>\n",
              "  </thead>\n",
              "  <tbody>\n",
              "    <tr>\n",
              "      <th>0</th>\n",
              "      <td>female</td>\n",
              "      <td>NaN</td>\n",
              "      <td>London</td>\n",
              "      <td>United Kingdom</td>\n",
              "      <td>21.0</td>\n",
              "      <td>female</td>\n",
              "      <td>155.2</td>\n",
              "      <td>others</td>\n",
              "      <td>Hindu</td>\n",
              "      <td>Telugu</td>\n",
              "    </tr>\n",
              "    <tr>\n",
              "      <th>1</th>\n",
              "      <td>male</td>\n",
              "      <td>Doctor / Healthcare Professional</td>\n",
              "      <td>Fairfax- VA</td>\n",
              "      <td>USA</td>\n",
              "      <td>32.0</td>\n",
              "      <td>male</td>\n",
              "      <td>158.2</td>\n",
              "      <td>Shwetamber</td>\n",
              "      <td>Jain</td>\n",
              "      <td>Gujarati</td>\n",
              "    </tr>\n",
              "    <tr>\n",
              "      <th>2</th>\n",
              "      <td>male</td>\n",
              "      <td>Entrepreneurs / Business</td>\n",
              "      <td>Begusarai</td>\n",
              "      <td>India</td>\n",
              "      <td>32.0</td>\n",
              "      <td>male</td>\n",
              "      <td>158.2</td>\n",
              "      <td>Brahmin</td>\n",
              "      <td>Hindu</td>\n",
              "      <td>Hindi</td>\n",
              "    </tr>\n",
              "    <tr>\n",
              "      <th>3</th>\n",
              "      <td>female</td>\n",
              "      <td>Architect</td>\n",
              "      <td>Mumbai</td>\n",
              "      <td>India</td>\n",
              "      <td>30.0</td>\n",
              "      <td>female</td>\n",
              "      <td>151.2</td>\n",
              "      <td>Thakur</td>\n",
              "      <td>Hindu</td>\n",
              "      <td>Hindi</td>\n",
              "    </tr>\n",
              "    <tr>\n",
              "      <th>4</th>\n",
              "      <td>male</td>\n",
              "      <td>Sales Professional / Marketing</td>\n",
              "      <td>Sulthan Bathery</td>\n",
              "      <td>India</td>\n",
              "      <td>30.0</td>\n",
              "      <td>male</td>\n",
              "      <td>156.2</td>\n",
              "      <td>Born Again</td>\n",
              "      <td>Christian</td>\n",
              "      <td>Malayalam</td>\n",
              "    </tr>\n",
              "  </tbody>\n",
              "</table>\n",
              "</div>"
            ],
            "text/plain": [
              "   gender  ... mother_tongue_random\n",
              "0  female  ...               Telugu\n",
              "1    male  ...             Gujarati\n",
              "2    male  ...                Hindi\n",
              "3  female  ...                Hindi\n",
              "4    male  ...            Malayalam\n",
              "\n",
              "[5 rows x 10 columns]"
            ]
          },
          "metadata": {
            "tags": []
          },
          "execution_count": 33
        }
      ]
    },
    {
      "cell_type": "code",
      "metadata": {
        "colab": {
          "base_uri": "https://localhost:8080/"
        },
        "id": "czNhj0J8k8Wz",
        "outputId": "96ea2e66-48b4-4fa2-ecf2-c414fdd1ca6b"
      },
      "source": [
        "data5.isnull().sum()"
      ],
      "execution_count": null,
      "outputs": [
        {
          "output_type": "execute_result",
          "data": {
            "text/plain": [
              "gender                   29\n",
              "profession              330\n",
              "location                155\n",
              "country                   0\n",
              "age_of_marriage          19\n",
              "gender_random             0\n",
              "total_height_in_cms       0\n",
              "caste_random              0\n",
              "religion_random           0\n",
              "mother_tongue_random      0\n",
              "dtype: int64"
            ]
          },
          "metadata": {
            "tags": []
          },
          "execution_count": 34
        }
      ]
    },
    {
      "cell_type": "markdown",
      "metadata": {
        "id": "GGA_ighulwiU"
      },
      "source": [
        "Dealing with profession"
      ]
    },
    {
      "cell_type": "code",
      "metadata": {
        "colab": {
          "base_uri": "https://localhost:8080/"
        },
        "id": "mw3hVAePldYz",
        "outputId": "ff74d13a-9da7-49b5-893c-da64aca92e15"
      },
      "source": [
        "data5['profession'].nunique()"
      ],
      "execution_count": null,
      "outputs": [
        {
          "output_type": "execute_result",
          "data": {
            "text/plain": [
              "86"
            ]
          },
          "metadata": {
            "tags": []
          },
          "execution_count": 35
        }
      ]
    },
    {
      "cell_type": "code",
      "metadata": {
        "colab": {
          "base_uri": "https://localhost:8080/"
        },
        "id": "iuTAaj8amGAq",
        "outputId": "16ae2c93-2813-4ac9-8644-48be4d5168c2"
      },
      "source": [
        "data5['profession'].value_counts()"
      ],
      "execution_count": null,
      "outputs": [
        {
          "output_type": "execute_result",
          "data": {
            "text/plain": [
              "Not Specified                   264\n",
              "Not working                     253\n",
              "Banking Professional            109\n",
              "Software Professional           105\n",
              "Entrepreneurs / Business         86\n",
              "                               ... \n",
              "Journalist                        1\n",
              "IAS / IRS / IES / IFS             1\n",
              "Indian Police Services [IPS]      1\n",
              "Hairstylist                       1\n",
              "Landscape Architect               1\n",
              "Name: profession, Length: 86, dtype: int64"
            ]
          },
          "metadata": {
            "tags": []
          },
          "execution_count": 36
        }
      ]
    },
    {
      "cell_type": "code",
      "metadata": {
        "colab": {
          "base_uri": "https://localhost:8080/"
        },
        "id": "fPmBw_dfnTEk",
        "outputId": "c16ea50d-eda8-4055-8386-784a079f6995"
      },
      "source": [
        "data5['profession'].fillna('missing',inplace=True)\r\n",
        "data5.isnull().sum()"
      ],
      "execution_count": null,
      "outputs": [
        {
          "output_type": "execute_result",
          "data": {
            "text/plain": [
              "gender                   29\n",
              "profession                0\n",
              "location                155\n",
              "country                   0\n",
              "age_of_marriage          19\n",
              "gender_random             0\n",
              "total_height_in_cms       0\n",
              "caste_random              0\n",
              "religion_random           0\n",
              "mother_tongue_random      0\n",
              "dtype: int64"
            ]
          },
          "metadata": {
            "tags": []
          },
          "execution_count": 37
        }
      ]
    },
    {
      "cell_type": "code",
      "metadata": {
        "colab": {
          "base_uri": "https://localhost:8080/",
          "height": 326
        },
        "id": "usoSQKs_8w4C",
        "outputId": "70ebc0e1-7a25-447a-e719-30f02a9399d8"
      },
      "source": [
        "data5['profession_after_impute']=data5['profession']\r\n",
        "data5.head()\r\n",
        "data5.isnull().sum()\r\n",
        "data5.head()"
      ],
      "execution_count": null,
      "outputs": [
        {
          "output_type": "execute_result",
          "data": {
            "text/html": [
              "<div>\n",
              "<style scoped>\n",
              "    .dataframe tbody tr th:only-of-type {\n",
              "        vertical-align: middle;\n",
              "    }\n",
              "\n",
              "    .dataframe tbody tr th {\n",
              "        vertical-align: top;\n",
              "    }\n",
              "\n",
              "    .dataframe thead th {\n",
              "        text-align: right;\n",
              "    }\n",
              "</style>\n",
              "<table border=\"1\" class=\"dataframe\">\n",
              "  <thead>\n",
              "    <tr style=\"text-align: right;\">\n",
              "      <th></th>\n",
              "      <th>gender</th>\n",
              "      <th>profession</th>\n",
              "      <th>location</th>\n",
              "      <th>country</th>\n",
              "      <th>age_of_marriage</th>\n",
              "      <th>gender_random</th>\n",
              "      <th>total_height_in_cms</th>\n",
              "      <th>caste_random</th>\n",
              "      <th>religion_random</th>\n",
              "      <th>mother_tongue_random</th>\n",
              "      <th>profession_after_impute</th>\n",
              "    </tr>\n",
              "  </thead>\n",
              "  <tbody>\n",
              "    <tr>\n",
              "      <th>0</th>\n",
              "      <td>female</td>\n",
              "      <td>missing</td>\n",
              "      <td>London</td>\n",
              "      <td>United Kingdom</td>\n",
              "      <td>21.0</td>\n",
              "      <td>female</td>\n",
              "      <td>155.2</td>\n",
              "      <td>others</td>\n",
              "      <td>Hindu</td>\n",
              "      <td>Telugu</td>\n",
              "      <td>missing</td>\n",
              "    </tr>\n",
              "    <tr>\n",
              "      <th>1</th>\n",
              "      <td>male</td>\n",
              "      <td>Doctor / Healthcare Professional</td>\n",
              "      <td>Fairfax- VA</td>\n",
              "      <td>USA</td>\n",
              "      <td>32.0</td>\n",
              "      <td>male</td>\n",
              "      <td>158.2</td>\n",
              "      <td>Shwetamber</td>\n",
              "      <td>Jain</td>\n",
              "      <td>Gujarati</td>\n",
              "      <td>Doctor / Healthcare Professional</td>\n",
              "    </tr>\n",
              "    <tr>\n",
              "      <th>2</th>\n",
              "      <td>male</td>\n",
              "      <td>Entrepreneurs / Business</td>\n",
              "      <td>Begusarai</td>\n",
              "      <td>India</td>\n",
              "      <td>32.0</td>\n",
              "      <td>male</td>\n",
              "      <td>158.2</td>\n",
              "      <td>Brahmin</td>\n",
              "      <td>Hindu</td>\n",
              "      <td>Hindi</td>\n",
              "      <td>Entrepreneurs / Business</td>\n",
              "    </tr>\n",
              "    <tr>\n",
              "      <th>3</th>\n",
              "      <td>female</td>\n",
              "      <td>Architect</td>\n",
              "      <td>Mumbai</td>\n",
              "      <td>India</td>\n",
              "      <td>30.0</td>\n",
              "      <td>female</td>\n",
              "      <td>151.2</td>\n",
              "      <td>Thakur</td>\n",
              "      <td>Hindu</td>\n",
              "      <td>Hindi</td>\n",
              "      <td>Architect</td>\n",
              "    </tr>\n",
              "    <tr>\n",
              "      <th>4</th>\n",
              "      <td>male</td>\n",
              "      <td>Sales Professional / Marketing</td>\n",
              "      <td>Sulthan Bathery</td>\n",
              "      <td>India</td>\n",
              "      <td>30.0</td>\n",
              "      <td>male</td>\n",
              "      <td>156.2</td>\n",
              "      <td>Born Again</td>\n",
              "      <td>Christian</td>\n",
              "      <td>Malayalam</td>\n",
              "      <td>Sales Professional / Marketing</td>\n",
              "    </tr>\n",
              "  </tbody>\n",
              "</table>\n",
              "</div>"
            ],
            "text/plain": [
              "   gender  ...           profession_after_impute\n",
              "0  female  ...                           missing\n",
              "1    male  ...  Doctor / Healthcare Professional\n",
              "2    male  ...         Entrepreneurs / Business \n",
              "3  female  ...                         Architect\n",
              "4    male  ...    Sales Professional / Marketing\n",
              "\n",
              "[5 rows x 11 columns]"
            ]
          },
          "metadata": {
            "tags": []
          },
          "execution_count": 38
        }
      ]
    },
    {
      "cell_type": "code",
      "metadata": {
        "colab": {
          "base_uri": "https://localhost:8080/",
          "height": 291
        },
        "id": "-0yPIgtMKVAd",
        "outputId": "71b9c033-8b73-4f54-bf32-03d42b8e55d1"
      },
      "source": [
        "data6=data5.drop(['profession'],axis=1)\r\n",
        "\r\n",
        "profession_name=[]\r\n",
        "for i in range(len(data6['profession_after_impute'])):\r\n",
        "    if '/' not in data6['profession_after_impute'][i]:\r\n",
        "        profession_name.append(data6['profession_after_impute'][i]+'/almost_same')\r\n",
        "    else:\r\n",
        "      profession_name.append(data6['profession_after_impute'][i])\r\n",
        "\r\n",
        "profession_name\r\n",
        "profession_a=pd.DataFrame({'profession_of_person':profession_name})\r\n",
        "profession_a.head()\r\n",
        "\r\n",
        "data7=pd.concat([data6,profession_a],axis=1)\r\n",
        "data7.head()\r\n",
        "data8=data7.drop(['profession_after_impute'],axis=1)\r\n",
        "data8.head()"
      ],
      "execution_count": null,
      "outputs": [
        {
          "output_type": "execute_result",
          "data": {
            "text/html": [
              "<div>\n",
              "<style scoped>\n",
              "    .dataframe tbody tr th:only-of-type {\n",
              "        vertical-align: middle;\n",
              "    }\n",
              "\n",
              "    .dataframe tbody tr th {\n",
              "        vertical-align: top;\n",
              "    }\n",
              "\n",
              "    .dataframe thead th {\n",
              "        text-align: right;\n",
              "    }\n",
              "</style>\n",
              "<table border=\"1\" class=\"dataframe\">\n",
              "  <thead>\n",
              "    <tr style=\"text-align: right;\">\n",
              "      <th></th>\n",
              "      <th>gender</th>\n",
              "      <th>location</th>\n",
              "      <th>country</th>\n",
              "      <th>age_of_marriage</th>\n",
              "      <th>gender_random</th>\n",
              "      <th>total_height_in_cms</th>\n",
              "      <th>caste_random</th>\n",
              "      <th>religion_random</th>\n",
              "      <th>mother_tongue_random</th>\n",
              "      <th>profession_of_person</th>\n",
              "    </tr>\n",
              "  </thead>\n",
              "  <tbody>\n",
              "    <tr>\n",
              "      <th>0</th>\n",
              "      <td>female</td>\n",
              "      <td>London</td>\n",
              "      <td>United Kingdom</td>\n",
              "      <td>21.0</td>\n",
              "      <td>female</td>\n",
              "      <td>155.2</td>\n",
              "      <td>others</td>\n",
              "      <td>Hindu</td>\n",
              "      <td>Telugu</td>\n",
              "      <td>missing/almost_same</td>\n",
              "    </tr>\n",
              "    <tr>\n",
              "      <th>1</th>\n",
              "      <td>male</td>\n",
              "      <td>Fairfax- VA</td>\n",
              "      <td>USA</td>\n",
              "      <td>32.0</td>\n",
              "      <td>male</td>\n",
              "      <td>158.2</td>\n",
              "      <td>Shwetamber</td>\n",
              "      <td>Jain</td>\n",
              "      <td>Gujarati</td>\n",
              "      <td>Doctor / Healthcare Professional</td>\n",
              "    </tr>\n",
              "    <tr>\n",
              "      <th>2</th>\n",
              "      <td>male</td>\n",
              "      <td>Begusarai</td>\n",
              "      <td>India</td>\n",
              "      <td>32.0</td>\n",
              "      <td>male</td>\n",
              "      <td>158.2</td>\n",
              "      <td>Brahmin</td>\n",
              "      <td>Hindu</td>\n",
              "      <td>Hindi</td>\n",
              "      <td>Entrepreneurs / Business</td>\n",
              "    </tr>\n",
              "    <tr>\n",
              "      <th>3</th>\n",
              "      <td>female</td>\n",
              "      <td>Mumbai</td>\n",
              "      <td>India</td>\n",
              "      <td>30.0</td>\n",
              "      <td>female</td>\n",
              "      <td>151.2</td>\n",
              "      <td>Thakur</td>\n",
              "      <td>Hindu</td>\n",
              "      <td>Hindi</td>\n",
              "      <td>Architect/almost_same</td>\n",
              "    </tr>\n",
              "    <tr>\n",
              "      <th>4</th>\n",
              "      <td>male</td>\n",
              "      <td>Sulthan Bathery</td>\n",
              "      <td>India</td>\n",
              "      <td>30.0</td>\n",
              "      <td>male</td>\n",
              "      <td>156.2</td>\n",
              "      <td>Born Again</td>\n",
              "      <td>Christian</td>\n",
              "      <td>Malayalam</td>\n",
              "      <td>Sales Professional / Marketing</td>\n",
              "    </tr>\n",
              "  </tbody>\n",
              "</table>\n",
              "</div>"
            ],
            "text/plain": [
              "   gender  ...              profession_of_person\n",
              "0  female  ...               missing/almost_same\n",
              "1    male  ...  Doctor / Healthcare Professional\n",
              "2    male  ...         Entrepreneurs / Business \n",
              "3  female  ...             Architect/almost_same\n",
              "4    male  ...    Sales Professional / Marketing\n",
              "\n",
              "[5 rows x 10 columns]"
            ]
          },
          "metadata": {
            "tags": []
          },
          "execution_count": 39
        }
      ]
    },
    {
      "cell_type": "code",
      "metadata": {
        "colab": {
          "base_uri": "https://localhost:8080/",
          "height": 274
        },
        "id": "YCS1QAnKns7J",
        "outputId": "7b9a32a6-cc8e-4265-9b38-a0ee5e2322d5"
      },
      "source": [
        "data8['person_by_profession']=data8['profession_of_person'].str.split('/').str[0]\r\n",
        "data9=data8.drop(['profession_of_person'],axis=1)\r\n",
        "data9.head()"
      ],
      "execution_count": null,
      "outputs": [
        {
          "output_type": "execute_result",
          "data": {
            "text/html": [
              "<div>\n",
              "<style scoped>\n",
              "    .dataframe tbody tr th:only-of-type {\n",
              "        vertical-align: middle;\n",
              "    }\n",
              "\n",
              "    .dataframe tbody tr th {\n",
              "        vertical-align: top;\n",
              "    }\n",
              "\n",
              "    .dataframe thead th {\n",
              "        text-align: right;\n",
              "    }\n",
              "</style>\n",
              "<table border=\"1\" class=\"dataframe\">\n",
              "  <thead>\n",
              "    <tr style=\"text-align: right;\">\n",
              "      <th></th>\n",
              "      <th>gender</th>\n",
              "      <th>location</th>\n",
              "      <th>country</th>\n",
              "      <th>age_of_marriage</th>\n",
              "      <th>gender_random</th>\n",
              "      <th>total_height_in_cms</th>\n",
              "      <th>caste_random</th>\n",
              "      <th>religion_random</th>\n",
              "      <th>mother_tongue_random</th>\n",
              "      <th>person_by_profession</th>\n",
              "    </tr>\n",
              "  </thead>\n",
              "  <tbody>\n",
              "    <tr>\n",
              "      <th>0</th>\n",
              "      <td>female</td>\n",
              "      <td>London</td>\n",
              "      <td>United Kingdom</td>\n",
              "      <td>21.0</td>\n",
              "      <td>female</td>\n",
              "      <td>155.2</td>\n",
              "      <td>others</td>\n",
              "      <td>Hindu</td>\n",
              "      <td>Telugu</td>\n",
              "      <td>missing</td>\n",
              "    </tr>\n",
              "    <tr>\n",
              "      <th>1</th>\n",
              "      <td>male</td>\n",
              "      <td>Fairfax- VA</td>\n",
              "      <td>USA</td>\n",
              "      <td>32.0</td>\n",
              "      <td>male</td>\n",
              "      <td>158.2</td>\n",
              "      <td>Shwetamber</td>\n",
              "      <td>Jain</td>\n",
              "      <td>Gujarati</td>\n",
              "      <td>Doctor</td>\n",
              "    </tr>\n",
              "    <tr>\n",
              "      <th>2</th>\n",
              "      <td>male</td>\n",
              "      <td>Begusarai</td>\n",
              "      <td>India</td>\n",
              "      <td>32.0</td>\n",
              "      <td>male</td>\n",
              "      <td>158.2</td>\n",
              "      <td>Brahmin</td>\n",
              "      <td>Hindu</td>\n",
              "      <td>Hindi</td>\n",
              "      <td>Entrepreneurs</td>\n",
              "    </tr>\n",
              "    <tr>\n",
              "      <th>3</th>\n",
              "      <td>female</td>\n",
              "      <td>Mumbai</td>\n",
              "      <td>India</td>\n",
              "      <td>30.0</td>\n",
              "      <td>female</td>\n",
              "      <td>151.2</td>\n",
              "      <td>Thakur</td>\n",
              "      <td>Hindu</td>\n",
              "      <td>Hindi</td>\n",
              "      <td>Architect</td>\n",
              "    </tr>\n",
              "    <tr>\n",
              "      <th>4</th>\n",
              "      <td>male</td>\n",
              "      <td>Sulthan Bathery</td>\n",
              "      <td>India</td>\n",
              "      <td>30.0</td>\n",
              "      <td>male</td>\n",
              "      <td>156.2</td>\n",
              "      <td>Born Again</td>\n",
              "      <td>Christian</td>\n",
              "      <td>Malayalam</td>\n",
              "      <td>Sales Professional</td>\n",
              "    </tr>\n",
              "  </tbody>\n",
              "</table>\n",
              "</div>"
            ],
            "text/plain": [
              "   gender         location  ... mother_tongue_random  person_by_profession\n",
              "0  female           London  ...               Telugu               missing\n",
              "1    male      Fairfax- VA  ...             Gujarati               Doctor \n",
              "2    male        Begusarai  ...                Hindi        Entrepreneurs \n",
              "3  female           Mumbai  ...                Hindi             Architect\n",
              "4    male  Sulthan Bathery  ...            Malayalam   Sales Professional \n",
              "\n",
              "[5 rows x 10 columns]"
            ]
          },
          "metadata": {
            "tags": []
          },
          "execution_count": 40
        }
      ]
    },
    {
      "cell_type": "markdown",
      "metadata": {
        "id": "WJu6kWxNOiEU"
      },
      "source": [
        "Dealing with location"
      ]
    },
    {
      "cell_type": "code",
      "metadata": {
        "colab": {
          "base_uri": "https://localhost:8080/"
        },
        "id": "cuhxCB87Oj_d",
        "outputId": "0357c71d-0670-452d-a628-0f37147a4dc2"
      },
      "source": [
        "data9['location'].isnull().sum()\r\n",
        "data9['location'].nunique()\r\n",
        "data9['location'].value_counts()\r\n",
        "\r\n",
        "\r\n",
        "\r\n"
      ],
      "execution_count": null,
      "outputs": [
        {
          "output_type": "execute_result",
          "data": {
            "text/plain": [
              "Mumbai                   213\n",
              "Bengaluru / Bangalore    169\n",
              "Delhi                    140\n",
              "Hyderabad                100\n",
              "Pune                      90\n",
              "                        ... \n",
              "Rockville- MD              1\n",
              "Darwin                     1\n",
              "Mandi                      1\n",
              "Kannur                     1\n",
              "Udaipur                    1\n",
              "Name: location, Length: 536, dtype: int64"
            ]
          },
          "metadata": {
            "tags": []
          },
          "execution_count": 41
        }
      ]
    },
    {
      "cell_type": "code",
      "metadata": {
        "id": "b3wFApqKY0At"
      },
      "source": [
        "data9['location']=data9['location'].replace('Bengaluru / Bangalore','Bengaluru')\r\n",
        "data9['location']=data9['location'].replace('Fairfax- VA','Fairfax')\r\n",
        "data9['location'].value_counts()\r\n",
        "impute_nan(data9,'location')"
      ],
      "execution_count": null,
      "outputs": []
    },
    {
      "cell_type": "code",
      "metadata": {
        "colab": {
          "base_uri": "https://localhost:8080/"
        },
        "id": "ndSJFE3saMvt",
        "outputId": "f8f75b84-ca12-4901-a149-05d12b38180c"
      },
      "source": [
        "data9.head()\r\n",
        "data9.shape"
      ],
      "execution_count": null,
      "outputs": [
        {
          "output_type": "execute_result",
          "data": {
            "text/plain": [
              "(2567, 11)"
            ]
          },
          "metadata": {
            "tags": []
          },
          "execution_count": 43
        }
      ]
    },
    {
      "cell_type": "code",
      "metadata": {
        "colab": {
          "base_uri": "https://localhost:8080/",
          "height": 470
        },
        "id": "wItMfjW7aTfx",
        "outputId": "325627f4-5547-4788-cce1-48353245a79f"
      },
      "source": [
        "data9.dropna()"
      ],
      "execution_count": null,
      "outputs": [
        {
          "output_type": "execute_result",
          "data": {
            "text/html": [
              "<div>\n",
              "<style scoped>\n",
              "    .dataframe tbody tr th:only-of-type {\n",
              "        vertical-align: middle;\n",
              "    }\n",
              "\n",
              "    .dataframe tbody tr th {\n",
              "        vertical-align: top;\n",
              "    }\n",
              "\n",
              "    .dataframe thead th {\n",
              "        text-align: right;\n",
              "    }\n",
              "</style>\n",
              "<table border=\"1\" class=\"dataframe\">\n",
              "  <thead>\n",
              "    <tr style=\"text-align: right;\">\n",
              "      <th></th>\n",
              "      <th>gender</th>\n",
              "      <th>location</th>\n",
              "      <th>country</th>\n",
              "      <th>age_of_marriage</th>\n",
              "      <th>gender_random</th>\n",
              "      <th>total_height_in_cms</th>\n",
              "      <th>caste_random</th>\n",
              "      <th>religion_random</th>\n",
              "      <th>mother_tongue_random</th>\n",
              "      <th>person_by_profession</th>\n",
              "      <th>location_random</th>\n",
              "    </tr>\n",
              "  </thead>\n",
              "  <tbody>\n",
              "    <tr>\n",
              "      <th>0</th>\n",
              "      <td>female</td>\n",
              "      <td>London</td>\n",
              "      <td>United Kingdom</td>\n",
              "      <td>21.0</td>\n",
              "      <td>female</td>\n",
              "      <td>155.20</td>\n",
              "      <td>others</td>\n",
              "      <td>Hindu</td>\n",
              "      <td>Telugu</td>\n",
              "      <td>missing</td>\n",
              "      <td>London</td>\n",
              "    </tr>\n",
              "    <tr>\n",
              "      <th>1</th>\n",
              "      <td>male</td>\n",
              "      <td>Fairfax</td>\n",
              "      <td>USA</td>\n",
              "      <td>32.0</td>\n",
              "      <td>male</td>\n",
              "      <td>158.20</td>\n",
              "      <td>Shwetamber</td>\n",
              "      <td>Jain</td>\n",
              "      <td>Gujarati</td>\n",
              "      <td>Doctor</td>\n",
              "      <td>Fairfax</td>\n",
              "    </tr>\n",
              "    <tr>\n",
              "      <th>2</th>\n",
              "      <td>male</td>\n",
              "      <td>Begusarai</td>\n",
              "      <td>India</td>\n",
              "      <td>32.0</td>\n",
              "      <td>male</td>\n",
              "      <td>158.20</td>\n",
              "      <td>Brahmin</td>\n",
              "      <td>Hindu</td>\n",
              "      <td>Hindi</td>\n",
              "      <td>Entrepreneurs</td>\n",
              "      <td>Begusarai</td>\n",
              "    </tr>\n",
              "    <tr>\n",
              "      <th>3</th>\n",
              "      <td>female</td>\n",
              "      <td>Mumbai</td>\n",
              "      <td>India</td>\n",
              "      <td>30.0</td>\n",
              "      <td>female</td>\n",
              "      <td>151.20</td>\n",
              "      <td>Thakur</td>\n",
              "      <td>Hindu</td>\n",
              "      <td>Hindi</td>\n",
              "      <td>Architect</td>\n",
              "      <td>Mumbai</td>\n",
              "    </tr>\n",
              "    <tr>\n",
              "      <th>4</th>\n",
              "      <td>male</td>\n",
              "      <td>Sulthan Bathery</td>\n",
              "      <td>India</td>\n",
              "      <td>30.0</td>\n",
              "      <td>male</td>\n",
              "      <td>156.20</td>\n",
              "      <td>Born Again</td>\n",
              "      <td>Christian</td>\n",
              "      <td>Malayalam</td>\n",
              "      <td>Sales Professional</td>\n",
              "      <td>Sulthan Bathery</td>\n",
              "    </tr>\n",
              "    <tr>\n",
              "      <th>...</th>\n",
              "      <td>...</td>\n",
              "      <td>...</td>\n",
              "      <td>...</td>\n",
              "      <td>...</td>\n",
              "      <td>...</td>\n",
              "      <td>...</td>\n",
              "      <td>...</td>\n",
              "      <td>...</td>\n",
              "      <td>...</td>\n",
              "      <td>...</td>\n",
              "      <td>...</td>\n",
              "    </tr>\n",
              "    <tr>\n",
              "      <th>2562</th>\n",
              "      <td>female</td>\n",
              "      <td>Agra</td>\n",
              "      <td>India</td>\n",
              "      <td>27.0</td>\n",
              "      <td>female</td>\n",
              "      <td>154.20</td>\n",
              "      <td>Thakur</td>\n",
              "      <td>Hindu</td>\n",
              "      <td>Hindi</td>\n",
              "      <td>Banking Professional</td>\n",
              "      <td>Agra</td>\n",
              "    </tr>\n",
              "    <tr>\n",
              "      <th>2563</th>\n",
              "      <td>male</td>\n",
              "      <td>Ottawa</td>\n",
              "      <td>Canada</td>\n",
              "      <td>31.0</td>\n",
              "      <td>male</td>\n",
              "      <td>162.20</td>\n",
              "      <td>Thakur</td>\n",
              "      <td>Hindu</td>\n",
              "      <td>Hindi</td>\n",
              "      <td>Software Professional</td>\n",
              "      <td>Ottawa</td>\n",
              "    </tr>\n",
              "    <tr>\n",
              "      <th>2564</th>\n",
              "      <td>female</td>\n",
              "      <td>Bengaluru</td>\n",
              "      <td>India</td>\n",
              "      <td>28.0</td>\n",
              "      <td>female</td>\n",
              "      <td>154.20</td>\n",
              "      <td>Baishya</td>\n",
              "      <td>Hindu</td>\n",
              "      <td>Bengali</td>\n",
              "      <td>Software Consultant</td>\n",
              "      <td>Bengaluru</td>\n",
              "    </tr>\n",
              "    <tr>\n",
              "      <th>2565</th>\n",
              "      <td>female</td>\n",
              "      <td>Hyderabad</td>\n",
              "      <td>India</td>\n",
              "      <td>26.0</td>\n",
              "      <td>female</td>\n",
              "      <td>131.96</td>\n",
              "      <td>others</td>\n",
              "      <td>Hindu</td>\n",
              "      <td>Telugu</td>\n",
              "      <td>Not working</td>\n",
              "      <td>Hyderabad</td>\n",
              "    </tr>\n",
              "    <tr>\n",
              "      <th>2566</th>\n",
              "      <td>female</td>\n",
              "      <td>Pune</td>\n",
              "      <td>India</td>\n",
              "      <td>32.0</td>\n",
              "      <td>female</td>\n",
              "      <td>153.20</td>\n",
              "      <td>Marthoma</td>\n",
              "      <td>Christian</td>\n",
              "      <td>Malayalam</td>\n",
              "      <td>Software Professional</td>\n",
              "      <td>Pune</td>\n",
              "    </tr>\n",
              "  </tbody>\n",
              "</table>\n",
              "<p>2370 rows × 11 columns</p>\n",
              "</div>"
            ],
            "text/plain": [
              "      gender         location  ...   person_by_profession  location_random\n",
              "0     female           London  ...                missing           London\n",
              "1       male          Fairfax  ...                Doctor           Fairfax\n",
              "2       male        Begusarai  ...         Entrepreneurs         Begusarai\n",
              "3     female           Mumbai  ...              Architect           Mumbai\n",
              "4       male  Sulthan Bathery  ...    Sales Professional   Sulthan Bathery\n",
              "...      ...              ...  ...                    ...              ...\n",
              "2562  female             Agra  ...   Banking Professional             Agra\n",
              "2563    male           Ottawa  ...  Software Professional           Ottawa\n",
              "2564  female        Bengaluru  ...    Software Consultant        Bengaluru\n",
              "2565  female        Hyderabad  ...            Not working        Hyderabad\n",
              "2566  female             Pune  ...  Software Professional             Pune\n",
              "\n",
              "[2370 rows x 11 columns]"
            ]
          },
          "metadata": {
            "tags": []
          },
          "execution_count": 44
        }
      ]
    },
    {
      "cell_type": "code",
      "metadata": {
        "id": "BduqqYQzIQFL"
      },
      "source": [
        "data10=data9.drop(['location'],axis=1)\r\n"
      ],
      "execution_count": null,
      "outputs": []
    },
    {
      "cell_type": "code",
      "metadata": {
        "colab": {
          "base_uri": "https://localhost:8080/"
        },
        "id": "voJEI5lwITUA",
        "outputId": "d9d44584-2403-4811-a9b2-463890260a07"
      },
      "source": [
        "data10.isnull().sum()"
      ],
      "execution_count": null,
      "outputs": [
        {
          "output_type": "execute_result",
          "data": {
            "text/plain": [
              "gender                  29\n",
              "country                  0\n",
              "age_of_marriage         19\n",
              "gender_random            0\n",
              "total_height_in_cms      0\n",
              "caste_random             0\n",
              "religion_random          0\n",
              "mother_tongue_random     0\n",
              "person_by_profession     0\n",
              "location_random          0\n",
              "dtype: int64"
            ]
          },
          "metadata": {
            "tags": []
          },
          "execution_count": 46
        }
      ]
    },
    {
      "cell_type": "code",
      "metadata": {
        "colab": {
          "base_uri": "https://localhost:8080/",
          "height": 352
        },
        "id": "tSEYOENHkSiq",
        "outputId": "ffbf5635-39b5-40fa-cfcd-e504d2fdb9d6"
      },
      "source": [
        "import seaborn as sns\r\n",
        "sns.boxplot(data10['age_of_marriage'])"
      ],
      "execution_count": null,
      "outputs": [
        {
          "output_type": "stream",
          "text": [
            "/usr/local/lib/python3.6/dist-packages/seaborn/_decorators.py:43: FutureWarning: Pass the following variable as a keyword arg: x. From version 0.12, the only valid positional argument will be `data`, and passing other arguments without an explicit keyword will result in an error or misinterpretation.\n",
            "  FutureWarning\n"
          ],
          "name": "stderr"
        },
        {
          "output_type": "execute_result",
          "data": {
            "text/plain": [
              "<matplotlib.axes._subplots.AxesSubplot at 0x7faf059f8c88>"
            ]
          },
          "metadata": {
            "tags": []
          },
          "execution_count": 47
        },
        {
          "output_type": "display_data",
          "data": {
            "image/png": "[encoded data removed]",
            "text/plain": [
              "<Figure size 432x288 with 1 Axes>"
            ]
          },
          "metadata": {
            "tags": [],
            "needs_background": "light"
          }
        }
      ]
    },
    {
      "cell_type": "code",
      "metadata": {
        "colab": {
          "base_uri": "https://localhost:8080/",
          "height": 239
        },
        "id": "XAjOJUCfkw3A",
        "outputId": "70a1e351-c123-40bd-ecd9-08bdacd90f19"
      },
      "source": [
        "data10.head()"
      ],
      "execution_count": null,
      "outputs": [
        {
          "output_type": "execute_result",
          "data": {
            "text/html": [
              "<div>\n",
              "<style scoped>\n",
              "    .dataframe tbody tr th:only-of-type {\n",
              "        vertical-align: middle;\n",
              "    }\n",
              "\n",
              "    .dataframe tbody tr th {\n",
              "        vertical-align: top;\n",
              "    }\n",
              "\n",
              "    .dataframe thead th {\n",
              "        text-align: right;\n",
              "    }\n",
              "</style>\n",
              "<table border=\"1\" class=\"dataframe\">\n",
              "  <thead>\n",
              "    <tr style=\"text-align: right;\">\n",
              "      <th></th>\n",
              "      <th>gender</th>\n",
              "      <th>country</th>\n",
              "      <th>age_of_marriage</th>\n",
              "      <th>gender_random</th>\n",
              "      <th>total_height_in_cms</th>\n",
              "      <th>caste_random</th>\n",
              "      <th>religion_random</th>\n",
              "      <th>mother_tongue_random</th>\n",
              "      <th>person_by_profession</th>\n",
              "      <th>location_random</th>\n",
              "    </tr>\n",
              "  </thead>\n",
              "  <tbody>\n",
              "    <tr>\n",
              "      <th>0</th>\n",
              "      <td>female</td>\n",
              "      <td>United Kingdom</td>\n",
              "      <td>21.0</td>\n",
              "      <td>female</td>\n",
              "      <td>155.2</td>\n",
              "      <td>others</td>\n",
              "      <td>Hindu</td>\n",
              "      <td>Telugu</td>\n",
              "      <td>missing</td>\n",
              "      <td>London</td>\n",
              "    </tr>\n",
              "    <tr>\n",
              "      <th>1</th>\n",
              "      <td>male</td>\n",
              "      <td>USA</td>\n",
              "      <td>32.0</td>\n",
              "      <td>male</td>\n",
              "      <td>158.2</td>\n",
              "      <td>Shwetamber</td>\n",
              "      <td>Jain</td>\n",
              "      <td>Gujarati</td>\n",
              "      <td>Doctor</td>\n",
              "      <td>Fairfax</td>\n",
              "    </tr>\n",
              "    <tr>\n",
              "      <th>2</th>\n",
              "      <td>male</td>\n",
              "      <td>India</td>\n",
              "      <td>32.0</td>\n",
              "      <td>male</td>\n",
              "      <td>158.2</td>\n",
              "      <td>Brahmin</td>\n",
              "      <td>Hindu</td>\n",
              "      <td>Hindi</td>\n",
              "      <td>Entrepreneurs</td>\n",
              "      <td>Begusarai</td>\n",
              "    </tr>\n",
              "    <tr>\n",
              "      <th>3</th>\n",
              "      <td>female</td>\n",
              "      <td>India</td>\n",
              "      <td>30.0</td>\n",
              "      <td>female</td>\n",
              "      <td>151.2</td>\n",
              "      <td>Thakur</td>\n",
              "      <td>Hindu</td>\n",
              "      <td>Hindi</td>\n",
              "      <td>Architect</td>\n",
              "      <td>Mumbai</td>\n",
              "    </tr>\n",
              "    <tr>\n",
              "      <th>4</th>\n",
              "      <td>male</td>\n",
              "      <td>India</td>\n",
              "      <td>30.0</td>\n",
              "      <td>male</td>\n",
              "      <td>156.2</td>\n",
              "      <td>Born Again</td>\n",
              "      <td>Christian</td>\n",
              "      <td>Malayalam</td>\n",
              "      <td>Sales Professional</td>\n",
              "      <td>Sulthan Bathery</td>\n",
              "    </tr>\n",
              "  </tbody>\n",
              "</table>\n",
              "</div>"
            ],
            "text/plain": [
              "   gender          country  ...  person_by_profession  location_random\n",
              "0  female   United Kingdom  ...               missing           London\n",
              "1    male              USA  ...               Doctor           Fairfax\n",
              "2    male            India  ...        Entrepreneurs         Begusarai\n",
              "3  female            India  ...             Architect           Mumbai\n",
              "4    male            India  ...   Sales Professional   Sulthan Bathery\n",
              "\n",
              "[5 rows x 10 columns]"
            ]
          },
          "metadata": {
            "tags": []
          },
          "execution_count": 48
        }
      ]
    },
    {
      "cell_type": "code",
      "metadata": {
        "colab": {
          "base_uri": "https://localhost:8080/",
          "height": 653
        },
        "id": "ZWNz-FgGkr8e",
        "outputId": "dc120b0a-f6de-4feb-a309-b594c0e0c8a7"
      },
      "source": [
        "data10['country'].nunique()\r\n",
        "data10['country'].value_counts()\r\n",
        "\r\n",
        "# top  7 rule\r\n",
        "top_7_labels = [y for y in data10.country.value_counts().sort_values(ascending=False).head(10).index]\r\n",
        "# get whole set of dummy variables, for all the categorical variables\r\n",
        "\r\n",
        "def one_hot_encoding_top_x(df, variable, top_x_labels):\r\n",
        "    # function to create the dummy variables for the most frequent labels\r\n",
        "    # we can vary the number of most frequent labels that we encode\r\n",
        "    \r\n",
        "    for label in top_x_labels:\r\n",
        "        df[variable+'_'+label] = np.where(df[variable]==label, 1, 0)\r\n",
        "\r\n",
        "one_hot_encoding_top_x(data10,'country',top_7_labels)\r\n",
        "data10.head()\r\n",
        "data10.groupby('country').age_of_marriage.median().plot.bar()\r\n",
        "data10.head()"
      ],
      "execution_count": null,
      "outputs": [
        {
          "output_type": "execute_result",
          "data": {
            "text/html": [
              "<div>\n",
              "<style scoped>\n",
              "    .dataframe tbody tr th:only-of-type {\n",
              "        vertical-align: middle;\n",
              "    }\n",
              "\n",
              "    .dataframe tbody tr th {\n",
              "        vertical-align: top;\n",
              "    }\n",
              "\n",
              "    .dataframe thead th {\n",
              "        text-align: right;\n",
              "    }\n",
              "</style>\n",
              "<table border=\"1\" class=\"dataframe\">\n",
              "  <thead>\n",
              "    <tr style=\"text-align: right;\">\n",
              "      <th></th>\n",
              "      <th>gender</th>\n",
              "      <th>country</th>\n",
              "      <th>age_of_marriage</th>\n",
              "      <th>gender_random</th>\n",
              "      <th>total_height_in_cms</th>\n",
              "      <th>caste_random</th>\n",
              "      <th>religion_random</th>\n",
              "      <th>mother_tongue_random</th>\n",
              "      <th>person_by_profession</th>\n",
              "      <th>location_random</th>\n",
              "      <th>country_ India</th>\n",
              "      <th>country_ USA</th>\n",
              "      <th>country_ Canada</th>\n",
              "      <th>country_ United Arab Emirates</th>\n",
              "      <th>country_ United Kingdom</th>\n",
              "      <th>country_ Australia</th>\n",
              "      <th>country_ Malaysia</th>\n",
              "      <th>country_ Pakistan</th>\n",
              "      <th>country_ New Zealand</th>\n",
              "      <th>country_ Kuwait</th>\n",
              "    </tr>\n",
              "  </thead>\n",
              "  <tbody>\n",
              "    <tr>\n",
              "      <th>0</th>\n",
              "      <td>female</td>\n",
              "      <td>United Kingdom</td>\n",
              "      <td>21.0</td>\n",
              "      <td>female</td>\n",
              "      <td>155.2</td>\n",
              "      <td>others</td>\n",
              "      <td>Hindu</td>\n",
              "      <td>Telugu</td>\n",
              "      <td>missing</td>\n",
              "      <td>London</td>\n",
              "      <td>0</td>\n",
              "      <td>0</td>\n",
              "      <td>0</td>\n",
              "      <td>0</td>\n",
              "      <td>1</td>\n",
              "      <td>0</td>\n",
              "      <td>0</td>\n",
              "      <td>0</td>\n",
              "      <td>0</td>\n",
              "      <td>0</td>\n",
              "    </tr>\n",
              "    <tr>\n",
              "      <th>1</th>\n",
              "      <td>male</td>\n",
              "      <td>USA</td>\n",
              "      <td>32.0</td>\n",
              "      <td>male</td>\n",
              "      <td>158.2</td>\n",
              "      <td>Shwetamber</td>\n",
              "      <td>Jain</td>\n",
              "      <td>Gujarati</td>\n",
              "      <td>Doctor</td>\n",
              "      <td>Fairfax</td>\n",
              "      <td>0</td>\n",
              "      <td>1</td>\n",
              "      <td>0</td>\n",
              "      <td>0</td>\n",
              "      <td>0</td>\n",
              "      <td>0</td>\n",
              "      <td>0</td>\n",
              "      <td>0</td>\n",
              "      <td>0</td>\n",
              "      <td>0</td>\n",
              "    </tr>\n",
              "    <tr>\n",
              "      <th>2</th>\n",
              "      <td>male</td>\n",
              "      <td>India</td>\n",
              "      <td>32.0</td>\n",
              "      <td>male</td>\n",
              "      <td>158.2</td>\n",
              "      <td>Brahmin</td>\n",
              "      <td>Hindu</td>\n",
              "      <td>Hindi</td>\n",
              "      <td>Entrepreneurs</td>\n",
              "      <td>Begusarai</td>\n",
              "      <td>1</td>\n",
              "      <td>0</td>\n",
              "      <td>0</td>\n",
              "      <td>0</td>\n",
              "      <td>0</td>\n",
              "      <td>0</td>\n",
              "      <td>0</td>\n",
              "      <td>0</td>\n",
              "      <td>0</td>\n",
              "      <td>0</td>\n",
              "    </tr>\n",
              "    <tr>\n",
              "      <th>3</th>\n",
              "      <td>female</td>\n",
              "      <td>India</td>\n",
              "      <td>30.0</td>\n",
              "      <td>female</td>\n",
              "      <td>151.2</td>\n",
              "      <td>Thakur</td>\n",
              "      <td>Hindu</td>\n",
              "      <td>Hindi</td>\n",
              "      <td>Architect</td>\n",
              "      <td>Mumbai</td>\n",
              "      <td>1</td>\n",
              "      <td>0</td>\n",
              "      <td>0</td>\n",
              "      <td>0</td>\n",
              "      <td>0</td>\n",
              "      <td>0</td>\n",
              "      <td>0</td>\n",
              "      <td>0</td>\n",
              "      <td>0</td>\n",
              "      <td>0</td>\n",
              "    </tr>\n",
              "    <tr>\n",
              "      <th>4</th>\n",
              "      <td>male</td>\n",
              "      <td>India</td>\n",
              "      <td>30.0</td>\n",
              "      <td>male</td>\n",
              "      <td>156.2</td>\n",
              "      <td>Born Again</td>\n",
              "      <td>Christian</td>\n",
              "      <td>Malayalam</td>\n",
              "      <td>Sales Professional</td>\n",
              "      <td>Sulthan Bathery</td>\n",
              "      <td>1</td>\n",
              "      <td>0</td>\n",
              "      <td>0</td>\n",
              "      <td>0</td>\n",
              "      <td>0</td>\n",
              "      <td>0</td>\n",
              "      <td>0</td>\n",
              "      <td>0</td>\n",
              "      <td>0</td>\n",
              "      <td>0</td>\n",
              "    </tr>\n",
              "  </tbody>\n",
              "</table>\n",
              "</div>"
            ],
            "text/plain": [
              "   gender          country  ...  country_ New Zealand country_ Kuwait\n",
              "0  female   United Kingdom  ...                     0               0\n",
              "1    male              USA  ...                     0               0\n",
              "2    male            India  ...                     0               0\n",
              "3  female            India  ...                     0               0\n",
              "4    male            India  ...                     0               0\n",
              "\n",
              "[5 rows x 20 columns]"
            ]
          },
          "metadata": {
            "tags": []
          },
          "execution_count": 49
        },
        {
          "output_type": "display_data",
          "data": {
            "image/png": "[encoded data removed]",
            "text/plain": [
              "<Figure size 432x288 with 1 Axes>"
            ]
          },
          "metadata": {
            "tags": [],
            "needs_background": "light"
          }
        }
      ]
    },
    {
      "cell_type": "code",
      "metadata": {
        "colab": {
          "base_uri": "https://localhost:8080/",
          "height": 655
        },
        "id": "SNJAeLo4nkbo",
        "outputId": "2aa90698-6663-4cd7-f4f1-7ecd26064e3f"
      },
      "source": [
        "data11=pd.get_dummies(data10['gender_random'],drop_first=True)\r\n",
        "data11.head()\r\n",
        "data12=pd.concat([data10,data11],axis=1)\r\n",
        "data12.head()\r\n",
        "data12.groupby('caste_random').age_of_marriage.median().plot.bar()\r\n",
        "from sklearn.preprocessing import LabelEncoder\r\n",
        "list=['caste_random','religion_random']\r\n",
        "for feature in list:\r\n",
        "    label=LabelEncoder()\r\n",
        "    data12[feature]=label.fit_transform(data12[feature])\r\n",
        "\r\n",
        "\r\n",
        "data12.head()"
      ],
      "execution_count": null,
      "outputs": [
        {
          "output_type": "execute_result",
          "data": {
            "text/html": [
              "<div>\n",
              "<style scoped>\n",
              "    .dataframe tbody tr th:only-of-type {\n",
              "        vertical-align: middle;\n",
              "    }\n",
              "\n",
              "    .dataframe tbody tr th {\n",
              "        vertical-align: top;\n",
              "    }\n",
              "\n",
              "    .dataframe thead th {\n",
              "        text-align: right;\n",
              "    }\n",
              "</style>\n",
              "<table border=\"1\" class=\"dataframe\">\n",
              "  <thead>\n",
              "    <tr style=\"text-align: right;\">\n",
              "      <th></th>\n",
              "      <th>gender</th>\n",
              "      <th>country</th>\n",
              "      <th>age_of_marriage</th>\n",
              "      <th>gender_random</th>\n",
              "      <th>total_height_in_cms</th>\n",
              "      <th>caste_random</th>\n",
              "      <th>religion_random</th>\n",
              "      <th>mother_tongue_random</th>\n",
              "      <th>person_by_profession</th>\n",
              "      <th>location_random</th>\n",
              "      <th>country_ India</th>\n",
              "      <th>country_ USA</th>\n",
              "      <th>country_ Canada</th>\n",
              "      <th>country_ United Arab Emirates</th>\n",
              "      <th>country_ United Kingdom</th>\n",
              "      <th>country_ Australia</th>\n",
              "      <th>country_ Malaysia</th>\n",
              "      <th>country_ Pakistan</th>\n",
              "      <th>country_ New Zealand</th>\n",
              "      <th>country_ Kuwait</th>\n",
              "      <th>male</th>\n",
              "    </tr>\n",
              "  </thead>\n",
              "  <tbody>\n",
              "    <tr>\n",
              "      <th>0</th>\n",
              "      <td>female</td>\n",
              "      <td>United Kingdom</td>\n",
              "      <td>21.0</td>\n",
              "      <td>female</td>\n",
              "      <td>155.2</td>\n",
              "      <td>41</td>\n",
              "      <td>1</td>\n",
              "      <td>Telugu</td>\n",
              "      <td>missing</td>\n",
              "      <td>London</td>\n",
              "      <td>0</td>\n",
              "      <td>0</td>\n",
              "      <td>0</td>\n",
              "      <td>0</td>\n",
              "      <td>1</td>\n",
              "      <td>0</td>\n",
              "      <td>0</td>\n",
              "      <td>0</td>\n",
              "      <td>0</td>\n",
              "      <td>0</td>\n",
              "      <td>0</td>\n",
              "    </tr>\n",
              "    <tr>\n",
              "      <th>1</th>\n",
              "      <td>male</td>\n",
              "      <td>USA</td>\n",
              "      <td>32.0</td>\n",
              "      <td>male</td>\n",
              "      <td>158.2</td>\n",
              "      <td>34</td>\n",
              "      <td>2</td>\n",
              "      <td>Gujarati</td>\n",
              "      <td>Doctor</td>\n",
              "      <td>Fairfax</td>\n",
              "      <td>0</td>\n",
              "      <td>1</td>\n",
              "      <td>0</td>\n",
              "      <td>0</td>\n",
              "      <td>0</td>\n",
              "      <td>0</td>\n",
              "      <td>0</td>\n",
              "      <td>0</td>\n",
              "      <td>0</td>\n",
              "      <td>0</td>\n",
              "      <td>1</td>\n",
              "    </tr>\n",
              "    <tr>\n",
              "      <th>2</th>\n",
              "      <td>male</td>\n",
              "      <td>India</td>\n",
              "      <td>32.0</td>\n",
              "      <td>male</td>\n",
              "      <td>158.2</td>\n",
              "      <td>14</td>\n",
              "      <td>1</td>\n",
              "      <td>Hindi</td>\n",
              "      <td>Entrepreneurs</td>\n",
              "      <td>Begusarai</td>\n",
              "      <td>1</td>\n",
              "      <td>0</td>\n",
              "      <td>0</td>\n",
              "      <td>0</td>\n",
              "      <td>0</td>\n",
              "      <td>0</td>\n",
              "      <td>0</td>\n",
              "      <td>0</td>\n",
              "      <td>0</td>\n",
              "      <td>0</td>\n",
              "      <td>1</td>\n",
              "    </tr>\n",
              "    <tr>\n",
              "      <th>3</th>\n",
              "      <td>female</td>\n",
              "      <td>India</td>\n",
              "      <td>30.0</td>\n",
              "      <td>female</td>\n",
              "      <td>151.2</td>\n",
              "      <td>36</td>\n",
              "      <td>1</td>\n",
              "      <td>Hindi</td>\n",
              "      <td>Architect</td>\n",
              "      <td>Mumbai</td>\n",
              "      <td>1</td>\n",
              "      <td>0</td>\n",
              "      <td>0</td>\n",
              "      <td>0</td>\n",
              "      <td>0</td>\n",
              "      <td>0</td>\n",
              "      <td>0</td>\n",
              "      <td>0</td>\n",
              "      <td>0</td>\n",
              "      <td>0</td>\n",
              "      <td>0</td>\n",
              "    </tr>\n",
              "    <tr>\n",
              "      <th>4</th>\n",
              "      <td>male</td>\n",
              "      <td>India</td>\n",
              "      <td>30.0</td>\n",
              "      <td>male</td>\n",
              "      <td>156.2</td>\n",
              "      <td>13</td>\n",
              "      <td>0</td>\n",
              "      <td>Malayalam</td>\n",
              "      <td>Sales Professional</td>\n",
              "      <td>Sulthan Bathery</td>\n",
              "      <td>1</td>\n",
              "      <td>0</td>\n",
              "      <td>0</td>\n",
              "      <td>0</td>\n",
              "      <td>0</td>\n",
              "      <td>0</td>\n",
              "      <td>0</td>\n",
              "      <td>0</td>\n",
              "      <td>0</td>\n",
              "      <td>0</td>\n",
              "      <td>1</td>\n",
              "    </tr>\n",
              "  </tbody>\n",
              "</table>\n",
              "</div>"
            ],
            "text/plain": [
              "   gender          country  ...  country_ Kuwait male\n",
              "0  female   United Kingdom  ...                0    0\n",
              "1    male              USA  ...                0    1\n",
              "2    male            India  ...                0    1\n",
              "3  female            India  ...                0    0\n",
              "4    male            India  ...                0    1\n",
              "\n",
              "[5 rows x 21 columns]"
            ]
          },
          "metadata": {
            "tags": []
          },
          "execution_count": 50
        },
        {
          "output_type": "display_data",
          "data": {
            "image/png": "[encoded data removed]",
            "text/plain": [
              "<Figure size 432x288 with 1 Axes>"
            ]
          },
          "metadata": {
            "tags": [],
            "needs_background": "light"
          }
        }
      ]
    },
    {
      "cell_type": "code",
      "metadata": {
        "colab": {
          "base_uri": "https://localhost:8080/",
          "height": 291
        },
        "id": "0exf4oG7rTDx",
        "outputId": "cf918d0e-7f5d-415d-8b2d-c46f45f8c8f8"
      },
      "source": [
        "data14=data12\r\n",
        "data14.head()\r\n",
        "data14.isnull().sum()\r\n",
        "data14.head()\r\n",
        "data15=data14.drop(['gender','gender_random'],axis=1)\r\n",
        "data15.head()"
      ],
      "execution_count": null,
      "outputs": [
        {
          "output_type": "execute_result",
          "data": {
            "text/html": [
              "<div>\n",
              "<style scoped>\n",
              "    .dataframe tbody tr th:only-of-type {\n",
              "        vertical-align: middle;\n",
              "    }\n",
              "\n",
              "    .dataframe tbody tr th {\n",
              "        vertical-align: top;\n",
              "    }\n",
              "\n",
              "    .dataframe thead th {\n",
              "        text-align: right;\n",
              "    }\n",
              "</style>\n",
              "<table border=\"1\" class=\"dataframe\">\n",
              "  <thead>\n",
              "    <tr style=\"text-align: right;\">\n",
              "      <th></th>\n",
              "      <th>country</th>\n",
              "      <th>age_of_marriage</th>\n",
              "      <th>total_height_in_cms</th>\n",
              "      <th>caste_random</th>\n",
              "      <th>religion_random</th>\n",
              "      <th>mother_tongue_random</th>\n",
              "      <th>person_by_profession</th>\n",
              "      <th>location_random</th>\n",
              "      <th>country_ India</th>\n",
              "      <th>country_ USA</th>\n",
              "      <th>country_ Canada</th>\n",
              "      <th>country_ United Arab Emirates</th>\n",
              "      <th>country_ United Kingdom</th>\n",
              "      <th>country_ Australia</th>\n",
              "      <th>country_ Malaysia</th>\n",
              "      <th>country_ Pakistan</th>\n",
              "      <th>country_ New Zealand</th>\n",
              "      <th>country_ Kuwait</th>\n",
              "      <th>male</th>\n",
              "    </tr>\n",
              "  </thead>\n",
              "  <tbody>\n",
              "    <tr>\n",
              "      <th>0</th>\n",
              "      <td>United Kingdom</td>\n",
              "      <td>21.0</td>\n",
              "      <td>155.2</td>\n",
              "      <td>41</td>\n",
              "      <td>1</td>\n",
              "      <td>Telugu</td>\n",
              "      <td>missing</td>\n",
              "      <td>London</td>\n",
              "      <td>0</td>\n",
              "      <td>0</td>\n",
              "      <td>0</td>\n",
              "      <td>0</td>\n",
              "      <td>1</td>\n",
              "      <td>0</td>\n",
              "      <td>0</td>\n",
              "      <td>0</td>\n",
              "      <td>0</td>\n",
              "      <td>0</td>\n",
              "      <td>0</td>\n",
              "    </tr>\n",
              "    <tr>\n",
              "      <th>1</th>\n",
              "      <td>USA</td>\n",
              "      <td>32.0</td>\n",
              "      <td>158.2</td>\n",
              "      <td>34</td>\n",
              "      <td>2</td>\n",
              "      <td>Gujarati</td>\n",
              "      <td>Doctor</td>\n",
              "      <td>Fairfax</td>\n",
              "      <td>0</td>\n",
              "      <td>1</td>\n",
              "      <td>0</td>\n",
              "      <td>0</td>\n",
              "      <td>0</td>\n",
              "      <td>0</td>\n",
              "      <td>0</td>\n",
              "      <td>0</td>\n",
              "      <td>0</td>\n",
              "      <td>0</td>\n",
              "      <td>1</td>\n",
              "    </tr>\n",
              "    <tr>\n",
              "      <th>2</th>\n",
              "      <td>India</td>\n",
              "      <td>32.0</td>\n",
              "      <td>158.2</td>\n",
              "      <td>14</td>\n",
              "      <td>1</td>\n",
              "      <td>Hindi</td>\n",
              "      <td>Entrepreneurs</td>\n",
              "      <td>Begusarai</td>\n",
              "      <td>1</td>\n",
              "      <td>0</td>\n",
              "      <td>0</td>\n",
              "      <td>0</td>\n",
              "      <td>0</td>\n",
              "      <td>0</td>\n",
              "      <td>0</td>\n",
              "      <td>0</td>\n",
              "      <td>0</td>\n",
              "      <td>0</td>\n",
              "      <td>1</td>\n",
              "    </tr>\n",
              "    <tr>\n",
              "      <th>3</th>\n",
              "      <td>India</td>\n",
              "      <td>30.0</td>\n",
              "      <td>151.2</td>\n",
              "      <td>36</td>\n",
              "      <td>1</td>\n",
              "      <td>Hindi</td>\n",
              "      <td>Architect</td>\n",
              "      <td>Mumbai</td>\n",
              "      <td>1</td>\n",
              "      <td>0</td>\n",
              "      <td>0</td>\n",
              "      <td>0</td>\n",
              "      <td>0</td>\n",
              "      <td>0</td>\n",
              "      <td>0</td>\n",
              "      <td>0</td>\n",
              "      <td>0</td>\n",
              "      <td>0</td>\n",
              "      <td>0</td>\n",
              "    </tr>\n",
              "    <tr>\n",
              "      <th>4</th>\n",
              "      <td>India</td>\n",
              "      <td>30.0</td>\n",
              "      <td>156.2</td>\n",
              "      <td>13</td>\n",
              "      <td>0</td>\n",
              "      <td>Malayalam</td>\n",
              "      <td>Sales Professional</td>\n",
              "      <td>Sulthan Bathery</td>\n",
              "      <td>1</td>\n",
              "      <td>0</td>\n",
              "      <td>0</td>\n",
              "      <td>0</td>\n",
              "      <td>0</td>\n",
              "      <td>0</td>\n",
              "      <td>0</td>\n",
              "      <td>0</td>\n",
              "      <td>0</td>\n",
              "      <td>0</td>\n",
              "      <td>1</td>\n",
              "    </tr>\n",
              "  </tbody>\n",
              "</table>\n",
              "</div>"
            ],
            "text/plain": [
              "           country  age_of_marriage  ...  country_ Kuwait  male\n",
              "0   United Kingdom             21.0  ...                0     0\n",
              "1              USA             32.0  ...                0     1\n",
              "2            India             32.0  ...                0     1\n",
              "3            India             30.0  ...                0     0\n",
              "4            India             30.0  ...                0     1\n",
              "\n",
              "[5 rows x 19 columns]"
            ]
          },
          "metadata": {
            "tags": []
          },
          "execution_count": 51
        }
      ]
    },
    {
      "cell_type": "code",
      "metadata": {
        "id": "c7aC-LkjrTAb"
      },
      "source": [
        "\r\n",
        "data17=data15\r\n"
      ],
      "execution_count": null,
      "outputs": []
    },
    {
      "cell_type": "code",
      "metadata": {
        "colab": {
          "base_uri": "https://localhost:8080/",
          "height": 274
        },
        "id": "J0hT9TWHr1xl",
        "outputId": "18cb6fdf-16f4-47d5-ffba-9b4ac38be1a2"
      },
      "source": [
        "data17['mother_tongue_random'].value_counts()\r\n",
        "top_12_labels = [y for y in data17.mother_tongue_random.value_counts().sort_values(ascending=False).head(10).index]\r\n",
        "# get whole set of dummy variables, for all the categorical variables\r\n",
        "one_hot_encoding_top_x(data17,'mother_tongue_random',top_12_labels)\r\n",
        "data17.head()\r\n",
        "data18=data17.drop(['mother_tongue_random','country'],axis=1)\r\n",
        "data18.head()"
      ],
      "execution_count": null,
      "outputs": [
        {
          "output_type": "execute_result",
          "data": {
            "text/html": [
              "<div>\n",
              "<style scoped>\n",
              "    .dataframe tbody tr th:only-of-type {\n",
              "        vertical-align: middle;\n",
              "    }\n",
              "\n",
              "    .dataframe tbody tr th {\n",
              "        vertical-align: top;\n",
              "    }\n",
              "\n",
              "    .dataframe thead th {\n",
              "        text-align: right;\n",
              "    }\n",
              "</style>\n",
              "<table border=\"1\" class=\"dataframe\">\n",
              "  <thead>\n",
              "    <tr style=\"text-align: right;\">\n",
              "      <th></th>\n",
              "      <th>age_of_marriage</th>\n",
              "      <th>total_height_in_cms</th>\n",
              "      <th>caste_random</th>\n",
              "      <th>religion_random</th>\n",
              "      <th>person_by_profession</th>\n",
              "      <th>location_random</th>\n",
              "      <th>country_ India</th>\n",
              "      <th>country_ USA</th>\n",
              "      <th>country_ Canada</th>\n",
              "      <th>country_ United Arab Emirates</th>\n",
              "      <th>country_ United Kingdom</th>\n",
              "      <th>country_ Australia</th>\n",
              "      <th>country_ Malaysia</th>\n",
              "      <th>country_ Pakistan</th>\n",
              "      <th>country_ New Zealand</th>\n",
              "      <th>country_ Kuwait</th>\n",
              "      <th>male</th>\n",
              "      <th>mother_tongue_random_Hindi</th>\n",
              "      <th>mother_tongue_random_Telugu</th>\n",
              "      <th>mother_tongue_random_Bengali</th>\n",
              "      <th>mother_tongue_random_Punjabi</th>\n",
              "      <th>mother_tongue_random_Marathi</th>\n",
              "      <th>mother_tongue_random_Gujarati</th>\n",
              "      <th>mother_tongue_random_Kannada</th>\n",
              "      <th>mother_tongue_random_Tamil</th>\n",
              "      <th>mother_tongue_random_Assamese</th>\n",
              "      <th>mother_tongue_random_Malayalam</th>\n",
              "    </tr>\n",
              "  </thead>\n",
              "  <tbody>\n",
              "    <tr>\n",
              "      <th>0</th>\n",
              "      <td>21.0</td>\n",
              "      <td>155.2</td>\n",
              "      <td>41</td>\n",
              "      <td>1</td>\n",
              "      <td>missing</td>\n",
              "      <td>London</td>\n",
              "      <td>0</td>\n",
              "      <td>0</td>\n",
              "      <td>0</td>\n",
              "      <td>0</td>\n",
              "      <td>1</td>\n",
              "      <td>0</td>\n",
              "      <td>0</td>\n",
              "      <td>0</td>\n",
              "      <td>0</td>\n",
              "      <td>0</td>\n",
              "      <td>0</td>\n",
              "      <td>0</td>\n",
              "      <td>1</td>\n",
              "      <td>0</td>\n",
              "      <td>0</td>\n",
              "      <td>0</td>\n",
              "      <td>0</td>\n",
              "      <td>0</td>\n",
              "      <td>0</td>\n",
              "      <td>0</td>\n",
              "      <td>0</td>\n",
              "    </tr>\n",
              "    <tr>\n",
              "      <th>1</th>\n",
              "      <td>32.0</td>\n",
              "      <td>158.2</td>\n",
              "      <td>34</td>\n",
              "      <td>2</td>\n",
              "      <td>Doctor</td>\n",
              "      <td>Fairfax</td>\n",
              "      <td>0</td>\n",
              "      <td>1</td>\n",
              "      <td>0</td>\n",
              "      <td>0</td>\n",
              "      <td>0</td>\n",
              "      <td>0</td>\n",
              "      <td>0</td>\n",
              "      <td>0</td>\n",
              "      <td>0</td>\n",
              "      <td>0</td>\n",
              "      <td>1</td>\n",
              "      <td>0</td>\n",
              "      <td>0</td>\n",
              "      <td>0</td>\n",
              "      <td>0</td>\n",
              "      <td>0</td>\n",
              "      <td>1</td>\n",
              "      <td>0</td>\n",
              "      <td>0</td>\n",
              "      <td>0</td>\n",
              "      <td>0</td>\n",
              "    </tr>\n",
              "    <tr>\n",
              "      <th>2</th>\n",
              "      <td>32.0</td>\n",
              "      <td>158.2</td>\n",
              "      <td>14</td>\n",
              "      <td>1</td>\n",
              "      <td>Entrepreneurs</td>\n",
              "      <td>Begusarai</td>\n",
              "      <td>1</td>\n",
              "      <td>0</td>\n",
              "      <td>0</td>\n",
              "      <td>0</td>\n",
              "      <td>0</td>\n",
              "      <td>0</td>\n",
              "      <td>0</td>\n",
              "      <td>0</td>\n",
              "      <td>0</td>\n",
              "      <td>0</td>\n",
              "      <td>1</td>\n",
              "      <td>1</td>\n",
              "      <td>0</td>\n",
              "      <td>0</td>\n",
              "      <td>0</td>\n",
              "      <td>0</td>\n",
              "      <td>0</td>\n",
              "      <td>0</td>\n",
              "      <td>0</td>\n",
              "      <td>0</td>\n",
              "      <td>0</td>\n",
              "    </tr>\n",
              "    <tr>\n",
              "      <th>3</th>\n",
              "      <td>30.0</td>\n",
              "      <td>151.2</td>\n",
              "      <td>36</td>\n",
              "      <td>1</td>\n",
              "      <td>Architect</td>\n",
              "      <td>Mumbai</td>\n",
              "      <td>1</td>\n",
              "      <td>0</td>\n",
              "      <td>0</td>\n",
              "      <td>0</td>\n",
              "      <td>0</td>\n",
              "      <td>0</td>\n",
              "      <td>0</td>\n",
              "      <td>0</td>\n",
              "      <td>0</td>\n",
              "      <td>0</td>\n",
              "      <td>0</td>\n",
              "      <td>1</td>\n",
              "      <td>0</td>\n",
              "      <td>0</td>\n",
              "      <td>0</td>\n",
              "      <td>0</td>\n",
              "      <td>0</td>\n",
              "      <td>0</td>\n",
              "      <td>0</td>\n",
              "      <td>0</td>\n",
              "      <td>0</td>\n",
              "    </tr>\n",
              "    <tr>\n",
              "      <th>4</th>\n",
              "      <td>30.0</td>\n",
              "      <td>156.2</td>\n",
              "      <td>13</td>\n",
              "      <td>0</td>\n",
              "      <td>Sales Professional</td>\n",
              "      <td>Sulthan Bathery</td>\n",
              "      <td>1</td>\n",
              "      <td>0</td>\n",
              "      <td>0</td>\n",
              "      <td>0</td>\n",
              "      <td>0</td>\n",
              "      <td>0</td>\n",
              "      <td>0</td>\n",
              "      <td>0</td>\n",
              "      <td>0</td>\n",
              "      <td>0</td>\n",
              "      <td>1</td>\n",
              "      <td>0</td>\n",
              "      <td>0</td>\n",
              "      <td>0</td>\n",
              "      <td>0</td>\n",
              "      <td>0</td>\n",
              "      <td>0</td>\n",
              "      <td>0</td>\n",
              "      <td>0</td>\n",
              "      <td>0</td>\n",
              "      <td>1</td>\n",
              "    </tr>\n",
              "  </tbody>\n",
              "</table>\n",
              "</div>"
            ],
            "text/plain": [
              "   age_of_marriage  ...  mother_tongue_random_Malayalam\n",
              "0             21.0  ...                               0\n",
              "1             32.0  ...                               0\n",
              "2             32.0  ...                               0\n",
              "3             30.0  ...                               0\n",
              "4             30.0  ...                               1\n",
              "\n",
              "[5 rows x 27 columns]"
            ]
          },
          "metadata": {
            "tags": []
          },
          "execution_count": 53
        }
      ]
    },
    {
      "cell_type": "code",
      "metadata": {
        "id": "LCi0RxfYgJ19"
      },
      "source": [
        "data18.location_random.value_counts()\r\n",
        "top_15_labels = [y for y in data18.location_random.value_counts().sort_values(ascending=False).head(20).index]\r\n",
        "# get whole set of dummy variables, for all the categorical variables\r\n",
        "one_hot_encoding_top_x(data18,'location_random',top_15_labels)\r\n",
        "data18.head()\r\n",
        "data18.shape\r\n",
        "\r\n",
        "data18.person_by_profession.value_counts()\r\n",
        "data18['person_by_profession']=data18['person_by_profession'].replace('missing','Not Specified')\r\n",
        "data18.person_by_profession.value_counts()\r\n",
        "\r\n",
        "data18['person_by_profession']=label.fit_transform(data18['person_by_profession'])\r\n",
        "data18.head()\r\n",
        "data18.isnull().sum()\r\n",
        "data19=data18\r\n",
        "data19.head()\r\n",
        "data20=data19.drop(['location_random'],axis=1)"
      ],
      "execution_count": null,
      "outputs": []
    },
    {
      "cell_type": "code",
      "metadata": {
        "id": "lhOpy0c-i7yI"
      },
      "source": [
        ""
      ],
      "execution_count": null,
      "outputs": []
    },
    {
      "cell_type": "code",
      "metadata": {
        "colab": {
          "base_uri": "https://localhost:8080/",
          "height": 703
        },
        "id": "chEB8oDyI2Td",
        "outputId": "420b175f-5492-4f33-87d2-b34c0ac9fcdf"
      },
      "source": [
        "# Rows with null values\r\n",
        "is_nan=data20.isnull()\r\n",
        "row_has_nan=is_nan.any(axis=1)\r\n",
        "rows_with_nan=data20[row_has_nan]\r\n",
        "rows_with_nan\r\n"
      ],
      "execution_count": null,
      "outputs": [
        {
          "output_type": "execute_result",
          "data": {
            "text/html": [
              "<div>\n",
              "<style scoped>\n",
              "    .dataframe tbody tr th:only-of-type {\n",
              "        vertical-align: middle;\n",
              "    }\n",
              "\n",
              "    .dataframe tbody tr th {\n",
              "        vertical-align: top;\n",
              "    }\n",
              "\n",
              "    .dataframe thead th {\n",
              "        text-align: right;\n",
              "    }\n",
              "</style>\n",
              "<table border=\"1\" class=\"dataframe\">\n",
              "  <thead>\n",
              "    <tr style=\"text-align: right;\">\n",
              "      <th></th>\n",
              "      <th>age_of_marriage</th>\n",
              "      <th>total_height_in_cms</th>\n",
              "      <th>caste_random</th>\n",
              "      <th>religion_random</th>\n",
              "      <th>person_by_profession</th>\n",
              "      <th>country_ India</th>\n",
              "      <th>country_ USA</th>\n",
              "      <th>country_ Canada</th>\n",
              "      <th>country_ United Arab Emirates</th>\n",
              "      <th>country_ United Kingdom</th>\n",
              "      <th>country_ Australia</th>\n",
              "      <th>country_ Malaysia</th>\n",
              "      <th>country_ Pakistan</th>\n",
              "      <th>country_ New Zealand</th>\n",
              "      <th>country_ Kuwait</th>\n",
              "      <th>male</th>\n",
              "      <th>mother_tongue_random_Hindi</th>\n",
              "      <th>mother_tongue_random_Telugu</th>\n",
              "      <th>mother_tongue_random_Bengali</th>\n",
              "      <th>mother_tongue_random_Punjabi</th>\n",
              "      <th>mother_tongue_random_Marathi</th>\n",
              "      <th>mother_tongue_random_Gujarati</th>\n",
              "      <th>mother_tongue_random_Kannada</th>\n",
              "      <th>mother_tongue_random_Tamil</th>\n",
              "      <th>mother_tongue_random_Assamese</th>\n",
              "      <th>mother_tongue_random_Malayalam</th>\n",
              "      <th>location_random_Mumbai</th>\n",
              "      <th>location_random_Bengaluru</th>\n",
              "      <th>location_random_Delhi</th>\n",
              "      <th>location_random_Hyderabad</th>\n",
              "      <th>location_random_Pune</th>\n",
              "      <th>location_random_Kolkata</th>\n",
              "      <th>location_random_Ahmedabad</th>\n",
              "      <th>location_random_Chennai</th>\n",
              "      <th>location_random_Guwahati</th>\n",
              "      <th>location_random_Gurgaon</th>\n",
              "      <th>location_random_Ludhiana</th>\n",
              "      <th>location_random_Chandigarh</th>\n",
              "      <th>location_random_Dubai</th>\n",
              "      <th>location_random_Indore</th>\n",
              "      <th>location_random_Punjab</th>\n",
              "      <th>location_random_Lucknow</th>\n",
              "      <th>location_random_New York- NY</th>\n",
              "      <th>location_random_Surat</th>\n",
              "      <th>location_random_Noida</th>\n",
              "      <th>location_random_Midnapore</th>\n",
              "    </tr>\n",
              "  </thead>\n",
              "  <tbody>\n",
              "    <tr>\n",
              "      <th>290</th>\n",
              "      <td>NaN</td>\n",
              "      <td>155.2</td>\n",
              "      <td>34</td>\n",
              "      <td>1</td>\n",
              "      <td>29</td>\n",
              "      <td>1</td>\n",
              "      <td>0</td>\n",
              "      <td>0</td>\n",
              "      <td>0</td>\n",
              "      <td>0</td>\n",
              "      <td>0</td>\n",
              "      <td>0</td>\n",
              "      <td>0</td>\n",
              "      <td>0</td>\n",
              "      <td>0</td>\n",
              "      <td>0</td>\n",
              "      <td>1</td>\n",
              "      <td>0</td>\n",
              "      <td>0</td>\n",
              "      <td>0</td>\n",
              "      <td>0</td>\n",
              "      <td>0</td>\n",
              "      <td>0</td>\n",
              "      <td>0</td>\n",
              "      <td>0</td>\n",
              "      <td>0</td>\n",
              "      <td>0</td>\n",
              "      <td>0</td>\n",
              "      <td>0</td>\n",
              "      <td>1</td>\n",
              "      <td>0</td>\n",
              "      <td>0</td>\n",
              "      <td>0</td>\n",
              "      <td>0</td>\n",
              "      <td>0</td>\n",
              "      <td>0</td>\n",
              "      <td>0</td>\n",
              "      <td>0</td>\n",
              "      <td>0</td>\n",
              "      <td>0</td>\n",
              "      <td>0</td>\n",
              "      <td>0</td>\n",
              "      <td>0</td>\n",
              "      <td>0</td>\n",
              "      <td>0</td>\n",
              "      <td>0</td>\n",
              "    </tr>\n",
              "    <tr>\n",
              "      <th>305</th>\n",
              "      <td>NaN</td>\n",
              "      <td>151.2</td>\n",
              "      <td>3</td>\n",
              "      <td>1</td>\n",
              "      <td>16</td>\n",
              "      <td>1</td>\n",
              "      <td>0</td>\n",
              "      <td>0</td>\n",
              "      <td>0</td>\n",
              "      <td>0</td>\n",
              "      <td>0</td>\n",
              "      <td>0</td>\n",
              "      <td>0</td>\n",
              "      <td>0</td>\n",
              "      <td>0</td>\n",
              "      <td>0</td>\n",
              "      <td>0</td>\n",
              "      <td>0</td>\n",
              "      <td>0</td>\n",
              "      <td>1</td>\n",
              "      <td>0</td>\n",
              "      <td>0</td>\n",
              "      <td>0</td>\n",
              "      <td>0</td>\n",
              "      <td>0</td>\n",
              "      <td>0</td>\n",
              "      <td>0</td>\n",
              "      <td>0</td>\n",
              "      <td>0</td>\n",
              "      <td>1</td>\n",
              "      <td>0</td>\n",
              "      <td>0</td>\n",
              "      <td>0</td>\n",
              "      <td>0</td>\n",
              "      <td>0</td>\n",
              "      <td>0</td>\n",
              "      <td>0</td>\n",
              "      <td>0</td>\n",
              "      <td>0</td>\n",
              "      <td>0</td>\n",
              "      <td>0</td>\n",
              "      <td>0</td>\n",
              "      <td>0</td>\n",
              "      <td>0</td>\n",
              "      <td>0</td>\n",
              "      <td>0</td>\n",
              "    </tr>\n",
              "    <tr>\n",
              "      <th>432</th>\n",
              "      <td>NaN</td>\n",
              "      <td>157.2</td>\n",
              "      <td>36</td>\n",
              "      <td>1</td>\n",
              "      <td>57</td>\n",
              "      <td>1</td>\n",
              "      <td>0</td>\n",
              "      <td>0</td>\n",
              "      <td>0</td>\n",
              "      <td>0</td>\n",
              "      <td>0</td>\n",
              "      <td>0</td>\n",
              "      <td>0</td>\n",
              "      <td>0</td>\n",
              "      <td>0</td>\n",
              "      <td>1</td>\n",
              "      <td>1</td>\n",
              "      <td>0</td>\n",
              "      <td>0</td>\n",
              "      <td>0</td>\n",
              "      <td>0</td>\n",
              "      <td>0</td>\n",
              "      <td>0</td>\n",
              "      <td>0</td>\n",
              "      <td>0</td>\n",
              "      <td>0</td>\n",
              "      <td>0</td>\n",
              "      <td>0</td>\n",
              "      <td>0</td>\n",
              "      <td>0</td>\n",
              "      <td>0</td>\n",
              "      <td>0</td>\n",
              "      <td>0</td>\n",
              "      <td>0</td>\n",
              "      <td>0</td>\n",
              "      <td>0</td>\n",
              "      <td>0</td>\n",
              "      <td>0</td>\n",
              "      <td>0</td>\n",
              "      <td>0</td>\n",
              "      <td>0</td>\n",
              "      <td>0</td>\n",
              "      <td>0</td>\n",
              "      <td>0</td>\n",
              "      <td>0</td>\n",
              "      <td>0</td>\n",
              "    </tr>\n",
              "    <tr>\n",
              "      <th>580</th>\n",
              "      <td>NaN</td>\n",
              "      <td>156.2</td>\n",
              "      <td>41</td>\n",
              "      <td>3</td>\n",
              "      <td>70</td>\n",
              "      <td>0</td>\n",
              "      <td>0</td>\n",
              "      <td>0</td>\n",
              "      <td>0</td>\n",
              "      <td>0</td>\n",
              "      <td>0</td>\n",
              "      <td>0</td>\n",
              "      <td>1</td>\n",
              "      <td>0</td>\n",
              "      <td>0</td>\n",
              "      <td>1</td>\n",
              "      <td>0</td>\n",
              "      <td>0</td>\n",
              "      <td>1</td>\n",
              "      <td>0</td>\n",
              "      <td>0</td>\n",
              "      <td>0</td>\n",
              "      <td>0</td>\n",
              "      <td>0</td>\n",
              "      <td>0</td>\n",
              "      <td>0</td>\n",
              "      <td>0</td>\n",
              "      <td>0</td>\n",
              "      <td>0</td>\n",
              "      <td>0</td>\n",
              "      <td>0</td>\n",
              "      <td>0</td>\n",
              "      <td>0</td>\n",
              "      <td>0</td>\n",
              "      <td>0</td>\n",
              "      <td>0</td>\n",
              "      <td>0</td>\n",
              "      <td>0</td>\n",
              "      <td>0</td>\n",
              "      <td>0</td>\n",
              "      <td>0</td>\n",
              "      <td>0</td>\n",
              "      <td>0</td>\n",
              "      <td>0</td>\n",
              "      <td>0</td>\n",
              "      <td>0</td>\n",
              "    </tr>\n",
              "    <tr>\n",
              "      <th>723</th>\n",
              "      <td>NaN</td>\n",
              "      <td>156.2</td>\n",
              "      <td>41</td>\n",
              "      <td>1</td>\n",
              "      <td>58</td>\n",
              "      <td>1</td>\n",
              "      <td>0</td>\n",
              "      <td>0</td>\n",
              "      <td>0</td>\n",
              "      <td>0</td>\n",
              "      <td>0</td>\n",
              "      <td>0</td>\n",
              "      <td>0</td>\n",
              "      <td>0</td>\n",
              "      <td>0</td>\n",
              "      <td>0</td>\n",
              "      <td>0</td>\n",
              "      <td>0</td>\n",
              "      <td>0</td>\n",
              "      <td>0</td>\n",
              "      <td>1</td>\n",
              "      <td>0</td>\n",
              "      <td>0</td>\n",
              "      <td>0</td>\n",
              "      <td>0</td>\n",
              "      <td>0</td>\n",
              "      <td>0</td>\n",
              "      <td>0</td>\n",
              "      <td>0</td>\n",
              "      <td>0</td>\n",
              "      <td>0</td>\n",
              "      <td>0</td>\n",
              "      <td>0</td>\n",
              "      <td>0</td>\n",
              "      <td>0</td>\n",
              "      <td>0</td>\n",
              "      <td>0</td>\n",
              "      <td>0</td>\n",
              "      <td>0</td>\n",
              "      <td>0</td>\n",
              "      <td>0</td>\n",
              "      <td>0</td>\n",
              "      <td>0</td>\n",
              "      <td>0</td>\n",
              "      <td>0</td>\n",
              "      <td>0</td>\n",
              "    </tr>\n",
              "    <tr>\n",
              "      <th>811</th>\n",
              "      <td>NaN</td>\n",
              "      <td>153.2</td>\n",
              "      <td>9</td>\n",
              "      <td>1</td>\n",
              "      <td>58</td>\n",
              "      <td>1</td>\n",
              "      <td>0</td>\n",
              "      <td>0</td>\n",
              "      <td>0</td>\n",
              "      <td>0</td>\n",
              "      <td>0</td>\n",
              "      <td>0</td>\n",
              "      <td>0</td>\n",
              "      <td>0</td>\n",
              "      <td>0</td>\n",
              "      <td>1</td>\n",
              "      <td>1</td>\n",
              "      <td>0</td>\n",
              "      <td>0</td>\n",
              "      <td>0</td>\n",
              "      <td>0</td>\n",
              "      <td>0</td>\n",
              "      <td>0</td>\n",
              "      <td>0</td>\n",
              "      <td>0</td>\n",
              "      <td>0</td>\n",
              "      <td>0</td>\n",
              "      <td>0</td>\n",
              "      <td>0</td>\n",
              "      <td>0</td>\n",
              "      <td>0</td>\n",
              "      <td>0</td>\n",
              "      <td>0</td>\n",
              "      <td>0</td>\n",
              "      <td>0</td>\n",
              "      <td>0</td>\n",
              "      <td>0</td>\n",
              "      <td>0</td>\n",
              "      <td>0</td>\n",
              "      <td>0</td>\n",
              "      <td>0</td>\n",
              "      <td>0</td>\n",
              "      <td>0</td>\n",
              "      <td>0</td>\n",
              "      <td>0</td>\n",
              "      <td>0</td>\n",
              "    </tr>\n",
              "    <tr>\n",
              "      <th>877</th>\n",
              "      <td>NaN</td>\n",
              "      <td>154.2</td>\n",
              "      <td>41</td>\n",
              "      <td>1</td>\n",
              "      <td>57</td>\n",
              "      <td>0</td>\n",
              "      <td>1</td>\n",
              "      <td>0</td>\n",
              "      <td>0</td>\n",
              "      <td>0</td>\n",
              "      <td>0</td>\n",
              "      <td>0</td>\n",
              "      <td>0</td>\n",
              "      <td>0</td>\n",
              "      <td>0</td>\n",
              "      <td>0</td>\n",
              "      <td>0</td>\n",
              "      <td>0</td>\n",
              "      <td>0</td>\n",
              "      <td>0</td>\n",
              "      <td>0</td>\n",
              "      <td>1</td>\n",
              "      <td>0</td>\n",
              "      <td>0</td>\n",
              "      <td>0</td>\n",
              "      <td>0</td>\n",
              "      <td>1</td>\n",
              "      <td>0</td>\n",
              "      <td>0</td>\n",
              "      <td>0</td>\n",
              "      <td>0</td>\n",
              "      <td>0</td>\n",
              "      <td>0</td>\n",
              "      <td>0</td>\n",
              "      <td>0</td>\n",
              "      <td>0</td>\n",
              "      <td>0</td>\n",
              "      <td>0</td>\n",
              "      <td>0</td>\n",
              "      <td>0</td>\n",
              "      <td>0</td>\n",
              "      <td>0</td>\n",
              "      <td>0</td>\n",
              "      <td>0</td>\n",
              "      <td>0</td>\n",
              "      <td>0</td>\n",
              "    </tr>\n",
              "    <tr>\n",
              "      <th>932</th>\n",
              "      <td>NaN</td>\n",
              "      <td>151.2</td>\n",
              "      <td>41</td>\n",
              "      <td>1</td>\n",
              "      <td>57</td>\n",
              "      <td>1</td>\n",
              "      <td>0</td>\n",
              "      <td>0</td>\n",
              "      <td>0</td>\n",
              "      <td>0</td>\n",
              "      <td>0</td>\n",
              "      <td>0</td>\n",
              "      <td>0</td>\n",
              "      <td>0</td>\n",
              "      <td>0</td>\n",
              "      <td>0</td>\n",
              "      <td>1</td>\n",
              "      <td>0</td>\n",
              "      <td>0</td>\n",
              "      <td>0</td>\n",
              "      <td>0</td>\n",
              "      <td>0</td>\n",
              "      <td>0</td>\n",
              "      <td>0</td>\n",
              "      <td>0</td>\n",
              "      <td>0</td>\n",
              "      <td>0</td>\n",
              "      <td>0</td>\n",
              "      <td>0</td>\n",
              "      <td>0</td>\n",
              "      <td>0</td>\n",
              "      <td>0</td>\n",
              "      <td>0</td>\n",
              "      <td>0</td>\n",
              "      <td>0</td>\n",
              "      <td>0</td>\n",
              "      <td>0</td>\n",
              "      <td>0</td>\n",
              "      <td>0</td>\n",
              "      <td>0</td>\n",
              "      <td>0</td>\n",
              "      <td>0</td>\n",
              "      <td>0</td>\n",
              "      <td>0</td>\n",
              "      <td>0</td>\n",
              "      <td>0</td>\n",
              "    </tr>\n",
              "    <tr>\n",
              "      <th>1255</th>\n",
              "      <td>NaN</td>\n",
              "      <td>151.2</td>\n",
              "      <td>41</td>\n",
              "      <td>1</td>\n",
              "      <td>0</td>\n",
              "      <td>1</td>\n",
              "      <td>0</td>\n",
              "      <td>0</td>\n",
              "      <td>0</td>\n",
              "      <td>0</td>\n",
              "      <td>0</td>\n",
              "      <td>0</td>\n",
              "      <td>0</td>\n",
              "      <td>0</td>\n",
              "      <td>0</td>\n",
              "      <td>0</td>\n",
              "      <td>0</td>\n",
              "      <td>0</td>\n",
              "      <td>0</td>\n",
              "      <td>0</td>\n",
              "      <td>1</td>\n",
              "      <td>0</td>\n",
              "      <td>0</td>\n",
              "      <td>0</td>\n",
              "      <td>0</td>\n",
              "      <td>0</td>\n",
              "      <td>1</td>\n",
              "      <td>0</td>\n",
              "      <td>0</td>\n",
              "      <td>0</td>\n",
              "      <td>0</td>\n",
              "      <td>0</td>\n",
              "      <td>0</td>\n",
              "      <td>0</td>\n",
              "      <td>0</td>\n",
              "      <td>0</td>\n",
              "      <td>0</td>\n",
              "      <td>0</td>\n",
              "      <td>0</td>\n",
              "      <td>0</td>\n",
              "      <td>0</td>\n",
              "      <td>0</td>\n",
              "      <td>0</td>\n",
              "      <td>0</td>\n",
              "      <td>0</td>\n",
              "      <td>0</td>\n",
              "    </tr>\n",
              "    <tr>\n",
              "      <th>1335</th>\n",
              "      <td>NaN</td>\n",
              "      <td>152.2</td>\n",
              "      <td>41</td>\n",
              "      <td>1</td>\n",
              "      <td>58</td>\n",
              "      <td>1</td>\n",
              "      <td>0</td>\n",
              "      <td>0</td>\n",
              "      <td>0</td>\n",
              "      <td>0</td>\n",
              "      <td>0</td>\n",
              "      <td>0</td>\n",
              "      <td>0</td>\n",
              "      <td>0</td>\n",
              "      <td>0</td>\n",
              "      <td>1</td>\n",
              "      <td>0</td>\n",
              "      <td>1</td>\n",
              "      <td>0</td>\n",
              "      <td>0</td>\n",
              "      <td>0</td>\n",
              "      <td>0</td>\n",
              "      <td>0</td>\n",
              "      <td>0</td>\n",
              "      <td>0</td>\n",
              "      <td>0</td>\n",
              "      <td>0</td>\n",
              "      <td>0</td>\n",
              "      <td>0</td>\n",
              "      <td>0</td>\n",
              "      <td>0</td>\n",
              "      <td>0</td>\n",
              "      <td>0</td>\n",
              "      <td>0</td>\n",
              "      <td>0</td>\n",
              "      <td>0</td>\n",
              "      <td>0</td>\n",
              "      <td>0</td>\n",
              "      <td>0</td>\n",
              "      <td>0</td>\n",
              "      <td>0</td>\n",
              "      <td>0</td>\n",
              "      <td>0</td>\n",
              "      <td>0</td>\n",
              "      <td>0</td>\n",
              "      <td>0</td>\n",
              "    </tr>\n",
              "    <tr>\n",
              "      <th>1415</th>\n",
              "      <td>NaN</td>\n",
              "      <td>159.2</td>\n",
              "      <td>17</td>\n",
              "      <td>1</td>\n",
              "      <td>9</td>\n",
              "      <td>1</td>\n",
              "      <td>0</td>\n",
              "      <td>0</td>\n",
              "      <td>0</td>\n",
              "      <td>0</td>\n",
              "      <td>0</td>\n",
              "      <td>0</td>\n",
              "      <td>0</td>\n",
              "      <td>0</td>\n",
              "      <td>0</td>\n",
              "      <td>1</td>\n",
              "      <td>1</td>\n",
              "      <td>0</td>\n",
              "      <td>0</td>\n",
              "      <td>0</td>\n",
              "      <td>0</td>\n",
              "      <td>0</td>\n",
              "      <td>0</td>\n",
              "      <td>0</td>\n",
              "      <td>0</td>\n",
              "      <td>0</td>\n",
              "      <td>0</td>\n",
              "      <td>0</td>\n",
              "      <td>0</td>\n",
              "      <td>0</td>\n",
              "      <td>0</td>\n",
              "      <td>0</td>\n",
              "      <td>0</td>\n",
              "      <td>0</td>\n",
              "      <td>0</td>\n",
              "      <td>0</td>\n",
              "      <td>0</td>\n",
              "      <td>0</td>\n",
              "      <td>0</td>\n",
              "      <td>0</td>\n",
              "      <td>0</td>\n",
              "      <td>1</td>\n",
              "      <td>0</td>\n",
              "      <td>0</td>\n",
              "      <td>0</td>\n",
              "      <td>0</td>\n",
              "    </tr>\n",
              "    <tr>\n",
              "      <th>1612</th>\n",
              "      <td>NaN</td>\n",
              "      <td>159.2</td>\n",
              "      <td>6</td>\n",
              "      <td>1</td>\n",
              "      <td>25</td>\n",
              "      <td>1</td>\n",
              "      <td>0</td>\n",
              "      <td>0</td>\n",
              "      <td>0</td>\n",
              "      <td>0</td>\n",
              "      <td>0</td>\n",
              "      <td>0</td>\n",
              "      <td>0</td>\n",
              "      <td>0</td>\n",
              "      <td>0</td>\n",
              "      <td>1</td>\n",
              "      <td>0</td>\n",
              "      <td>0</td>\n",
              "      <td>0</td>\n",
              "      <td>0</td>\n",
              "      <td>0</td>\n",
              "      <td>0</td>\n",
              "      <td>0</td>\n",
              "      <td>0</td>\n",
              "      <td>0</td>\n",
              "      <td>0</td>\n",
              "      <td>0</td>\n",
              "      <td>0</td>\n",
              "      <td>0</td>\n",
              "      <td>0</td>\n",
              "      <td>0</td>\n",
              "      <td>0</td>\n",
              "      <td>0</td>\n",
              "      <td>0</td>\n",
              "      <td>0</td>\n",
              "      <td>0</td>\n",
              "      <td>0</td>\n",
              "      <td>0</td>\n",
              "      <td>0</td>\n",
              "      <td>0</td>\n",
              "      <td>0</td>\n",
              "      <td>0</td>\n",
              "      <td>0</td>\n",
              "      <td>0</td>\n",
              "      <td>0</td>\n",
              "      <td>0</td>\n",
              "    </tr>\n",
              "    <tr>\n",
              "      <th>1754</th>\n",
              "      <td>NaN</td>\n",
              "      <td>153.2</td>\n",
              "      <td>34</td>\n",
              "      <td>1</td>\n",
              "      <td>57</td>\n",
              "      <td>1</td>\n",
              "      <td>0</td>\n",
              "      <td>0</td>\n",
              "      <td>0</td>\n",
              "      <td>0</td>\n",
              "      <td>0</td>\n",
              "      <td>0</td>\n",
              "      <td>0</td>\n",
              "      <td>0</td>\n",
              "      <td>0</td>\n",
              "      <td>0</td>\n",
              "      <td>0</td>\n",
              "      <td>0</td>\n",
              "      <td>0</td>\n",
              "      <td>1</td>\n",
              "      <td>0</td>\n",
              "      <td>0</td>\n",
              "      <td>0</td>\n",
              "      <td>0</td>\n",
              "      <td>0</td>\n",
              "      <td>0</td>\n",
              "      <td>1</td>\n",
              "      <td>0</td>\n",
              "      <td>0</td>\n",
              "      <td>0</td>\n",
              "      <td>0</td>\n",
              "      <td>0</td>\n",
              "      <td>0</td>\n",
              "      <td>0</td>\n",
              "      <td>0</td>\n",
              "      <td>0</td>\n",
              "      <td>0</td>\n",
              "      <td>0</td>\n",
              "      <td>0</td>\n",
              "      <td>0</td>\n",
              "      <td>0</td>\n",
              "      <td>0</td>\n",
              "      <td>0</td>\n",
              "      <td>0</td>\n",
              "      <td>0</td>\n",
              "      <td>0</td>\n",
              "    </tr>\n",
              "    <tr>\n",
              "      <th>2355</th>\n",
              "      <td>NaN</td>\n",
              "      <td>162.2</td>\n",
              "      <td>41</td>\n",
              "      <td>2</td>\n",
              "      <td>57</td>\n",
              "      <td>1</td>\n",
              "      <td>0</td>\n",
              "      <td>0</td>\n",
              "      <td>0</td>\n",
              "      <td>0</td>\n",
              "      <td>0</td>\n",
              "      <td>0</td>\n",
              "      <td>0</td>\n",
              "      <td>0</td>\n",
              "      <td>0</td>\n",
              "      <td>1</td>\n",
              "      <td>1</td>\n",
              "      <td>0</td>\n",
              "      <td>0</td>\n",
              "      <td>0</td>\n",
              "      <td>0</td>\n",
              "      <td>0</td>\n",
              "      <td>0</td>\n",
              "      <td>0</td>\n",
              "      <td>0</td>\n",
              "      <td>0</td>\n",
              "      <td>0</td>\n",
              "      <td>0</td>\n",
              "      <td>0</td>\n",
              "      <td>0</td>\n",
              "      <td>0</td>\n",
              "      <td>0</td>\n",
              "      <td>0</td>\n",
              "      <td>0</td>\n",
              "      <td>0</td>\n",
              "      <td>0</td>\n",
              "      <td>0</td>\n",
              "      <td>0</td>\n",
              "      <td>0</td>\n",
              "      <td>0</td>\n",
              "      <td>0</td>\n",
              "      <td>0</td>\n",
              "      <td>0</td>\n",
              "      <td>0</td>\n",
              "      <td>0</td>\n",
              "      <td>0</td>\n",
              "    </tr>\n",
              "    <tr>\n",
              "      <th>2363</th>\n",
              "      <td>NaN</td>\n",
              "      <td>161.2</td>\n",
              "      <td>41</td>\n",
              "      <td>1</td>\n",
              "      <td>80</td>\n",
              "      <td>1</td>\n",
              "      <td>0</td>\n",
              "      <td>0</td>\n",
              "      <td>0</td>\n",
              "      <td>0</td>\n",
              "      <td>0</td>\n",
              "      <td>0</td>\n",
              "      <td>0</td>\n",
              "      <td>0</td>\n",
              "      <td>0</td>\n",
              "      <td>1</td>\n",
              "      <td>0</td>\n",
              "      <td>0</td>\n",
              "      <td>0</td>\n",
              "      <td>0</td>\n",
              "      <td>1</td>\n",
              "      <td>0</td>\n",
              "      <td>0</td>\n",
              "      <td>0</td>\n",
              "      <td>0</td>\n",
              "      <td>0</td>\n",
              "      <td>1</td>\n",
              "      <td>0</td>\n",
              "      <td>0</td>\n",
              "      <td>0</td>\n",
              "      <td>0</td>\n",
              "      <td>0</td>\n",
              "      <td>0</td>\n",
              "      <td>0</td>\n",
              "      <td>0</td>\n",
              "      <td>0</td>\n",
              "      <td>0</td>\n",
              "      <td>0</td>\n",
              "      <td>0</td>\n",
              "      <td>0</td>\n",
              "      <td>0</td>\n",
              "      <td>0</td>\n",
              "      <td>0</td>\n",
              "      <td>0</td>\n",
              "      <td>0</td>\n",
              "      <td>0</td>\n",
              "    </tr>\n",
              "    <tr>\n",
              "      <th>2384</th>\n",
              "      <td>NaN</td>\n",
              "      <td>155.2</td>\n",
              "      <td>41</td>\n",
              "      <td>1</td>\n",
              "      <td>57</td>\n",
              "      <td>1</td>\n",
              "      <td>0</td>\n",
              "      <td>0</td>\n",
              "      <td>0</td>\n",
              "      <td>0</td>\n",
              "      <td>0</td>\n",
              "      <td>0</td>\n",
              "      <td>0</td>\n",
              "      <td>0</td>\n",
              "      <td>0</td>\n",
              "      <td>0</td>\n",
              "      <td>0</td>\n",
              "      <td>0</td>\n",
              "      <td>0</td>\n",
              "      <td>0</td>\n",
              "      <td>0</td>\n",
              "      <td>0</td>\n",
              "      <td>0</td>\n",
              "      <td>0</td>\n",
              "      <td>0</td>\n",
              "      <td>0</td>\n",
              "      <td>1</td>\n",
              "      <td>0</td>\n",
              "      <td>0</td>\n",
              "      <td>0</td>\n",
              "      <td>0</td>\n",
              "      <td>0</td>\n",
              "      <td>0</td>\n",
              "      <td>0</td>\n",
              "      <td>0</td>\n",
              "      <td>0</td>\n",
              "      <td>0</td>\n",
              "      <td>0</td>\n",
              "      <td>0</td>\n",
              "      <td>0</td>\n",
              "      <td>0</td>\n",
              "      <td>0</td>\n",
              "      <td>0</td>\n",
              "      <td>0</td>\n",
              "      <td>0</td>\n",
              "      <td>0</td>\n",
              "    </tr>\n",
              "    <tr>\n",
              "      <th>2431</th>\n",
              "      <td>NaN</td>\n",
              "      <td>154.2</td>\n",
              "      <td>41</td>\n",
              "      <td>1</td>\n",
              "      <td>16</td>\n",
              "      <td>1</td>\n",
              "      <td>0</td>\n",
              "      <td>0</td>\n",
              "      <td>0</td>\n",
              "      <td>0</td>\n",
              "      <td>0</td>\n",
              "      <td>0</td>\n",
              "      <td>0</td>\n",
              "      <td>0</td>\n",
              "      <td>0</td>\n",
              "      <td>0</td>\n",
              "      <td>1</td>\n",
              "      <td>0</td>\n",
              "      <td>0</td>\n",
              "      <td>0</td>\n",
              "      <td>0</td>\n",
              "      <td>0</td>\n",
              "      <td>0</td>\n",
              "      <td>0</td>\n",
              "      <td>0</td>\n",
              "      <td>0</td>\n",
              "      <td>0</td>\n",
              "      <td>1</td>\n",
              "      <td>0</td>\n",
              "      <td>0</td>\n",
              "      <td>0</td>\n",
              "      <td>0</td>\n",
              "      <td>0</td>\n",
              "      <td>0</td>\n",
              "      <td>0</td>\n",
              "      <td>0</td>\n",
              "      <td>0</td>\n",
              "      <td>0</td>\n",
              "      <td>0</td>\n",
              "      <td>0</td>\n",
              "      <td>0</td>\n",
              "      <td>0</td>\n",
              "      <td>0</td>\n",
              "      <td>0</td>\n",
              "      <td>0</td>\n",
              "      <td>0</td>\n",
              "    </tr>\n",
              "    <tr>\n",
              "      <th>2472</th>\n",
              "      <td>NaN</td>\n",
              "      <td>151.2</td>\n",
              "      <td>33</td>\n",
              "      <td>1</td>\n",
              "      <td>57</td>\n",
              "      <td>1</td>\n",
              "      <td>0</td>\n",
              "      <td>0</td>\n",
              "      <td>0</td>\n",
              "      <td>0</td>\n",
              "      <td>0</td>\n",
              "      <td>0</td>\n",
              "      <td>0</td>\n",
              "      <td>0</td>\n",
              "      <td>0</td>\n",
              "      <td>0</td>\n",
              "      <td>0</td>\n",
              "      <td>0</td>\n",
              "      <td>0</td>\n",
              "      <td>0</td>\n",
              "      <td>0</td>\n",
              "      <td>0</td>\n",
              "      <td>0</td>\n",
              "      <td>0</td>\n",
              "      <td>1</td>\n",
              "      <td>0</td>\n",
              "      <td>0</td>\n",
              "      <td>0</td>\n",
              "      <td>0</td>\n",
              "      <td>0</td>\n",
              "      <td>0</td>\n",
              "      <td>0</td>\n",
              "      <td>0</td>\n",
              "      <td>0</td>\n",
              "      <td>0</td>\n",
              "      <td>0</td>\n",
              "      <td>0</td>\n",
              "      <td>0</td>\n",
              "      <td>0</td>\n",
              "      <td>0</td>\n",
              "      <td>0</td>\n",
              "      <td>0</td>\n",
              "      <td>0</td>\n",
              "      <td>0</td>\n",
              "      <td>0</td>\n",
              "      <td>0</td>\n",
              "    </tr>\n",
              "    <tr>\n",
              "      <th>2497</th>\n",
              "      <td>NaN</td>\n",
              "      <td>156.2</td>\n",
              "      <td>9</td>\n",
              "      <td>1</td>\n",
              "      <td>70</td>\n",
              "      <td>1</td>\n",
              "      <td>0</td>\n",
              "      <td>0</td>\n",
              "      <td>0</td>\n",
              "      <td>0</td>\n",
              "      <td>0</td>\n",
              "      <td>0</td>\n",
              "      <td>0</td>\n",
              "      <td>0</td>\n",
              "      <td>0</td>\n",
              "      <td>1</td>\n",
              "      <td>0</td>\n",
              "      <td>0</td>\n",
              "      <td>0</td>\n",
              "      <td>0</td>\n",
              "      <td>1</td>\n",
              "      <td>0</td>\n",
              "      <td>0</td>\n",
              "      <td>0</td>\n",
              "      <td>0</td>\n",
              "      <td>0</td>\n",
              "      <td>1</td>\n",
              "      <td>0</td>\n",
              "      <td>0</td>\n",
              "      <td>0</td>\n",
              "      <td>0</td>\n",
              "      <td>0</td>\n",
              "      <td>0</td>\n",
              "      <td>0</td>\n",
              "      <td>0</td>\n",
              "      <td>0</td>\n",
              "      <td>0</td>\n",
              "      <td>0</td>\n",
              "      <td>0</td>\n",
              "      <td>0</td>\n",
              "      <td>0</td>\n",
              "      <td>0</td>\n",
              "      <td>0</td>\n",
              "      <td>0</td>\n",
              "      <td>0</td>\n",
              "      <td>0</td>\n",
              "    </tr>\n",
              "  </tbody>\n",
              "</table>\n",
              "</div>"
            ],
            "text/plain": [
              "      age_of_marriage  ...  location_random_Midnapore\n",
              "290               NaN  ...                          0\n",
              "305               NaN  ...                          0\n",
              "432               NaN  ...                          0\n",
              "580               NaN  ...                          0\n",
              "723               NaN  ...                          0\n",
              "811               NaN  ...                          0\n",
              "877               NaN  ...                          0\n",
              "932               NaN  ...                          0\n",
              "1255              NaN  ...                          0\n",
              "1335              NaN  ...                          0\n",
              "1415              NaN  ...                          0\n",
              "1612              NaN  ...                          0\n",
              "1754              NaN  ...                          0\n",
              "2355              NaN  ...                          0\n",
              "2363              NaN  ...                          0\n",
              "2384              NaN  ...                          0\n",
              "2431              NaN  ...                          0\n",
              "2472              NaN  ...                          0\n",
              "2497              NaN  ...                          0\n",
              "\n",
              "[19 rows x 46 columns]"
            ]
          },
          "metadata": {
            "tags": []
          },
          "execution_count": 61
        }
      ]
    },
    {
      "cell_type": "code",
      "metadata": {
        "id": "h9cBV9iNSbZH"
      },
      "source": [
        ""
      ],
      "execution_count": null,
      "outputs": []
    },
    {
      "cell_type": "code",
      "metadata": {
        "id": "Yle2TkSjJ_g2"
      },
      "source": [
        "data21=pd.concat([data20,rows_with_nan]).drop_duplicates(keep=False)\r\n",
        "data21.reset_index()\r\n",
        "data21.shape\r\n",
        "data21.isnull().sum()\r\n",
        "x=data21.drop(['age_of_marriage'],axis=1)\r\n",
        "y=data21['age_of_marriage']\r\n",
        "from sklearn.preprocessing import StandardScaler\r\n",
        "scale=StandardScaler()\r\n",
        "from sklearn.model_selection import train_test_split\r\n",
        "(x_train,x_test,y_train,y_test)=train_test_split(x,y,test_size=0.1)\r\n",
        "x_train_scale=scale.fit(x_train)\r\n",
        "x_test_scale=scale.transform(x_test)\r\n"
      ],
      "execution_count": null,
      "outputs": []
    },
    {
      "cell_type": "code",
      "metadata": {
        "id": "MEJjMgdmT24c"
      },
      "source": [
        ""
      ],
      "execution_count": null,
      "outputs": []
    },
    {
      "cell_type": "markdown",
      "metadata": {
        "id": "V1MrEN5Cjosg"
      },
      "source": [
        "Machine Learning modelling"
      ]
    },
    {
      "cell_type": "markdown",
      "metadata": {
        "id": "HSxvvZV2jstD"
      },
      "source": [
        "1. Linear Regression"
      ]
    },
    {
      "cell_type": "code",
      "metadata": {
        "colab": {
          "base_uri": "https://localhost:8080/"
        },
        "id": "f9M5iCnDjrXP",
        "outputId": "5aa0cf10-29b9-458c-eaba-c67353467534"
      },
      "source": [
        "\r\n",
        "\r\n",
        "from sklearn.linear_model import LinearRegression\r\n",
        "from sklearn.model_selection import cross_val_score\r\n",
        "lin=LinearRegression()\r\n",
        "mse=cross_val_score(lin,x,y,scoring='neg_mean_squared_error',cv=5)\r\n",
        "mean_mse=np.mean(mse)\r\n",
        "print(mean_mse)"
      ],
      "execution_count": null,
      "outputs": [
        {
          "output_type": "stream",
          "text": [
            "-6.709879838860479\n"
          ],
          "name": "stdout"
        }
      ]
    },
    {
      "cell_type": "markdown",
      "metadata": {
        "id": "-ka1RoJQvNKr"
      },
      "source": [
        "Ridge Regression"
      ]
    },
    {
      "cell_type": "code",
      "metadata": {
        "colab": {
          "base_uri": "https://localhost:8080/"
        },
        "id": "hcJTwZvjvOn-",
        "outputId": "a6f52eb3-b796-47e6-cd88-48fcacfc9150"
      },
      "source": [
        "from sklearn.linear_model import Ridge\r\n",
        "from sklearn.model_selection import GridSearchCV\r\n",
        "parameters={'alpha':[1e-15,1e-5,0,5,10,40,50,95,100,1000]}\r\n",
        "rid=Ridge()\r\n",
        "ridge_mse=GridSearchCV(rid, parameters,scoring='neg_mean_squared_error',cv=5)\r\n",
        "ridge_mse.fit(x,y)\r\n",
        "print(ridge_mse.best_params_)\r\n",
        "print(ridge_mse.best_score_)"
      ],
      "execution_count": null,
      "outputs": [
        {
          "output_type": "stream",
          "text": [
            "{'alpha': 10}\n",
            "-6.677611107917938\n"
          ],
          "name": "stdout"
        }
      ]
    },
    {
      "cell_type": "markdown",
      "metadata": {
        "id": "vL-ZnxUfvYiB"
      },
      "source": [
        "Lasso Regression"
      ]
    },
    {
      "cell_type": "code",
      "metadata": {
        "colab": {
          "base_uri": "https://localhost:8080/"
        },
        "id": "8zk-Gu8zvaKa",
        "outputId": "2afc93c7-5fc4-46ec-fd8d-a28d12f8d217"
      },
      "source": [
        "from sklearn.linear_model import Lasso\r\n",
        "from sklearn.model_selection import GridSearchCV\r\n",
        "parameters={'alpha':[1e-15,1e-5,0,1,5,10,40,50,95,100,1000]}\r\n",
        "lasso=Lasso()\r\n",
        "lasso_mse=GridSearchCV(lasso, parameters,scoring='neg_mean_squared_error',cv=5)\r\n",
        "lasso_mse.fit(x,y)\r\n",
        "print(lasso_mse.best_params_)\r\n",
        "print(lasso_mse.best_score_)"
      ],
      "execution_count": null,
      "outputs": [
        {
          "output_type": "stream",
          "text": [
            "/usr/local/lib/python3.6/dist-packages/sklearn/linear_model/_coordinate_descent.py:476: ConvergenceWarning: Objective did not converge. You might want to increase the number of iterations. Duality gap: 2833.2195398831145, tolerance: 1.5631992039801006\n",
            "  positive)\n",
            "/usr/local/lib/python3.6/dist-packages/sklearn/linear_model/_coordinate_descent.py:476: ConvergenceWarning: Objective did not converge. You might want to increase the number of iterations. Duality gap: 1123.2026007252434, tolerance: 1.5813520398009964\n",
            "  positive)\n",
            "/usr/local/lib/python3.6/dist-packages/sklearn/linear_model/_coordinate_descent.py:476: ConvergenceWarning: Objective did not converge. You might want to increase the number of iterations. Duality gap: 2543.988617212308, tolerance: 1.593186971655893\n",
            "  positive)\n",
            "/usr/local/lib/python3.6/dist-packages/sklearn/linear_model/_coordinate_descent.py:476: ConvergenceWarning: Objective did not converge. You might want to increase the number of iterations. Duality gap: 2768.608553233915, tolerance: 1.6139110890104436\n",
            "  positive)\n",
            "/usr/local/lib/python3.6/dist-packages/sklearn/model_selection/_validation.py:515: UserWarning: With alpha=0, this algorithm does not converge well. You are advised to use the LinearRegression estimator\n",
            "  estimator.fit(X_train, y_train, **fit_params)\n",
            "/usr/local/lib/python3.6/dist-packages/sklearn/linear_model/_coordinate_descent.py:476: UserWarning: Coordinate descent with no regularization may lead to unexpected results and is discouraged.\n",
            "  positive)\n",
            "/usr/local/lib/python3.6/dist-packages/sklearn/linear_model/_coordinate_descent.py:476: ConvergenceWarning: Objective did not converge. You might want to increase the number of iterations. Duality gap: 6394.736846335175, tolerance: 1.5631992039801006\n",
            "  positive)\n",
            "/usr/local/lib/python3.6/dist-packages/sklearn/model_selection/_validation.py:515: UserWarning: With alpha=0, this algorithm does not converge well. You are advised to use the LinearRegression estimator\n",
            "  estimator.fit(X_train, y_train, **fit_params)\n",
            "/usr/local/lib/python3.6/dist-packages/sklearn/linear_model/_coordinate_descent.py:476: UserWarning: Coordinate descent with no regularization may lead to unexpected results and is discouraged.\n",
            "  positive)\n",
            "/usr/local/lib/python3.6/dist-packages/sklearn/linear_model/_coordinate_descent.py:476: ConvergenceWarning: Objective did not converge. You might want to increase the number of iterations. Duality gap: 6439.58868979579, tolerance: 1.5813520398009964\n",
            "  positive)\n",
            "/usr/local/lib/python3.6/dist-packages/sklearn/model_selection/_validation.py:515: UserWarning: With alpha=0, this algorithm does not converge well. You are advised to use the LinearRegression estimator\n",
            "  estimator.fit(X_train, y_train, **fit_params)\n",
            "/usr/local/lib/python3.6/dist-packages/sklearn/linear_model/_coordinate_descent.py:476: UserWarning: Coordinate descent with no regularization may lead to unexpected results and is discouraged.\n",
            "  positive)\n",
            "/usr/local/lib/python3.6/dist-packages/sklearn/linear_model/_coordinate_descent.py:476: ConvergenceWarning: Objective did not converge. You might want to increase the number of iterations. Duality gap: 6458.992471418531, tolerance: 1.580199800995025\n",
            "  positive)\n",
            "/usr/local/lib/python3.6/dist-packages/sklearn/model_selection/_validation.py:515: UserWarning: With alpha=0, this algorithm does not converge well. You are advised to use the LinearRegression estimator\n",
            "  estimator.fit(X_train, y_train, **fit_params)\n",
            "/usr/local/lib/python3.6/dist-packages/sklearn/linear_model/_coordinate_descent.py:476: UserWarning: Coordinate descent with no regularization may lead to unexpected results and is discouraged.\n",
            "  positive)\n",
            "/usr/local/lib/python3.6/dist-packages/sklearn/linear_model/_coordinate_descent.py:476: ConvergenceWarning: Objective did not converge. You might want to increase the number of iterations. Duality gap: 6530.58477353451, tolerance: 1.593186971655893\n",
            "  positive)\n",
            "/usr/local/lib/python3.6/dist-packages/sklearn/model_selection/_validation.py:515: UserWarning: With alpha=0, this algorithm does not converge well. You are advised to use the LinearRegression estimator\n",
            "  estimator.fit(X_train, y_train, **fit_params)\n",
            "/usr/local/lib/python3.6/dist-packages/sklearn/linear_model/_coordinate_descent.py:476: UserWarning: Coordinate descent with no regularization may lead to unexpected results and is discouraged.\n",
            "  positive)\n",
            "/usr/local/lib/python3.6/dist-packages/sklearn/linear_model/_coordinate_descent.py:476: ConvergenceWarning: Objective did not converge. You might want to increase the number of iterations. Duality gap: 6558.490165983171, tolerance: 1.6139110890104436\n",
            "  positive)\n"
          ],
          "name": "stderr"
        },
        {
          "output_type": "stream",
          "text": [
            "{'alpha': 1e-05}\n",
            "-6.709577919608357\n"
          ],
          "name": "stdout"
        }
      ]
    },
    {
      "cell_type": "code",
      "metadata": {
        "colab": {
          "base_uri": "https://localhost:8080/",
          "height": 352
        },
        "id": "Q58ZhY-Fvhws",
        "outputId": "b7c9bdf2-b608-4ffc-ecf1-5d3d97d239fe"
      },
      "source": [
        "prediction_lasso=lasso_mse.predict(x_test)\r\n",
        "prediction_ridge=ridge_mse.predict(x_test)\r\n",
        "import seaborn as sns\r\n",
        "\r\n",
        "sns.distplot(y_test-prediction_lasso)"
      ],
      "execution_count": null,
      "outputs": [
        {
          "output_type": "stream",
          "text": [
            "/usr/local/lib/python3.6/dist-packages/seaborn/distributions.py:2551: FutureWarning: `distplot` is a deprecated function and will be removed in a future version. Please adapt your code to use either `displot` (a figure-level function with similar flexibility) or `histplot` (an axes-level function for histograms).\n",
            "  warnings.warn(msg, FutureWarning)\n"
          ],
          "name": "stderr"
        },
        {
          "output_type": "execute_result",
          "data": {
            "text/plain": [
              "<matplotlib.axes._subplots.AxesSubplot at 0x7faef5736390>"
            ]
          },
          "metadata": {
            "tags": []
          },
          "execution_count": 66
        },
        {
          "output_type": "display_data",
          "data": {
            "image/png": "[encoded data removed]",
            "text/plain": [
              "<Figure size 432x288 with 1 Axes>"
            ]
          },
          "metadata": {
            "tags": [],
            "needs_background": "light"
          }
        }
      ]
    },
    {
      "cell_type": "code",
      "metadata": {
        "colab": {
          "base_uri": "https://localhost:8080/",
          "height": 387
        },
        "id": "GFapt3r6wkQO",
        "outputId": "bdedde93-db37-4196-c925-de6aee9733b9"
      },
      "source": [
        "sns.displot(y_test-prediction_ridge,kde=True)"
      ],
      "execution_count": null,
      "outputs": [
        {
          "output_type": "execute_result",
          "data": {
            "text/plain": [
              "<seaborn.axisgrid.FacetGrid at 0x7faef56512e8>"
            ]
          },
          "metadata": {
            "tags": []
          },
          "execution_count": 67
        },
        {
          "output_type": "display_data",
          "data": {
            "image/png": "[encoded data removed]",
            "text/plain": [
              "<Figure size 360x360 with 1 Axes>"
            ]
          },
          "metadata": {
            "tags": [],
            "needs_background": "light"
          }
        }
      ]
    },
    {
      "cell_type": "markdown",
      "metadata": {
        "id": "oBcTTmMIw3Bs"
      },
      "source": [
        "Random Forest Ensemble Technique"
      ]
    },
    {
      "cell_type": "code",
      "metadata": {
        "colab": {
          "base_uri": "https://localhost:8080/"
        },
        "id": "ZyC5KW5Jw9Qn",
        "outputId": "e0beadd7-81f2-46cb-aaeb-e01d1d87d6ba"
      },
      "source": [
        "from sklearn.ensemble import RandomForestRegressor\r\n",
        "reg_rf = RandomForestRegressor()\r\n",
        "reg_rf.fit(x_train, y_train)\r\n",
        "y_pred = reg_rf.predict(x_test)\r\n",
        "reg_rf.score(x_test, y_test)"
      ],
      "execution_count": null,
      "outputs": [
        {
          "output_type": "execute_result",
          "data": {
            "text/plain": [
              "0.3620813146931434"
            ]
          },
          "metadata": {
            "tags": []
          },
          "execution_count": 68
        }
      ]
    },
    {
      "cell_type": "code",
      "metadata": {
        "colab": {
          "base_uri": "https://localhost:8080/",
          "height": 352
        },
        "id": "QRShR6I5xkTq",
        "outputId": "68fc5e2f-5bac-4bf8-bca9-de06e7b0da6b"
      },
      "source": [
        "import seaborn as nsns\r\n",
        "sns.distplot(y_test-y_pred,kde=True)"
      ],
      "execution_count": null,
      "outputs": [
        {
          "output_type": "stream",
          "text": [
            "/usr/local/lib/python3.6/dist-packages/seaborn/distributions.py:2551: FutureWarning: `distplot` is a deprecated function and will be removed in a future version. Please adapt your code to use either `displot` (a figure-level function with similar flexibility) or `histplot` (an axes-level function for histograms).\n",
            "  warnings.warn(msg, FutureWarning)\n"
          ],
          "name": "stderr"
        },
        {
          "output_type": "execute_result",
          "data": {
            "text/plain": [
              "<matplotlib.axes._subplots.AxesSubplot at 0x7faef3930cc0>"
            ]
          },
          "metadata": {
            "tags": []
          },
          "execution_count": 69
        },
        {
          "output_type": "display_data",
          "data": {
            "image/png": "[encoded data removed]",
            "text/plain": [
              "<Figure size 432x288 with 1 Axes>"
            ]
          },
          "metadata": {
            "tags": [],
            "needs_background": "light"
          }
        }
      ]
    },
    {
      "cell_type": "markdown",
      "metadata": {
        "id": "lfwKDFUcyBMA"
      },
      "source": [
        "Hyper Tuning Technique in Random Forest"
      ]
    },
    {
      "cell_type": "code",
      "metadata": {
        "colab": {
          "base_uri": "https://localhost:8080/"
        },
        "id": "JQNcNAf4x_E1",
        "outputId": "75c91135-af87-4c1e-b0ef-701cf18638d7"
      },
      "source": [
        "from sklearn.model_selection import RandomizedSearchCV\r\n",
        "\r\n",
        "#Randomized Search CV\r\n",
        "\r\n",
        "# Number of trees in random forest\r\n",
        "n_estimators = [int(x) for x in np.linspace(start = 100, stop = 1200, num = 12)]\r\n",
        "# Number of features to consider at every split\r\n",
        "max_features = ['auto', 'sqrt']\r\n",
        "# Maximum number of levels in tree\r\n",
        "max_depth = [int(x) for x in np.linspace(5, 30, num = 6)]\r\n",
        "# Minimum number of samples required to split a node\r\n",
        "min_samples_split = [2, 5, 10, 15, 100]\r\n",
        "# Minimum number of samples required at each leaf node\r\n",
        "min_samples_leaf = [1, 2, 5, 10]\r\n",
        "\r\n",
        "# Create the random grid\r\n",
        "\r\n",
        "random_grid = {'n_estimators': n_estimators,\r\n",
        "               'max_features': max_features,\r\n",
        "               'max_depth': max_depth,\r\n",
        "               'min_samples_split': min_samples_split,\r\n",
        "               'min_samples_leaf': min_samples_leaf}\r\n",
        "# Random search of parameters, using 5 fold cross validation, \r\n",
        "# search across 100 different combinations\r\n",
        "rf_random = RandomizedSearchCV(estimator = reg_rf, param_distributions = random_grid,scoring='neg_mean_squared_error', n_iter = 10, cv = 5, verbose=2, random_state=42, n_jobs = 1)\r\n",
        "\r\n",
        "rf_random.fit(x_train,y_train)"
      ],
      "execution_count": null,
      "outputs": [
        {
          "output_type": "stream",
          "text": [
            "Fitting 5 folds for each of 10 candidates, totalling 50 fits\n",
            "[CV] n_estimators=900, min_samples_split=5, min_samples_leaf=5, max_features=sqrt, max_depth=10 \n"
          ],
          "name": "stdout"
        },
        {
          "output_type": "stream",
          "text": [
            "[Parallel(n_jobs=1)]: Using backend SequentialBackend with 1 concurrent workers.\n"
          ],
          "name": "stderr"
        },
        {
          "output_type": "stream",
          "text": [
            "[CV]  n_estimators=900, min_samples_split=5, min_samples_leaf=5, max_features=sqrt, max_depth=10, total=   1.6s\n",
            "[CV] n_estimators=900, min_samples_split=5, min_samples_leaf=5, max_features=sqrt, max_depth=10 \n"
          ],
          "name": "stdout"
        },
        {
          "output_type": "stream",
          "text": [
            "[Parallel(n_jobs=1)]: Done   1 out of   1 | elapsed:    1.6s remaining:    0.0s\n"
          ],
          "name": "stderr"
        },
        {
          "output_type": "stream",
          "text": [
            "[CV]  n_estimators=900, min_samples_split=5, min_samples_leaf=5, max_features=sqrt, max_depth=10, total=   1.8s\n",
            "[CV] n_estimators=900, min_samples_split=5, min_samples_leaf=5, max_features=sqrt, max_depth=10 \n",
            "[CV]  n_estimators=900, min_samples_split=5, min_samples_leaf=5, max_features=sqrt, max_depth=10, total=   1.6s\n",
            "[CV] n_estimators=900, min_samples_split=5, min_samples_leaf=5, max_features=sqrt, max_depth=10 \n",
            "[CV]  n_estimators=900, min_samples_split=5, min_samples_leaf=5, max_features=sqrt, max_depth=10, total=   1.6s\n",
            "[CV] n_estimators=900, min_samples_split=5, min_samples_leaf=5, max_features=sqrt, max_depth=10 \n",
            "[CV]  n_estimators=900, min_samples_split=5, min_samples_leaf=5, max_features=sqrt, max_depth=10, total=   1.6s\n",
            "[CV] n_estimators=1100, min_samples_split=10, min_samples_leaf=2, max_features=sqrt, max_depth=15 \n",
            "[CV]  n_estimators=1100, min_samples_split=10, min_samples_leaf=2, max_features=sqrt, max_depth=15, total=   2.3s\n",
            "[CV] n_estimators=1100, min_samples_split=10, min_samples_leaf=2, max_features=sqrt, max_depth=15 \n",
            "[CV]  n_estimators=1100, min_samples_split=10, min_samples_leaf=2, max_features=sqrt, max_depth=15, total=   2.2s\n",
            "[CV] n_estimators=1100, min_samples_split=10, min_samples_leaf=2, max_features=sqrt, max_depth=15 \n",
            "[CV]  n_estimators=1100, min_samples_split=10, min_samples_leaf=2, max_features=sqrt, max_depth=15, total=   2.3s\n",
            "[CV] n_estimators=1100, min_samples_split=10, min_samples_leaf=2, max_features=sqrt, max_depth=15 \n",
            "[CV]  n_estimators=1100, min_samples_split=10, min_samples_leaf=2, max_features=sqrt, max_depth=15, total=   2.3s\n",
            "[CV] n_estimators=1100, min_samples_split=10, min_samples_leaf=2, max_features=sqrt, max_depth=15 \n",
            "[CV]  n_estimators=1100, min_samples_split=10, min_samples_leaf=2, max_features=sqrt, max_depth=15, total=   2.2s\n",
            "[CV] n_estimators=300, min_samples_split=100, min_samples_leaf=5, max_features=auto, max_depth=15 \n",
            "[CV]  n_estimators=300, min_samples_split=100, min_samples_leaf=5, max_features=auto, max_depth=15, total=   1.2s\n",
            "[CV] n_estimators=300, min_samples_split=100, min_samples_leaf=5, max_features=auto, max_depth=15 \n",
            "[CV]  n_estimators=300, min_samples_split=100, min_samples_leaf=5, max_features=auto, max_depth=15, total=   1.1s\n",
            "[CV] n_estimators=300, min_samples_split=100, min_samples_leaf=5, max_features=auto, max_depth=15 \n",
            "[CV]  n_estimators=300, min_samples_split=100, min_samples_leaf=5, max_features=auto, max_depth=15, total=   1.1s\n",
            "[CV] n_estimators=300, min_samples_split=100, min_samples_leaf=5, max_features=auto, max_depth=15 \n",
            "[CV]  n_estimators=300, min_samples_split=100, min_samples_leaf=5, max_features=auto, max_depth=15, total=   1.2s\n",
            "[CV] n_estimators=300, min_samples_split=100, min_samples_leaf=5, max_features=auto, max_depth=15 \n",
            "[CV]  n_estimators=300, min_samples_split=100, min_samples_leaf=5, max_features=auto, max_depth=15, total=   1.2s\n",
            "[CV] n_estimators=400, min_samples_split=5, min_samples_leaf=5, max_features=auto, max_depth=15 \n",
            "[CV]  n_estimators=400, min_samples_split=5, min_samples_leaf=5, max_features=auto, max_depth=15, total=   2.1s\n",
            "[CV] n_estimators=400, min_samples_split=5, min_samples_leaf=5, max_features=auto, max_depth=15 \n",
            "[CV]  n_estimators=400, min_samples_split=5, min_samples_leaf=5, max_features=auto, max_depth=15, total=   2.1s\n",
            "[CV] n_estimators=400, min_samples_split=5, min_samples_leaf=5, max_features=auto, max_depth=15 \n",
            "[CV]  n_estimators=400, min_samples_split=5, min_samples_leaf=5, max_features=auto, max_depth=15, total=   2.1s\n",
            "[CV] n_estimators=400, min_samples_split=5, min_samples_leaf=5, max_features=auto, max_depth=15 \n",
            "[CV]  n_estimators=400, min_samples_split=5, min_samples_leaf=5, max_features=auto, max_depth=15, total=   2.1s\n",
            "[CV] n_estimators=400, min_samples_split=5, min_samples_leaf=5, max_features=auto, max_depth=15 \n",
            "[CV]  n_estimators=400, min_samples_split=5, min_samples_leaf=5, max_features=auto, max_depth=15, total=   2.2s\n",
            "[CV] n_estimators=700, min_samples_split=5, min_samples_leaf=10, max_features=auto, max_depth=20 \n",
            "[CV]  n_estimators=700, min_samples_split=5, min_samples_leaf=10, max_features=auto, max_depth=20, total=   3.2s\n",
            "[CV] n_estimators=700, min_samples_split=5, min_samples_leaf=10, max_features=auto, max_depth=20 \n",
            "[CV]  n_estimators=700, min_samples_split=5, min_samples_leaf=10, max_features=auto, max_depth=20, total=   3.2s\n",
            "[CV] n_estimators=700, min_samples_split=5, min_samples_leaf=10, max_features=auto, max_depth=20 \n",
            "[CV]  n_estimators=700, min_samples_split=5, min_samples_leaf=10, max_features=auto, max_depth=20, total=   3.1s\n",
            "[CV] n_estimators=700, min_samples_split=5, min_samples_leaf=10, max_features=auto, max_depth=20 \n",
            "[CV]  n_estimators=700, min_samples_split=5, min_samples_leaf=10, max_features=auto, max_depth=20, total=   3.2s\n",
            "[CV] n_estimators=700, min_samples_split=5, min_samples_leaf=10, max_features=auto, max_depth=20 \n",
            "[CV]  n_estimators=700, min_samples_split=5, min_samples_leaf=10, max_features=auto, max_depth=20, total=   3.2s\n",
            "[CV] n_estimators=1000, min_samples_split=2, min_samples_leaf=1, max_features=sqrt, max_depth=25 \n",
            "[CV]  n_estimators=1000, min_samples_split=2, min_samples_leaf=1, max_features=sqrt, max_depth=25, total=   3.2s\n",
            "[CV] n_estimators=1000, min_samples_split=2, min_samples_leaf=1, max_features=sqrt, max_depth=25 \n",
            "[CV]  n_estimators=1000, min_samples_split=2, min_samples_leaf=1, max_features=sqrt, max_depth=25, total=   3.2s\n",
            "[CV] n_estimators=1000, min_samples_split=2, min_samples_leaf=1, max_features=sqrt, max_depth=25 \n",
            "[CV]  n_estimators=1000, min_samples_split=2, min_samples_leaf=1, max_features=sqrt, max_depth=25, total=   3.2s\n",
            "[CV] n_estimators=1000, min_samples_split=2, min_samples_leaf=1, max_features=sqrt, max_depth=25 \n",
            "[CV]  n_estimators=1000, min_samples_split=2, min_samples_leaf=1, max_features=sqrt, max_depth=25, total=   3.2s\n",
            "[CV] n_estimators=1000, min_samples_split=2, min_samples_leaf=1, max_features=sqrt, max_depth=25 \n",
            "[CV]  n_estimators=1000, min_samples_split=2, min_samples_leaf=1, max_features=sqrt, max_depth=25, total=   3.1s\n",
            "[CV] n_estimators=1100, min_samples_split=15, min_samples_leaf=10, max_features=sqrt, max_depth=5 \n",
            "[CV]  n_estimators=1100, min_samples_split=15, min_samples_leaf=10, max_features=sqrt, max_depth=5, total=   1.7s\n",
            "[CV] n_estimators=1100, min_samples_split=15, min_samples_leaf=10, max_features=sqrt, max_depth=5 \n",
            "[CV]  n_estimators=1100, min_samples_split=15, min_samples_leaf=10, max_features=sqrt, max_depth=5, total=   1.6s\n",
            "[CV] n_estimators=1100, min_samples_split=15, min_samples_leaf=10, max_features=sqrt, max_depth=5 \n",
            "[CV]  n_estimators=1100, min_samples_split=15, min_samples_leaf=10, max_features=sqrt, max_depth=5, total=   1.7s\n",
            "[CV] n_estimators=1100, min_samples_split=15, min_samples_leaf=10, max_features=sqrt, max_depth=5 \n",
            "[CV]  n_estimators=1100, min_samples_split=15, min_samples_leaf=10, max_features=sqrt, max_depth=5, total=   1.7s\n",
            "[CV] n_estimators=1100, min_samples_split=15, min_samples_leaf=10, max_features=sqrt, max_depth=5 \n",
            "[CV]  n_estimators=1100, min_samples_split=15, min_samples_leaf=10, max_features=sqrt, max_depth=5, total=   1.6s\n",
            "[CV] n_estimators=300, min_samples_split=15, min_samples_leaf=1, max_features=sqrt, max_depth=15 \n",
            "[CV]  n_estimators=300, min_samples_split=15, min_samples_leaf=1, max_features=sqrt, max_depth=15, total=   0.7s\n",
            "[CV] n_estimators=300, min_samples_split=15, min_samples_leaf=1, max_features=sqrt, max_depth=15 \n",
            "[CV]  n_estimators=300, min_samples_split=15, min_samples_leaf=1, max_features=sqrt, max_depth=15, total=   0.7s\n",
            "[CV] n_estimators=300, min_samples_split=15, min_samples_leaf=1, max_features=sqrt, max_depth=15 \n",
            "[CV]  n_estimators=300, min_samples_split=15, min_samples_leaf=1, max_features=sqrt, max_depth=15, total=   0.6s\n",
            "[CV] n_estimators=300, min_samples_split=15, min_samples_leaf=1, max_features=sqrt, max_depth=15 \n",
            "[CV]  n_estimators=300, min_samples_split=15, min_samples_leaf=1, max_features=sqrt, max_depth=15, total=   0.6s\n",
            "[CV] n_estimators=300, min_samples_split=15, min_samples_leaf=1, max_features=sqrt, max_depth=15 \n",
            "[CV]  n_estimators=300, min_samples_split=15, min_samples_leaf=1, max_features=sqrt, max_depth=15, total=   0.7s\n",
            "[CV] n_estimators=700, min_samples_split=10, min_samples_leaf=2, max_features=sqrt, max_depth=5 \n",
            "[CV]  n_estimators=700, min_samples_split=10, min_samples_leaf=2, max_features=sqrt, max_depth=5, total=   1.1s\n",
            "[CV] n_estimators=700, min_samples_split=10, min_samples_leaf=2, max_features=sqrt, max_depth=5 \n",
            "[CV]  n_estimators=700, min_samples_split=10, min_samples_leaf=2, max_features=sqrt, max_depth=5, total=   1.1s\n",
            "[CV] n_estimators=700, min_samples_split=10, min_samples_leaf=2, max_features=sqrt, max_depth=5 \n",
            "[CV]  n_estimators=700, min_samples_split=10, min_samples_leaf=2, max_features=sqrt, max_depth=5, total=   1.1s\n",
            "[CV] n_estimators=700, min_samples_split=10, min_samples_leaf=2, max_features=sqrt, max_depth=5 \n",
            "[CV]  n_estimators=700, min_samples_split=10, min_samples_leaf=2, max_features=sqrt, max_depth=5, total=   1.1s\n",
            "[CV] n_estimators=700, min_samples_split=10, min_samples_leaf=2, max_features=sqrt, max_depth=5 \n",
            "[CV]  n_estimators=700, min_samples_split=10, min_samples_leaf=2, max_features=sqrt, max_depth=5, total=   1.1s\n",
            "[CV] n_estimators=700, min_samples_split=15, min_samples_leaf=1, max_features=auto, max_depth=20 \n",
            "[CV]  n_estimators=700, min_samples_split=15, min_samples_leaf=1, max_features=auto, max_depth=20, total=   4.1s\n",
            "[CV] n_estimators=700, min_samples_split=15, min_samples_leaf=1, max_features=auto, max_depth=20 \n",
            "[CV]  n_estimators=700, min_samples_split=15, min_samples_leaf=1, max_features=auto, max_depth=20, total=   4.0s\n",
            "[CV] n_estimators=700, min_samples_split=15, min_samples_leaf=1, max_features=auto, max_depth=20 \n",
            "[CV]  n_estimators=700, min_samples_split=15, min_samples_leaf=1, max_features=auto, max_depth=20, total=   4.0s\n",
            "[CV] n_estimators=700, min_samples_split=15, min_samples_leaf=1, max_features=auto, max_depth=20 \n",
            "[CV]  n_estimators=700, min_samples_split=15, min_samples_leaf=1, max_features=auto, max_depth=20, total=   4.1s\n",
            "[CV] n_estimators=700, min_samples_split=15, min_samples_leaf=1, max_features=auto, max_depth=20 \n",
            "[CV]  n_estimators=700, min_samples_split=15, min_samples_leaf=1, max_features=auto, max_depth=20, total=   4.0s\n"
          ],
          "name": "stdout"
        },
        {
          "output_type": "stream",
          "text": [
            "[Parallel(n_jobs=1)]: Done  50 out of  50 | elapsed:  1.7min finished\n"
          ],
          "name": "stderr"
        },
        {
          "output_type": "execute_result",
          "data": {
            "text/plain": [
              "RandomizedSearchCV(cv=5, error_score=nan,\n",
              "                   estimator=RandomForestRegressor(bootstrap=True,\n",
              "                                                   ccp_alpha=0.0,\n",
              "                                                   criterion='mse',\n",
              "                                                   max_depth=None,\n",
              "                                                   max_features='auto',\n",
              "                                                   max_leaf_nodes=None,\n",
              "                                                   max_samples=None,\n",
              "                                                   min_impurity_decrease=0.0,\n",
              "                                                   min_impurity_split=None,\n",
              "                                                   min_samples_leaf=1,\n",
              "                                                   min_samples_split=2,\n",
              "                                                   min_weight_fraction_leaf=0.0,\n",
              "                                                   n_estimators=100,\n",
              "                                                   n_jobs=None, oob_score=Fals...\n",
              "                   iid='deprecated', n_iter=10, n_jobs=1,\n",
              "                   param_distributions={'max_depth': [5, 10, 15, 20, 25, 30],\n",
              "                                        'max_features': ['auto', 'sqrt'],\n",
              "                                        'min_samples_leaf': [1, 2, 5, 10],\n",
              "                                        'min_samples_split': [2, 5, 10, 15,\n",
              "                                                              100],\n",
              "                                        'n_estimators': [100, 200, 300, 400,\n",
              "                                                         500, 600, 700, 800,\n",
              "                                                         900, 1000, 1100,\n",
              "                                                         1200]},\n",
              "                   pre_dispatch='2*n_jobs', random_state=42, refit=True,\n",
              "                   return_train_score=False, scoring='neg_mean_squared_error',\n",
              "                   verbose=2)"
            ]
          },
          "metadata": {
            "tags": []
          },
          "execution_count": 70
        }
      ]
    },
    {
      "cell_type": "code",
      "metadata": {
        "colab": {
          "base_uri": "https://localhost:8080/"
        },
        "id": "YGMQO-5UzbOU",
        "outputId": "a618f619-3eb1-4644-da33-a6d2be9512d4"
      },
      "source": [
        "rf_random.best_params_\r\n",
        "rf_random.best_score_"
      ],
      "execution_count": null,
      "outputs": [
        {
          "output_type": "execute_result",
          "data": {
            "text/plain": [
              "-5.009623348538673"
            ]
          },
          "metadata": {
            "tags": []
          },
          "execution_count": 71
        }
      ]
    },
    {
      "cell_type": "code",
      "metadata": {
        "colab": {
          "base_uri": "https://localhost:8080/",
          "height": 553
        },
        "id": "dXXmwAN5y-s1",
        "outputId": "63727923-91ce-4da2-d71b-a80d4373f601"
      },
      "source": [
        "prediction = rf_random.predict(x_test)\r\n",
        "from matplotlib import pyplot as plt\r\n",
        "plt.figure(figsize = (8,8))\r\n",
        "sns.distplot(y_test-prediction)\r\n",
        "plt.show()"
      ],
      "execution_count": null,
      "outputs": [
        {
          "output_type": "stream",
          "text": [
            "/usr/local/lib/python3.6/dist-packages/seaborn/distributions.py:2551: FutureWarning: `distplot` is a deprecated function and will be removed in a future version. Please adapt your code to use either `displot` (a figure-level function with similar flexibility) or `histplot` (an axes-level function for histograms).\n",
            "  warnings.warn(msg, FutureWarning)\n"
          ],
          "name": "stderr"
        },
        {
          "output_type": "display_data",
          "data": {
            "image/png": "[encoded data removed]",
            "text/plain": [
              "<Figure size 576x576 with 1 Axes>"
            ]
          },
          "metadata": {
            "tags": [],
            "needs_background": "light"
          }
        }
      ]
    },
    {
      "cell_type": "code",
      "metadata": {
        "colab": {
          "base_uri": "https://localhost:8080/"
        },
        "id": "JliI0tCwzxby",
        "outputId": "88895373-3198-4683-c1ee-5cd979553b43"
      },
      "source": [
        "y_pred=rf_random.predict(x_test)\r\n",
        "\r\n",
        "from sklearn.metrics import r2_score\r\n",
        "acc=r2_score(y_test,y_pred)\r\n",
        "print(acc)"
      ],
      "execution_count": null,
      "outputs": [
        {
          "output_type": "stream",
          "text": [
            "0.4240617256451177\n"
          ],
          "name": "stdout"
        }
      ]
    },
    {
      "cell_type": "code",
      "metadata": {
        "id": "OGDnfe6u5th4"
      },
      "source": [
        "import pickle\r\n",
        "pickle.dump(rf_random,open('marriage_age_prediction.pkl','wb'))\r\n"
      ],
      "execution_count": null,
      "outputs": []
    }
  ]
}