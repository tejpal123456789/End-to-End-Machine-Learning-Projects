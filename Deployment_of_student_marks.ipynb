{
  "nbformat": 4,
  "nbformat_minor": 0,
  "metadata": {
    "colab": {
      "name": "Deployment_of_student_marks.ipynb",
      "provenance": [],
      "mount_file_id": "1qo7OufG1EsMov6c3LeLadvIAguO_svXU",
      "authorship_tag": "ABX9TyP2vQJoTq0eL4fk4Es0cJ1Q",
      "include_colab_link": true
    },
    "kernelspec": {
      "name": "python3",
      "display_name": "Python 3"
    },
    "accelerator": "GPU"
  },
  "cells": [
    {
      "cell_type": "markdown",
      "metadata": {
        "id": "view-in-github",
        "colab_type": "text"
      },
      "source": [
        "<a href=\"https://colab.research.google.com/github/tejpal123456789/End-to-End-Machine-Learning-Projects/blob/main/Deployment_of_student_marks.ipynb\" target=\"_parent\"><img src=\"https://colab.research.google.com/assets/colab-badge.svg\" alt=\"Open In Colab\"/></a>"
      ]
    },
    {
      "cell_type": "code",
      "metadata": {
        "colab": {
          "base_uri": "https://localhost:8080/"
        },
        "id": "jIFhDMkoPEAe",
        "outputId": "620143b1-02db-4203-9149-c5e2108fa070"
      },
      "source": [
        "!pip install flask-ngrok"
      ],
      "execution_count": null,
      "outputs": [
        {
          "output_type": "stream",
          "text": [
            "Requirement already satisfied: flask-ngrok in /usr/local/lib/python3.6/dist-packages (0.0.25)\n",
            "Requirement already satisfied: Flask>=0.8 in /usr/local/lib/python3.6/dist-packages (from flask-ngrok) (1.1.2)\n",
            "Requirement already satisfied: requests in /usr/local/lib/python3.6/dist-packages (from flask-ngrok) (2.23.0)\n",
            "Requirement already satisfied: Werkzeug>=0.15 in /usr/local/lib/python3.6/dist-packages (from Flask>=0.8->flask-ngrok) (1.0.1)\n",
            "Requirement already satisfied: click>=5.1 in /usr/local/lib/python3.6/dist-packages (from Flask>=0.8->flask-ngrok) (7.1.2)\n",
            "Requirement already satisfied: Jinja2>=2.10.1 in /usr/local/lib/python3.6/dist-packages (from Flask>=0.8->flask-ngrok) (2.11.2)\n",
            "Requirement already satisfied: itsdangerous>=0.24 in /usr/local/lib/python3.6/dist-packages (from Flask>=0.8->flask-ngrok) (1.1.0)\n",
            "Requirement already satisfied: chardet<4,>=3.0.2 in /usr/local/lib/python3.6/dist-packages (from requests->flask-ngrok) (3.0.4)\n",
            "Requirement already satisfied: certifi>=2017.4.17 in /usr/local/lib/python3.6/dist-packages (from requests->flask-ngrok) (2020.12.5)\n",
            "Requirement already satisfied: urllib3!=1.25.0,!=1.25.1,<1.26,>=1.21.1 in /usr/local/lib/python3.6/dist-packages (from requests->flask-ngrok) (1.24.3)\n",
            "Requirement already satisfied: idna<3,>=2.5 in /usr/local/lib/python3.6/dist-packages (from requests->flask-ngrok) (2.10)\n",
            "Requirement already satisfied: MarkupSafe>=0.23 in /usr/local/lib/python3.6/dist-packages (from Jinja2>=2.10.1->Flask>=0.8->flask-ngrok) (1.1.1)\n"
          ],
          "name": "stdout"
        }
      ]
    },
    {
      "cell_type": "markdown",
      "metadata": {
        "id": "-9qZw1fNPSpJ"
      },
      "source": [
        "HTML CODE\n"
      ]
    },
    {
      "cell_type": "code",
      "metadata": {
        "id": "OKQJOzEGPUAB"
      },
      "source": [
        "import os\n",
        "os.makedirs('templates', exist_ok=True)\n",
        "os.makedirs('statics', exist_ok=True)\n",
        "\n"
      ],
      "execution_count": null,
      "outputs": []
    },
    {
      "cell_type": "code",
      "metadata": {
        "id": "hKr0pk9WQtCi"
      },
      "source": [
        "text= '''\n",
        "<!doctype html>\n",
        "<html lang=\"en\">\n",
        "<head>\n",
        "<title>Student Marks</title>\n",
        "</head>\n",
        "<body>\n",
        " <div class=\"login\">\n",
        "    <h1>Predict Student marks </h1>\n",
        " \n",
        "     <!-- Main Input For Receiving Query to our ML -->\n",
        "    <form action=\"{{ url_for('predict')}}\"method=\"post\">\n",
        "        <input type=\"text\" name=\"Study Hours\" placeholder=\"Student Study Hours are \" required=\"required\" />\n",
        " \n",
        "        <button type=\"submit\" class=\"btn btn-primary btn-block btn-large\">predict</button>\n",
        "    </form>\n",
        " \n",
        "   <br></br>\n",
        "   <h2>{{ prediction_text }}</h2>\n",
        "   \n",
        " \n",
        " </div>\n",
        " \n",
        " \n",
        "</body>\n",
        "</html>\n",
        "'''\n",
        "file=open('templates/text.html','w')\n",
        "file.write(text)\n",
        "file.close()"
      ],
      "execution_count": null,
      "outputs": []
    },
    {
      "cell_type": "code",
      "metadata": {
        "id": "jLknb1-gP76Z"
      },
      "source": [
        "import pickle\n",
        "student_marks=pickle.load(open('/content/drive/MyDrive/End to end machine learning Projects/Student marks/student_marks.pkl','rb'))\n",
        " \n",
        " \n",
        " \n",
        "file2=open('templates/student_marks.pkl','w')\n",
        "file2.write('student_marks')\n",
        "file2.close()"
      ],
      "execution_count": null,
      "outputs": []
    },
    {
      "cell_type": "code",
      "metadata": {
        "id": "G3ym4PzSQMTT",
        "colab": {
          "base_uri": "https://localhost:8080/"
        },
        "outputId": "b927b4aa-402a-459f-898a-af9d5f0f3112"
      },
      "source": [
        "from flask import Flask,render_template,request\n",
        "from flask_ngrok import run_with_ngrok\n",
        "import numpy as np\n",
        "app=Flask(__name__)\n",
        "import pickle\n",
        "run_with_ngrok(app)\n",
        "model=pickle.load(open('/content/drive/MyDrive/End to end machine learning Projects/Student marks/student_marks.pkl','rb'))\n",
        "\n",
        "@app.route('/')\n",
        "\n",
        "def text():\n",
        "    return render_template('text.html')\n",
        "\n",
        "@app.route('/predict',methods=['POST'])  \n",
        "\n",
        "def predict():\n",
        "\n",
        "    input_features=[float(x) for x in request.form.values()]  \n",
        "    features_value=[np.array(input_features)]\n",
        "    prediction = model.predict(features_value)\n",
        "\n",
        "    output = round(prediction[0], 2)\n",
        "   \n",
        "    return render_template('text.html',prediction_text='Student will get {} % marks in Endsemester Exams'.format(output))\n",
        "\n",
        "if __name__=='__main__':\n",
        "    app.run()"
      ],
      "execution_count": null,
      "outputs": [
        {
          "output_type": "stream",
          "text": [
            " * Serving Flask app \"__main__\" (lazy loading)\n",
            " * Environment: production\n",
            "\u001b[31m   WARNING: This is a development server. Do not use it in a production deployment.\u001b[0m\n",
            "\u001b[2m   Use a production WSGI server instead.\u001b[0m\n",
            " * Debug mode: off\n"
          ],
          "name": "stdout"
        },
        {
          "output_type": "stream",
          "text": [
            " * Running on http://127.0.0.1:5000/ (Press CTRL+C to quit)\n"
          ],
          "name": "stderr"
        },
        {
          "output_type": "stream",
          "text": [
            " * Running on http://a1e7c2e51aee.ngrok.io\n",
            " * Traffic stats available on http://127.0.0.1:4040\n"
          ],
          "name": "stdout"
        },
        {
          "output_type": "stream",
          "text": [
            "127.0.0.1 - - [11/Dec/2020 04:24:49] \"\u001b[37mGET / HTTP/1.1\u001b[0m\" 200 -\n",
            "127.0.0.1 - - [11/Dec/2020 04:24:49] \"\u001b[33mGET /favicon.ico HTTP/1.1\u001b[0m\" 404 -\n",
            "127.0.0.1 - - [11/Dec/2020 04:24:53] \"\u001b[37mPOST /predict HTTP/1.1\u001b[0m\" 200 -\n"
          ],
          "name": "stderr"
        }
      ]
    }
  ]
}